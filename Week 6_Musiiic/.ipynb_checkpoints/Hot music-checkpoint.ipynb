{
 "cells": [
  {
   "cell_type": "code",
   "execution_count": 1,
   "id": "6d56c850",
   "metadata": {},
   "outputs": [
    {
     "name": "stdout",
     "output_type": "stream",
     "text": [
      "Intel MKL WARNING: Support of Intel(R) Streaming SIMD Extensions 4.2 (Intel(R) SSE4.2) enabled only processors has been deprecated. Intel oneAPI Math Kernel Library 2025.0 will require Intel(R) Advanced Vector Extensions (Intel(R) AVX) instructions.\n",
      "Intel MKL WARNING: Support of Intel(R) Streaming SIMD Extensions 4.2 (Intel(R) SSE4.2) enabled only processors has been deprecated. Intel oneAPI Math Kernel Library 2025.0 will require Intel(R) Advanced Vector Extensions (Intel(R) AVX) instructions.\n"
     ]
    }
   ],
   "source": [
    "from bs4 import BeautifulSoup\n",
    "import requests\n",
    "import pandas as pd"
   ]
  },
  {
   "cell_type": "code",
   "execution_count": 2,
   "id": "a9769ead",
   "metadata": {},
   "outputs": [],
   "source": [
    "url = \"https://www.billboard.com/charts/hot-100/#\"\n",
    "response = requests.get(url)\n",
    "soup = BeautifulSoup(response.content)\n",
    "soup = BeautifulSoup(response.content, \"html.parser\")\n",
    "\n",
    "\n",
    "hiss= soup.select(\"h3.c-title.a-font-primary-bold-l\")"
   ]
  },
  {
   "cell_type": "code",
   "execution_count": 3,
   "id": "a10d7300",
   "metadata": {},
   "outputs": [
    {
     "data": {
      "text/plain": [
       "<h3 class=\"c-title a-font-primary-bold-l a-font-primary-bold-m@mobile-max lrv-u-color-black u-color-white@mobile-max lrv-u-margin-r-150\" id=\"\">\n",
       "<a class=\"c-title__link lrv-a-unstyle-link\" href=\"#\">\n",
       "\t\n",
       "\t\t\n",
       "\t\t\t\t\tHiss\t\t\n",
       "\t\t\t\t\t</a>\n",
       "</h3>"
      ]
     },
     "execution_count": 3,
     "metadata": {},
     "output_type": "execute_result"
    }
   ],
   "source": [
    "hiss[0]#.get_text()"
   ]
  },
  {
   "cell_type": "code",
   "execution_count": 4,
   "id": "7dbf2a4d",
   "metadata": {},
   "outputs": [
    {
     "data": {
      "text/plain": [
       "'\\n\\n\\t\\n\\t\\t\\n\\t\\t\\t\\t\\tHiss\\t\\t\\n\\t\\t\\t\\t\\t\\n'"
      ]
     },
     "execution_count": 4,
     "metadata": {},
     "output_type": "execute_result"
    }
   ],
   "source": [
    "hiss[0].get_text()#.strip() getting rid of empty spaces"
   ]
  },
  {
   "cell_type": "code",
   "execution_count": 5,
   "id": "a53c07b8",
   "metadata": {},
   "outputs": [
    {
     "data": {
      "text/plain": [
       "'Hiss'"
      ]
     },
     "execution_count": 5,
     "metadata": {},
     "output_type": "execute_result"
    }
   ],
   "source": [
    "hiss[0].get_text(strip= True)"
   ]
  },
  {
   "cell_type": "code",
   "execution_count": 6,
   "id": "6983ff3d",
   "metadata": {
    "scrolled": true
   },
   "outputs": [
    {
     "data": {
      "text/plain": [
       "['Hiss',\n",
       " 'Lovin On Me',\n",
       " 'Cruel Summer',\n",
       " 'Lose Control',\n",
       " 'Greedy',\n",
       " 'I Remember Everything',\n",
       " 'Agora Hills',\n",
       " 'Beautiful Things',\n",
       " 'Redrum',\n",
       " 'Snooze',\n",
       " 'Water',\n",
       " 'Stick Season',\n",
       " 'Paint The Town Red',\n",
       " 'Last Night',\n",
       " \"Thinkin' Bout Me\",\n",
       " 'Facts',\n",
       " 'Yes, And?',\n",
       " 'Never Lose Me',\n",
       " 'Selfish',\n",
       " 'Fast Car',\n",
       " \"Is It Over Now? (Taylor's Version) [From The Vault]\",\n",
       " 'La Diabla',\n",
       " 'Big Foot',\n",
       " 'Spin You Around (1/24)',\n",
       " 'White Horse',\n",
       " 'Everybody',\n",
       " 'Pretty Little Poison',\n",
       " 'Made For Me',\n",
       " 'Rich Baby Daddy',\n",
       " 'Houdini',\n",
       " 'What Was I Made For?',\n",
       " 'Flowers',\n",
       " 'Where The Wild Things Are',\n",
       " 'Igual Que Un Angel',\n",
       " 'Wild Ones',\n",
       " 'Feather',\n",
       " 'Think U The Shit (Fart)',\n",
       " 'Lil Boo Thang',\n",
       " 'Fukumean',\n",
       " 'FTCU',\n",
       " 'Need A Favor',\n",
       " 'Good Good',\n",
       " 'Dance The Night',\n",
       " 'The Painter',\n",
       " 'First Person Shooter',\n",
       " 'Vampire',\n",
       " 'Surround Sound',\n",
       " 'World On Fire',\n",
       " 'Save Me',\n",
       " 'On My Mama',\n",
       " 'Truck Bed',\n",
       " 'My Love Mine All Mine',\n",
       " 'La Victima',\n",
       " 'Exes',\n",
       " 'Strangers',\n",
       " 'Nee-nah',\n",
       " 'Murder On The Dancefloor',\n",
       " 'One Of The Girls',\n",
       " 'Act II: Date @ 8',\n",
       " 'Burn It Down',\n",
       " 'You Broke My Heart',\n",
       " 'Harley Quinn',\n",
       " 'Bellakeo',\n",
       " 'Man Made A Bar',\n",
       " 'IDGAF',\n",
       " \"Different 'Round Here\",\n",
       " 'Monaco',\n",
       " '500lbs',\n",
       " 'Soak City',\n",
       " 'Prove It',\n",
       " 'N.H.I.E.',\n",
       " 'All Of Me',\n",
       " 'I Can Feel It',\n",
       " 'Praise Jah In The Moonlight',\n",
       " '23',\n",
       " \"Should've Wore A Bonnet\",\n",
       " 'Home',\n",
       " 'Mmhmm',\n",
       " 'One Call',\n",
       " \"We Don't Fight Anymore\",\n",
       " 'FE!N',\n",
       " 'Que Onda',\n",
       " 'Perro Negro',\n",
       " \"Mamaw's House\",\n",
       " 'Y Lloro',\n",
       " 'Oklahoma Smokeshow',\n",
       " 'Coal',\n",
       " 'No Caller ID',\n",
       " 'Creek Will Rise',\n",
       " 'Wondering Why',\n",
       " 'First Love',\n",
       " 'La Intencion',\n",
       " '02.02.99',\n",
       " 'Standing Next To You',\n",
       " 'Sneaky',\n",
       " 'Wildflowers And Wild Horses',\n",
       " 'Northern Attitude',\n",
       " 'All I Need Is You',\n",
       " 'My Eyes',\n",
       " 'Worth It']"
      ]
     },
     "execution_count": 6,
     "metadata": {},
     "output_type": "execute_result"
    }
   ],
   "source": [
    "songs= []\n",
    "for song in soup.select(\"li.o-chart-results-list__item h3.c-title\"):# span titles inside li element class booklink, just space to get the final\n",
    "    songs.append(song.get_text(strip=True))\n",
    "    \n",
    "songs"
   ]
  },
  {
   "cell_type": "code",
   "execution_count": 7,
   "id": "65b48f0b",
   "metadata": {
    "scrolled": true
   },
   "outputs": [
    {
     "data": {
      "text/plain": [
       "100"
      ]
     },
     "execution_count": 7,
     "metadata": {},
     "output_type": "execute_result"
    }
   ],
   "source": [
    "singers= []\n",
    "for singer in soup.select(\"li.o-chart-results-list__item span.c-label.a-no-trucate\"):# span titles inside li element class booklink, just space to get the final\n",
    "    singers.append(singer.get_text(strip=True))\n",
    "    \n",
    "len(singers)"
   ]
  },
  {
   "cell_type": "code",
   "execution_count": 8,
   "id": "be677586",
   "metadata": {},
   "outputs": [
    {
     "data": {
      "text/html": [
       "<div>\n",
       "<style scoped>\n",
       "    .dataframe tbody tr th:only-of-type {\n",
       "        vertical-align: middle;\n",
       "    }\n",
       "\n",
       "    .dataframe tbody tr th {\n",
       "        vertical-align: top;\n",
       "    }\n",
       "\n",
       "    .dataframe thead th {\n",
       "        text-align: right;\n",
       "    }\n",
       "</style>\n",
       "<table border=\"1\" class=\"dataframe\">\n",
       "  <thead>\n",
       "    <tr style=\"text-align: right;\">\n",
       "      <th></th>\n",
       "      <th>song</th>\n",
       "      <th>artist</th>\n",
       "    </tr>\n",
       "  </thead>\n",
       "  <tbody>\n",
       "    <tr>\n",
       "      <th>0</th>\n",
       "      <td>Hiss</td>\n",
       "      <td>Megan Thee Stallion</td>\n",
       "    </tr>\n",
       "    <tr>\n",
       "      <th>1</th>\n",
       "      <td>Lovin On Me</td>\n",
       "      <td>Jack Harlow</td>\n",
       "    </tr>\n",
       "    <tr>\n",
       "      <th>2</th>\n",
       "      <td>Cruel Summer</td>\n",
       "      <td>Taylor Swift</td>\n",
       "    </tr>\n",
       "    <tr>\n",
       "      <th>3</th>\n",
       "      <td>Lose Control</td>\n",
       "      <td>Teddy Swims</td>\n",
       "    </tr>\n",
       "    <tr>\n",
       "      <th>4</th>\n",
       "      <td>Greedy</td>\n",
       "      <td>Tate McRae</td>\n",
       "    </tr>\n",
       "    <tr>\n",
       "      <th>...</th>\n",
       "      <td>...</td>\n",
       "      <td>...</td>\n",
       "    </tr>\n",
       "    <tr>\n",
       "      <th>95</th>\n",
       "      <td>Wildflowers And Wild Horses</td>\n",
       "      <td>Lainey Wilson</td>\n",
       "    </tr>\n",
       "    <tr>\n",
       "      <th>96</th>\n",
       "      <td>Northern Attitude</td>\n",
       "      <td>Noah Kahan With Hozier</td>\n",
       "    </tr>\n",
       "    <tr>\n",
       "      <th>97</th>\n",
       "      <td>All I Need Is You</td>\n",
       "      <td>Chris Janson</td>\n",
       "    </tr>\n",
       "    <tr>\n",
       "      <th>98</th>\n",
       "      <td>My Eyes</td>\n",
       "      <td>Travis Scott</td>\n",
       "    </tr>\n",
       "    <tr>\n",
       "      <th>99</th>\n",
       "      <td>Worth It</td>\n",
       "      <td>Offset &amp; Don Toliver</td>\n",
       "    </tr>\n",
       "  </tbody>\n",
       "</table>\n",
       "<p>100 rows × 2 columns</p>\n",
       "</div>"
      ],
      "text/plain": [
       "                           song                  artist\n",
       "0                          Hiss     Megan Thee Stallion\n",
       "1                   Lovin On Me             Jack Harlow\n",
       "2                  Cruel Summer            Taylor Swift\n",
       "3                  Lose Control             Teddy Swims\n",
       "4                        Greedy              Tate McRae\n",
       "..                          ...                     ...\n",
       "95  Wildflowers And Wild Horses           Lainey Wilson\n",
       "96            Northern Attitude  Noah Kahan With Hozier\n",
       "97            All I Need Is You            Chris Janson\n",
       "98                      My Eyes            Travis Scott\n",
       "99                     Worth It    Offset & Don Toliver\n",
       "\n",
       "[100 rows x 2 columns]"
      ]
     },
     "execution_count": 8,
     "metadata": {},
     "output_type": "execute_result"
    }
   ],
   "source": [
    "top_pop_songs = pd.DataFrame({'song': songs, 'artist':singers})\n",
    "top_pop_songs"
   ]
  },
  {
   "cell_type": "code",
   "execution_count": 17,
   "id": "88108115",
   "metadata": {},
   "outputs": [],
   "source": [
    "url = \"https://www.popvortex.com/music/charts/top-latin-songs.php\"\n",
    "response = requests.get(url)\n",
    "soup = BeautifulSoup(response.content)\n",
    "soup = BeautifulSoup(response.content, \"html.parser\")\n"
   ]
  },
  {
   "cell_type": "code",
   "execution_count": 20,
   "id": "ddb8f145",
   "metadata": {
    "scrolled": true
   },
   "outputs": [
    {
     "data": {
      "text/plain": [
       "['Igual Que Un Ángel',\n",
       " 'La Diabla',\n",
       " 'La Víctima',\n",
       " 'Gasolina (Dj Buddha Remix)',\n",
       " 'MONACO',\n",
       " 'Sugar Daddy (feat. Flo Rida & Jowell & Randy)',\n",
       " 'BELLAKEO',\n",
       " 'La Suma',\n",
       " 'QLONA',\n",
       " 'Según Quién',\n",
       " 'Tití Me Preguntó',\n",
       " 'POR EL CONTRARIO (with Leonardo Aguilar & Ángela Aguilar)',\n",
       " 'HARLEY QUINN',\n",
       " 'First Love',\n",
       " 'Pepas',\n",
       " 'Bailando Bachata',\n",
       " 'Whenever, Wherever',\n",
       " 'La Primera Cita',\n",
       " 'Te Lo Agradezco',\n",
       " \"Livin' la Vida Loca\",\n",
       " 'Danza Kuduro (feat. Lucenzo)',\n",
       " 'AMARGURA',\n",
       " 'Ella Baila Sola',\n",
       " 'TQG',\n",
       " 'Dreaming Of You',\n",
       " 'MI EX TENÍA RAZÓN',\n",
       " 'La Intención',\n",
       " 'Necesito Encontrarte (En Vivo)',\n",
       " 'Overnight',\n",
       " 'La Cumbia Triste',\n",
       " 'LADY GAGA',\n",
       " 'PERRO NEGRO',\n",
       " 'BONITA',\n",
       " 'Somos Latinos',\n",
       " 'BAD BOY (feat. Anuel AA & Ozuna)',\n",
       " 'Porte de Scarface',\n",
       " 'Madrid City',\n",
       " 'Vivir Mi Vida',\n",
       " 'Suavemente',\n",
       " 'Conga',\n",
       " 'Despacito',\n",
       " 'telepatía',\n",
       " 'un x100to',\n",
       " 'Bebe Dame',\n",
       " 'Confieso',\n",
       " 'TULUM',\n",
       " 'Give Me Everything (feat. Afrojack, Nayer and Neyo)',\n",
       " 'Qué Agonía',\n",
       " 'Qué Onda',\n",
       " 'Punta Cana',\n",
       " 'Fría',\n",
       " 'Regalo De Dios',\n",
       " 'Historia',\n",
       " 'BLING BLING',\n",
       " 'Lagabog',\n",
       " 'Macarena (Bayside Boys Remix)',\n",
       " 'Eres Mía',\n",
       " 'MAMIII',\n",
       " 'La Chona',\n",
       " 'I Could Fall In Love',\n",
       " 'LALA',\n",
       " 'EL AMOR DE SU VIDA',\n",
       " 'El Merengue',\n",
       " 'Poco A Poco',\n",
       " 'Modo DND',\n",
       " 'DILUVIO',\n",
       " 'Alucin',\n",
       " 'Freak 54 (Freak Out)',\n",
       " 'LA FALDA',\n",
       " 'Gordo',\n",
       " 'Te Ves Tan Bien',\n",
       " 'Qué Bendición',\n",
       " 'Gracias por Nada',\n",
       " 'Promise (feat. Usher)',\n",
       " 'DUELE EL CORAZON (feat. Wisin)',\n",
       " 'Ocean',\n",
       " 'Yo Te Extrañaré',\n",
       " 'Que Vuelvas',\n",
       " 'La Bachata',\n",
       " 'La Bebe (Remix)',\n",
       " 'Yo Voy (feat. Daddy Yankee)',\n",
       " 'Como La Flor',\n",
       " 'Dile',\n",
       " 'Bidi Bidi Bom Bom',\n",
       " 'Bandoleros (feat. Tego Calderón)',\n",
       " 'MAÑANA SERÁ BONITO',\n",
       " 'RUBICON',\n",
       " 'Casate Conmigo (feat. Jennifer Peña)',\n",
       " 'GUCCI LOS PAÑOS',\n",
       " 'Freed from Desire',\n",
       " 'Lo Tienes Todo',\n",
       " 'ASI ES LA VIDA',\n",
       " 'Labios Mordidos',\n",
       " 'LUNA',\n",
       " 'Young Miko: Bzrp Music Sessions, Vol. 58',\n",
       " 'BYE',\n",
       " 'Alch Si',\n",
       " 'Casi Completa',\n",
       " 'PLIS',\n",
       " 'Cosas de la Peda (feat. Gabito Ballesteros) [feat. Gabito Ballesteros]']"
      ]
     },
     "execution_count": 20,
     "metadata": {},
     "output_type": "execute_result"
    }
   ],
   "source": [
    "l_songs= []\n",
    "for song in soup.select(\"p.title-artist cite.title\"):\n",
    "    l_songs.append(song.get_text())\n",
    "    \n",
    "l_songs"
   ]
  },
  {
   "cell_type": "code",
   "execution_count": 21,
   "id": "e9f88c51",
   "metadata": {
    "scrolled": true
   },
   "outputs": [
    {
     "data": {
      "text/plain": [
       "['Kali Uchis & Peso Pluma',\n",
       " 'Xavi',\n",
       " 'Xavi',\n",
       " 'Daddy Yankee, Lil Jon, Noriega & Pitbull',\n",
       " 'Bad Bunny',\n",
       " 'Oya Baby, El Alfa & Alex Sensation',\n",
       " 'Peso Pluma & Anitta',\n",
       " 'Javier Rosas y Su Artillería Pesada & Lupe Borbon y su Blindaje 7',\n",
       " 'KAROL G & Peso Pluma',\n",
       " 'Maluma & Carin Leon',\n",
       " 'Bad Bunny',\n",
       " 'Becky G',\n",
       " 'Fuerza Regida & Marshmello',\n",
       " 'Oscar Ortiz & Edgardo Nuñez',\n",
       " 'Farruko',\n",
       " 'Chayanne',\n",
       " 'Shakira',\n",
       " 'Carin Leon',\n",
       " 'Kany García & Carin Leon',\n",
       " 'Ricky Martin',\n",
       " 'Don Omar',\n",
       " 'KAROL G',\n",
       " 'Eslabon Armado & Peso Pluma',\n",
       " 'KAROL G & Shakira',\n",
       " 'Selena',\n",
       " 'KAROL G',\n",
       " 'Christian Nodal & Peso Pluma',\n",
       " 'Carin Leon',\n",
       " 'Connor Price & Tommy Royale',\n",
       " 'Los Ángeles Azules & Alejandro Fernández',\n",
       " 'Peso Pluma, Gabito Ballesteros & Junior H',\n",
       " 'Bad Bunny & Feid',\n",
       " 'Daddy Yankee',\n",
       " 'Play-N-Skillz, Gente de Zona & Dale Pututi',\n",
       " 'Chris Jedi, Gaby Music & Dei V',\n",
       " 'Chuy Montana',\n",
       " 'Ana Mena',\n",
       " 'Marc Anthony',\n",
       " 'Elvis Crespo',\n",
       " 'Gloria Estefan & Gloria Estefan & Miami Sound Machine',\n",
       " 'Luis Fonsi & Daddy Yankee',\n",
       " 'Kali Uchis',\n",
       " 'Grupo Frontera & Bad Bunny',\n",
       " 'Fuerza Regida & Grupo Frontera',\n",
       " 'Kany García',\n",
       " 'Peso Pluma & Grupo Frontera',\n",
       " 'Pitbull',\n",
       " 'Yuridia & Ángela Aguilar',\n",
       " 'Calle 24, Chino Pacas & Fuerza Regida',\n",
       " 'Marc Anthony',\n",
       " 'Enrique Iglesias & Yotuel',\n",
       " 'Julión Álvarez y su Norteño Banda',\n",
       " 'Jay Wheeler',\n",
       " 'Maluma, Octavio Cuadras & Grupo Marca Registrada',\n",
       " 'Skusta Clee',\n",
       " 'Los del Río',\n",
       " 'Romeo Santos',\n",
       " 'Becky G & KAROL G',\n",
       " 'Los Tucanes de Tijuana',\n",
       " 'Selena',\n",
       " 'Myke Towers',\n",
       " 'Grupo Frontera & Grupo Firme',\n",
       " 'Marshmello & Manuel Turizo',\n",
       " 'Xavi & Los Dareyes De La Sierra',\n",
       " 'Xavi & Tony Aguirre',\n",
       " 'Rauw Alejandro',\n",
       " 'Eugenio Esquivel, Grupo Marca Registrada & Sebastian Esquivel',\n",
       " 'Pitbull & Nile Rodgers',\n",
       " 'Myke Towers',\n",
       " 'Camilo',\n",
       " 'La Pocima Norteña & La Maquinaria Norteña',\n",
       " 'Chuy Montana',\n",
       " 'Reik',\n",
       " 'Romeo Santos',\n",
       " 'Enrique Iglesias',\n",
       " 'KAROL G',\n",
       " 'Tercer Cielo',\n",
       " 'Carin Leon & Grupo Frontera',\n",
       " 'Manuel Turizo',\n",
       " 'Yng Lvcas & Peso Pluma',\n",
       " 'Zion & Lennox',\n",
       " 'Selena',\n",
       " 'Don Omar',\n",
       " 'Selena',\n",
       " 'Don Omar',\n",
       " 'KAROL G & Carla Morrison',\n",
       " 'Peso Pluma',\n",
       " 'Siggno',\n",
       " 'KAROL G',\n",
       " 'Gala',\n",
       " 'Julión Álvarez y su Norteño Banda',\n",
       " 'Enrique Iglesias & Maria Becerra',\n",
       " 'Kali Uchis & KAROL G',\n",
       " 'Feid & ATL Jacob',\n",
       " 'Bizarrap & Young Miko',\n",
       " 'Peso Pluma',\n",
       " 'Carin Leon & Grupo Frontera',\n",
       " 'Julión Álvarez y su Norteño Banda',\n",
       " 'Camilo & Evaluna Montaner',\n",
       " 'Prince Royce']"
      ]
     },
     "execution_count": 21,
     "metadata": {},
     "output_type": "execute_result"
    }
   ],
   "source": [
    "l_artists= []\n",
    "for artist in soup.select(\"p.title-artist em.artist\"):\n",
    "    l_artists.append(artist.get_text())\n",
    "    \n",
    "l_artists"
   ]
  },
  {
   "cell_type": "code",
   "execution_count": 23,
   "id": "ed6e05f7",
   "metadata": {},
   "outputs": [
    {
     "data": {
      "text/html": [
       "<div>\n",
       "<style scoped>\n",
       "    .dataframe tbody tr th:only-of-type {\n",
       "        vertical-align: middle;\n",
       "    }\n",
       "\n",
       "    .dataframe tbody tr th {\n",
       "        vertical-align: top;\n",
       "    }\n",
       "\n",
       "    .dataframe thead th {\n",
       "        text-align: right;\n",
       "    }\n",
       "</style>\n",
       "<table border=\"1\" class=\"dataframe\">\n",
       "  <thead>\n",
       "    <tr style=\"text-align: right;\">\n",
       "      <th></th>\n",
       "      <th>latin_song</th>\n",
       "      <th>latin_artist</th>\n",
       "    </tr>\n",
       "  </thead>\n",
       "  <tbody>\n",
       "    <tr>\n",
       "      <th>0</th>\n",
       "      <td>Igual Que Un Ángel</td>\n",
       "      <td>Kali Uchis &amp; Peso Pluma</td>\n",
       "    </tr>\n",
       "    <tr>\n",
       "      <th>1</th>\n",
       "      <td>La Diabla</td>\n",
       "      <td>Xavi</td>\n",
       "    </tr>\n",
       "    <tr>\n",
       "      <th>2</th>\n",
       "      <td>La Víctima</td>\n",
       "      <td>Xavi</td>\n",
       "    </tr>\n",
       "    <tr>\n",
       "      <th>3</th>\n",
       "      <td>Gasolina (Dj Buddha Remix)</td>\n",
       "      <td>Daddy Yankee, Lil Jon, Noriega &amp; Pitbull</td>\n",
       "    </tr>\n",
       "    <tr>\n",
       "      <th>4</th>\n",
       "      <td>MONACO</td>\n",
       "      <td>Bad Bunny</td>\n",
       "    </tr>\n",
       "    <tr>\n",
       "      <th>...</th>\n",
       "      <td>...</td>\n",
       "      <td>...</td>\n",
       "    </tr>\n",
       "    <tr>\n",
       "      <th>95</th>\n",
       "      <td>BYE</td>\n",
       "      <td>Peso Pluma</td>\n",
       "    </tr>\n",
       "    <tr>\n",
       "      <th>96</th>\n",
       "      <td>Alch Si</td>\n",
       "      <td>Carin Leon &amp; Grupo Frontera</td>\n",
       "    </tr>\n",
       "    <tr>\n",
       "      <th>97</th>\n",
       "      <td>Casi Completa</td>\n",
       "      <td>Julión Álvarez y su Norteño Banda</td>\n",
       "    </tr>\n",
       "    <tr>\n",
       "      <th>98</th>\n",
       "      <td>PLIS</td>\n",
       "      <td>Camilo &amp; Evaluna Montaner</td>\n",
       "    </tr>\n",
       "    <tr>\n",
       "      <th>99</th>\n",
       "      <td>Cosas de la Peda (feat. Gabito Ballesteros) [f...</td>\n",
       "      <td>Prince Royce</td>\n",
       "    </tr>\n",
       "  </tbody>\n",
       "</table>\n",
       "<p>100 rows × 2 columns</p>\n",
       "</div>"
      ],
      "text/plain": [
       "                                           latin_song  \\\n",
       "0                                  Igual Que Un Ángel   \n",
       "1                                           La Diabla   \n",
       "2                                          La Víctima   \n",
       "3                          Gasolina (Dj Buddha Remix)   \n",
       "4                                              MONACO   \n",
       "..                                                ...   \n",
       "95                                                BYE   \n",
       "96                                            Alch Si   \n",
       "97                                      Casi Completa   \n",
       "98                                               PLIS   \n",
       "99  Cosas de la Peda (feat. Gabito Ballesteros) [f...   \n",
       "\n",
       "                                latin_artist  \n",
       "0                    Kali Uchis & Peso Pluma  \n",
       "1                                       Xavi  \n",
       "2                                       Xavi  \n",
       "3   Daddy Yankee, Lil Jon, Noriega & Pitbull  \n",
       "4                                  Bad Bunny  \n",
       "..                                       ...  \n",
       "95                                Peso Pluma  \n",
       "96               Carin Leon & Grupo Frontera  \n",
       "97         Julión Álvarez y su Norteño Banda  \n",
       "98                 Camilo & Evaluna Montaner  \n",
       "99                              Prince Royce  \n",
       "\n",
       "[100 rows x 2 columns]"
      ]
     },
     "execution_count": 23,
     "metadata": {},
     "output_type": "execute_result"
    }
   ],
   "source": [
    "top_latin_songs = pd.DataFrame({'latin_song': l_songs, 'latin_artist':l_artists})\n",
    "top_latin_songs.to_csv(\"latin_top_songs.csv\")"
   ]
  },
  {
   "cell_type": "code",
   "execution_count": 33,
   "id": "dab7e40d",
   "metadata": {
    "scrolled": false
   },
   "outputs": [
    {
     "data": {
      "text/plain": [
       "200"
      ]
     },
     "execution_count": 33,
     "metadata": {},
     "output_type": "execute_result"
    }
   ],
   "source": [
    "url = \"https://www.shazam.com/charts/top-200/mexico\"\n",
    "response= requests.get(url)\n",
    "soup= BeautifulSoup (response.content)\n",
    "response.status_code"
   ]
  },
  {
   "cell_type": "code",
   "execution_count": 40,
   "id": "6dedb884",
   "metadata": {},
   "outputs": [
    {
     "data": {
      "text/plain": [
       "[]"
      ]
     },
     "execution_count": 40,
     "metadata": {},
     "output_type": "execute_result"
    }
   ],
   "source": [
    "soup.select('a[href=\"https://music.apple.com/de/album/yeah-feat-lil-jon-ludacris/386153476?i=386153478\"]')"
   ]
  },
  {
   "cell_type": "code",
   "execution_count": 30,
   "id": "7db678ba",
   "metadata": {},
   "outputs": [
    {
     "data": {
      "text/plain": [
       "[]"
      ]
     },
     "execution_count": 30,
     "metadata": {},
     "output_type": "execute_result"
    }
   ],
   "source": [
    "top_mex_songs= []\n",
    "for song in soup.select(\"div.title\"):\n",
    "    top_mex_songs.append(song.get_text())\n",
    "    \n",
    "top_mex_songs"
   ]
  },
  {
   "cell_type": "code",
   "execution_count": null,
   "id": "498d4bc4",
   "metadata": {},
   "outputs": [],
   "source": []
  }
 ],
 "metadata": {
  "kernelspec": {
   "display_name": "Python 3 (ipykernel)",
   "language": "python",
   "name": "python3"
  },
  "language_info": {
   "codemirror_mode": {
    "name": "ipython",
    "version": 3
   },
   "file_extension": ".py",
   "mimetype": "text/x-python",
   "name": "python",
   "nbconvert_exporter": "python",
   "pygments_lexer": "ipython3",
   "version": "3.8.18"
  }
 },
 "nbformat": 4,
 "nbformat_minor": 5
}
