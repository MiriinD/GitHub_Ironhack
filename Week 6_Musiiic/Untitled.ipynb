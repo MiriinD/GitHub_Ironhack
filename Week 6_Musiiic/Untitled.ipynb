{
 "cells": [
  {
   "cell_type": "code",
   "execution_count": 1,
   "id": "ad4360c3-64a7-4d76-a408-d3fea34975d5",
   "metadata": {},
   "outputs": [
    {
     "name": "stdout",
     "output_type": "stream",
     "text": [
      "Collecting package metadata (current_repodata.json): | WARNING conda.models.version:get_matcher(538): Using .* with relational operator is superfluous and deprecated and will be removed in a future version of conda. Your spec was 1.7.1.*, but conda is ignoring the .* and treating it as 1.7.1\n",
      "done\n",
      "Solving environment: - \n",
      "The environment is inconsistent, please check the package plan carefully\n",
      "The following packages are causing the inconsistency:\n",
      "\n",
      "  - defaults/osx-64::spyder-kernels==1.10.2=py38hecd8cb5_0\n",
      "  - defaults/osx-64::pyerfa==1.7.3=py38h9ed2024_0\n",
      "  - defaults/noarch::jupyterlab==3.0.14=pyhd3eb1b0_1\n",
      "  - defaults/osx-64::pywavelets==1.1.1=py38haf1e3a3_2\n",
      "  - defaults/osx-64::bokeh==2.3.2=py38hecd8cb5_0\n",
      "  - defaults/noarch::imageio==2.9.0=pyhd3eb1b0_0\n",
      "  - defaults/osx-64::matplotlib==3.3.4=py38hecd8cb5_0\n",
      "  - defaults/osx-64::bottleneck==1.3.2=py38hf1fa96c_1\n",
      "  - defaults/osx-64::scikit-learn==0.24.1=py38hb2f4e1b_0\n",
      "  - defaults/osx-64::ipython==7.22.0=py38h01d92e1_0\n",
      "  - defaults/noarch::jupyterlab_server==2.4.0=pyhd3eb1b0_0\n",
      "  - defaults/osx-64::scikit-image==0.18.1=py38hb2f4e1b_0\n",
      "  - defaults/osx-64::mkl_fft==1.3.0=py38h4a7008c_2\n",
      "  - defaults/osx-64::anaconda-navigator==2.2.0=py38hecd8cb5_0\n",
      "  - defaults/noarch::nbclient==0.5.3=pyhd3eb1b0_0\n",
      "  - defaults/noarch::conda-repo-cli==1.0.4=pyhd3eb1b0_0\n",
      "  - defaults/noarch::nbclassic==0.2.6=pyhd3eb1b0_0\n",
      "  - defaults/noarch::jupyter_client==6.1.12=pyhd3eb1b0_0\n",
      "  - defaults/osx-64::numba==0.53.1=py38hb2f4e1b_0\n",
      "  - defaults/osx-64::numpy==1.20.1=py38hd6e1bb9_0\n",
      "  - defaults/noarch::sphinx==4.0.1=pyhd3eb1b0_0\n",
      "  - defaults/osx-64::patsy==0.5.1=py38_0\n",
      "  - defaults/osx-64::_ipyw_jlab_nb_ext_conf==0.1.0=py38_0\n",
      "  - defaults/osx-64::anaconda-client==1.7.2=py38_0\n",
      "  - defaults/noarch::pyls-black==0.4.6=hd3eb1b0_0\n",
      "  - defaults/noarch::numpydoc==1.1.0=pyhd3eb1b0_1\n",
      "  - defaults/osx-64::astropy==4.2.1=py38h9ed2024_1\n",
      "  - defaults/osx-64::widgetsnbextension==3.5.1=py38_0\n",
      "  - defaults/noarch::conda-verify==3.4.2=py_1\n",
      "  - defaults/osx-64::tifffile==2020.10.1=py38h0cf3a3e_2\n",
      "  - defaults/osx-64::anaconda==2021.05=py38_0\n",
      "  - defaults/noarch::dask==2021.4.0=pyhd3eb1b0_0\n",
      "  - defaults/noarch::jupyterlab_pygments==0.1.2=py_0\n",
      "  - defaults/osx-64::notebook==6.3.0=py38hecd8cb5_0\n",
      "  - defaults/osx-64::h5py==2.10.0=py38h3134771_0\n",
      "  - defaults/noarch::jupyter_console==6.4.0=pyhd3eb1b0_0\n",
      "  - defaults/osx-64::jupyter==1.0.0=py38_7\n",
      "  - defaults/noarch::ipywidgets==7.6.3=pyhd3eb1b0_1\n",
      "  - defaults/noarch::flask==1.1.2=pyhd3eb1b0_0\n",
      "  - defaults/noarch::black==19.10b0=py_0\n",
      "  - defaults/noarch::anaconda-project==0.9.1=pyhd3eb1b0_1\n",
      "  - defaults/osx-64::ipykernel==5.3.4=py38h5ca1d4c_0\n",
      "  - defaults/osx-64::bkcharts==0.2=py38_0\n",
      "  - defaults/osx-64::spyder==4.2.5=py38hecd8cb5_0\n",
      "  - defaults/osx-64::nbconvert==6.0.7=py38_0\n",
      "  - defaults/osx-64::conda-build==3.21.4=py38hecd8cb5_0\n",
      "  - defaults/osx-64::scipy==1.6.2=py38hd5f7400_1\n",
      "  - defaults/osx-64::mkl_random==1.2.1=py38hb2f4e1b_2\n",
      "  - defaults/noarch::qtconsole==5.0.3=pyhd3eb1b0_0\n",
      "  - defaults/osx-64::jupyter_server==1.4.1=py38hecd8cb5_0\n",
      "  - defaults/osx-64::statsmodels==0.12.2=py38h9ed2024_0\n",
      "  - defaults/osx-64::pytables==3.6.1=py38h4727e94_0\n",
      "  - defaults/osx-64::numexpr==2.7.3=py38h5873af2_1\n",
      "failed with initial frozen solve. Retrying with flexible solve.\n",
      "Solving environment: / ^C\n",
      "failed with repodata from current_repodata.json, will retry with next repodata source.\n",
      "\n",
      "CondaError: KeyboardInterrupt\n",
      "\n",
      "\n",
      "Note: you may need to restart the kernel to use updated packages.\n"
     ]
    }
   ],
   "source": [
    "conda install -c anaconda beautifulsoup4"
   ]
  },
  {
   "cell_type": "code",
   "execution_count": null,
   "id": "be295e33-52cf-4033-b39b-3373dddff686",
   "metadata": {},
   "outputs": [],
   "source": [
    "conda install -c anaconda requests"
   ]
  },
  {
   "cell_type": "code",
   "execution_count": null,
   "id": "99a55f30-717a-49fb-bc59-09a793caf590",
   "metadata": {},
   "outputs": [],
   "source": []
  }
 ],
 "metadata": {
  "kernelspec": {
   "display_name": "Python 3",
   "language": "python",
   "name": "python3"
  },
  "language_info": {
   "codemirror_mode": {
    "name": "ipython",
    "version": 3
   },
   "file_extension": ".py",
   "mimetype": "text/x-python",
   "name": "python",
   "nbconvert_exporter": "python",
   "pygments_lexer": "ipython3",
   "version": "3.8.8"
  }
 },
 "nbformat": 4,
 "nbformat_minor": 5
}
