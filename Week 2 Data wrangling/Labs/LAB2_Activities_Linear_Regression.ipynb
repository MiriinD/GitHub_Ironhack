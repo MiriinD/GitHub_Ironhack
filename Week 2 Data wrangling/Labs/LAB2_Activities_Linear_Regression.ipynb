{
 "cells": [
  {
   "cell_type": "markdown",
   "id": "0522fdee",
   "metadata": {},
   "source": [
    "## Linear Regression\n",
    "X-y split (y is the target variable, in this case, \"total claim amount\")\n",
    "\n",
    "\n",
    "Train-test split.\n",
    "\n",
    "\n",
    "Standardize the data (after the data split!).\n",
    "Apply linear regression.\n",
    "Model Interpretation.\n",
    "\n",
    "(Wednesday)\n",
    "\n",
    "Model Validation\n",
    "\n",
    "\n",
    "Model Evaluation:\n",
    "MSE.\n",
    "RMSE.\n",
    "MAE.\n",
    "R2.\n",
    "Adjusted R2.\n",
    "Feature Importance.\n"
   ]
  },
  {
   "cell_type": "code",
   "execution_count": 1,
   "id": "72dcc825",
   "metadata": {},
   "outputs": [
    {
     "name": "stdout",
     "output_type": "stream",
     "text": [
      "<class 'pandas.core.frame.DataFrame'>\n",
      "RangeIndex: 10910 entries, 0 to 10909\n",
      "Data columns (total 27 columns):\n",
      " #   Column                         Non-Null Count  Dtype  \n",
      "---  ------                         --------------  -----  \n",
      " 0   unnamed:_0                     10910 non-null  int64  \n",
      " 1   customer                       10910 non-null  object \n",
      " 2   state                          10910 non-null  object \n",
      " 3   customer_lifetime_value        10910 non-null  float64\n",
      " 4   response                       10910 non-null  object \n",
      " 5   coverage                       10910 non-null  object \n",
      " 6   education                      10910 non-null  object \n",
      " 7   effective_to_date              10910 non-null  object \n",
      " 8   employmentstatus               10910 non-null  object \n",
      " 9   gender                         10910 non-null  object \n",
      " 10  income                         10910 non-null  int64  \n",
      " 11  location_code                  10910 non-null  object \n",
      " 12  marital_status                 10910 non-null  object \n",
      " 13  monthly_premium_auto           10910 non-null  int64  \n",
      " 14  months_since_last_claim        10910 non-null  float64\n",
      " 15  months_since_policy_inception  10910 non-null  int64  \n",
      " 16  number_of_open_complaints      10910 non-null  float64\n",
      " 17  number_of_policies             10910 non-null  int64  \n",
      " 18  policy_type                    10910 non-null  object \n",
      " 19  policy                         10910 non-null  object \n",
      " 20  renew_offer_type               10910 non-null  object \n",
      " 21  sales_channel                  10910 non-null  object \n",
      " 22  total_claim_amount             10910 non-null  float64\n",
      " 23  vehicle_class                  10910 non-null  object \n",
      " 24  vehicle_size                   10910 non-null  object \n",
      " 25  vehicle_type                   10910 non-null  object \n",
      " 26  month                          10910 non-null  int64  \n",
      "dtypes: float64(4), int64(6), object(17)\n",
      "memory usage: 2.2+ MB\n"
     ]
    }
   ],
   "source": [
    "import pandas as pd\n",
    "\n",
    "url=\"/Users/miriamg/Documents/GitHub_Ironhack/Week 4 Machine learning/Last_marketing_customer_analysis_clean.csv\"\n",
    "df = pd.read_csv(url)\n",
    "df.info()"
   ]
  },
  {
   "cell_type": "code",
   "execution_count": 55,
   "id": "b6a6ecf5",
   "metadata": {},
   "outputs": [
    {
     "data": {
      "text/html": [
       "<div>\n",
       "<style scoped>\n",
       "    .dataframe tbody tr th:only-of-type {\n",
       "        vertical-align: middle;\n",
       "    }\n",
       "\n",
       "    .dataframe tbody tr th {\n",
       "        vertical-align: top;\n",
       "    }\n",
       "\n",
       "    .dataframe thead th {\n",
       "        text-align: right;\n",
       "    }\n",
       "</style>\n",
       "<table border=\"1\" class=\"dataframe\">\n",
       "  <thead>\n",
       "    <tr style=\"text-align: right;\">\n",
       "      <th></th>\n",
       "      <th>unnamed:_0</th>\n",
       "      <th>customer_lifetime_value</th>\n",
       "      <th>income</th>\n",
       "      <th>monthly_premium_auto</th>\n",
       "      <th>months_since_last_claim</th>\n",
       "      <th>months_since_policy_inception</th>\n",
       "      <th>number_of_open_complaints</th>\n",
       "      <th>number_of_policies</th>\n",
       "      <th>total_claim_amount</th>\n",
       "      <th>month</th>\n",
       "    </tr>\n",
       "  </thead>\n",
       "  <tbody>\n",
       "    <tr>\n",
       "      <th>0</th>\n",
       "      <td>0</td>\n",
       "      <td>4809.216960</td>\n",
       "      <td>48029</td>\n",
       "      <td>61</td>\n",
       "      <td>7.000000</td>\n",
       "      <td>52</td>\n",
       "      <td>0.000000</td>\n",
       "      <td>9</td>\n",
       "      <td>292.800000</td>\n",
       "      <td>2</td>\n",
       "    </tr>\n",
       "    <tr>\n",
       "      <th>1</th>\n",
       "      <td>1</td>\n",
       "      <td>2228.525238</td>\n",
       "      <td>0</td>\n",
       "      <td>64</td>\n",
       "      <td>3.000000</td>\n",
       "      <td>26</td>\n",
       "      <td>0.000000</td>\n",
       "      <td>1</td>\n",
       "      <td>744.924331</td>\n",
       "      <td>1</td>\n",
       "    </tr>\n",
       "    <tr>\n",
       "      <th>2</th>\n",
       "      <td>2</td>\n",
       "      <td>14947.917300</td>\n",
       "      <td>22139</td>\n",
       "      <td>100</td>\n",
       "      <td>34.000000</td>\n",
       "      <td>31</td>\n",
       "      <td>0.000000</td>\n",
       "      <td>2</td>\n",
       "      <td>480.000000</td>\n",
       "      <td>2</td>\n",
       "    </tr>\n",
       "    <tr>\n",
       "      <th>3</th>\n",
       "      <td>3</td>\n",
       "      <td>22332.439460</td>\n",
       "      <td>49078</td>\n",
       "      <td>97</td>\n",
       "      <td>10.000000</td>\n",
       "      <td>3</td>\n",
       "      <td>0.000000</td>\n",
       "      <td>2</td>\n",
       "      <td>484.013411</td>\n",
       "      <td>1</td>\n",
       "    </tr>\n",
       "    <tr>\n",
       "      <th>4</th>\n",
       "      <td>4</td>\n",
       "      <td>9025.067525</td>\n",
       "      <td>23675</td>\n",
       "      <td>117</td>\n",
       "      <td>15.149071</td>\n",
       "      <td>31</td>\n",
       "      <td>0.384256</td>\n",
       "      <td>7</td>\n",
       "      <td>707.925645</td>\n",
       "      <td>1</td>\n",
       "    </tr>\n",
       "    <tr>\n",
       "      <th>...</th>\n",
       "      <td>...</td>\n",
       "      <td>...</td>\n",
       "      <td>...</td>\n",
       "      <td>...</td>\n",
       "      <td>...</td>\n",
       "      <td>...</td>\n",
       "      <td>...</td>\n",
       "      <td>...</td>\n",
       "      <td>...</td>\n",
       "      <td>...</td>\n",
       "    </tr>\n",
       "    <tr>\n",
       "      <th>10905</th>\n",
       "      <td>10905</td>\n",
       "      <td>15563.369440</td>\n",
       "      <td>0</td>\n",
       "      <td>253</td>\n",
       "      <td>15.149071</td>\n",
       "      <td>40</td>\n",
       "      <td>0.384256</td>\n",
       "      <td>7</td>\n",
       "      <td>1214.400000</td>\n",
       "      <td>1</td>\n",
       "    </tr>\n",
       "    <tr>\n",
       "      <th>10906</th>\n",
       "      <td>10906</td>\n",
       "      <td>5259.444853</td>\n",
       "      <td>61146</td>\n",
       "      <td>65</td>\n",
       "      <td>7.000000</td>\n",
       "      <td>68</td>\n",
       "      <td>0.000000</td>\n",
       "      <td>6</td>\n",
       "      <td>273.018929</td>\n",
       "      <td>1</td>\n",
       "    </tr>\n",
       "    <tr>\n",
       "      <th>10907</th>\n",
       "      <td>10907</td>\n",
       "      <td>23893.304100</td>\n",
       "      <td>39837</td>\n",
       "      <td>201</td>\n",
       "      <td>11.000000</td>\n",
       "      <td>63</td>\n",
       "      <td>0.000000</td>\n",
       "      <td>2</td>\n",
       "      <td>381.306996</td>\n",
       "      <td>2</td>\n",
       "    </tr>\n",
       "    <tr>\n",
       "      <th>10908</th>\n",
       "      <td>10908</td>\n",
       "      <td>11971.977650</td>\n",
       "      <td>64195</td>\n",
       "      <td>158</td>\n",
       "      <td>0.000000</td>\n",
       "      <td>27</td>\n",
       "      <td>4.000000</td>\n",
       "      <td>6</td>\n",
       "      <td>618.288849</td>\n",
       "      <td>2</td>\n",
       "    </tr>\n",
       "    <tr>\n",
       "      <th>10909</th>\n",
       "      <td>10909</td>\n",
       "      <td>6857.519928</td>\n",
       "      <td>0</td>\n",
       "      <td>101</td>\n",
       "      <td>31.000000</td>\n",
       "      <td>1</td>\n",
       "      <td>0.000000</td>\n",
       "      <td>3</td>\n",
       "      <td>1021.719397</td>\n",
       "      <td>1</td>\n",
       "    </tr>\n",
       "  </tbody>\n",
       "</table>\n",
       "<p>10910 rows × 10 columns</p>\n",
       "</div>"
      ],
      "text/plain": [
       "       unnamed:_0  customer_lifetime_value  income  monthly_premium_auto  \\\n",
       "0               0              4809.216960   48029                    61   \n",
       "1               1              2228.525238       0                    64   \n",
       "2               2             14947.917300   22139                   100   \n",
       "3               3             22332.439460   49078                    97   \n",
       "4               4              9025.067525   23675                   117   \n",
       "...           ...                      ...     ...                   ...   \n",
       "10905       10905             15563.369440       0                   253   \n",
       "10906       10906              5259.444853   61146                    65   \n",
       "10907       10907             23893.304100   39837                   201   \n",
       "10908       10908             11971.977650   64195                   158   \n",
       "10909       10909              6857.519928       0                   101   \n",
       "\n",
       "       months_since_last_claim  months_since_policy_inception  \\\n",
       "0                     7.000000                             52   \n",
       "1                     3.000000                             26   \n",
       "2                    34.000000                             31   \n",
       "3                    10.000000                              3   \n",
       "4                    15.149071                             31   \n",
       "...                        ...                            ...   \n",
       "10905                15.149071                             40   \n",
       "10906                 7.000000                             68   \n",
       "10907                11.000000                             63   \n",
       "10908                 0.000000                             27   \n",
       "10909                31.000000                              1   \n",
       "\n",
       "       number_of_open_complaints  number_of_policies  total_claim_amount  \\\n",
       "0                       0.000000                   9          292.800000   \n",
       "1                       0.000000                   1          744.924331   \n",
       "2                       0.000000                   2          480.000000   \n",
       "3                       0.000000                   2          484.013411   \n",
       "4                       0.384256                   7          707.925645   \n",
       "...                          ...                 ...                 ...   \n",
       "10905                   0.384256                   7         1214.400000   \n",
       "10906                   0.000000                   6          273.018929   \n",
       "10907                   0.000000                   2          381.306996   \n",
       "10908                   4.000000                   6          618.288849   \n",
       "10909                   0.000000                   3         1021.719397   \n",
       "\n",
       "       month  \n",
       "0          2  \n",
       "1          1  \n",
       "2          2  \n",
       "3          1  \n",
       "4          1  \n",
       "...      ...  \n",
       "10905      1  \n",
       "10906      1  \n",
       "10907      2  \n",
       "10908      2  \n",
       "10909      1  \n",
       "\n",
       "[10910 rows x 10 columns]"
      ]
     },
     "execution_count": 55,
     "metadata": {},
     "output_type": "execute_result"
    }
   ],
   "source": [
    "numerical_df = df.select_dtypes(include ='number')\n",
    "numerical_df"
   ]
  },
  {
   "cell_type": "code",
   "execution_count": 3,
   "id": "80be4325",
   "metadata": {},
   "outputs": [],
   "source": [
    "import pandas as pd\n",
    "import seaborn as sns"
   ]
  },
  {
   "cell_type": "markdown",
   "id": "57376880",
   "metadata": {},
   "source": [
    "## X-y split"
   ]
  },
  {
   "cell_type": "code",
   "execution_count": 4,
   "id": "d55a0f03",
   "metadata": {},
   "outputs": [],
   "source": [
    "X= numerical_df[['customer_lifetime_value', 'income',\n",
    "       'monthly_premium_auto', 'months_since_last_claim',\n",
    "       'months_since_policy_inception', 'number_of_open_complaints',\n",
    "       'number_of_policies', 'month']]\n",
    "y = numerical_df[['total_claim_amount']]"
   ]
  },
  {
   "cell_type": "markdown",
   "id": "19b8e889",
   "metadata": {},
   "source": [
    "## Train-test split"
   ]
  },
  {
   "cell_type": "code",
   "execution_count": 5,
   "id": "ddb38fd2",
   "metadata": {},
   "outputs": [],
   "source": [
    "from sklearn.model_selection import train_test_split"
   ]
  },
  {
   "cell_type": "code",
   "execution_count": 6,
   "id": "715fa59d",
   "metadata": {},
   "outputs": [],
   "source": [
    "X_train, X_test, y_train, y_test = train_test_split( X,y, random_state=42)# consistency with the random state is important"
   ]
  },
  {
   "cell_type": "code",
   "execution_count": 7,
   "id": "3bf27726",
   "metadata": {},
   "outputs": [
    {
     "data": {
      "text/html": [
       "<div>\n",
       "<style scoped>\n",
       "    .dataframe tbody tr th:only-of-type {\n",
       "        vertical-align: middle;\n",
       "    }\n",
       "\n",
       "    .dataframe tbody tr th {\n",
       "        vertical-align: top;\n",
       "    }\n",
       "\n",
       "    .dataframe thead th {\n",
       "        text-align: right;\n",
       "    }\n",
       "</style>\n",
       "<table border=\"1\" class=\"dataframe\">\n",
       "  <thead>\n",
       "    <tr style=\"text-align: right;\">\n",
       "      <th></th>\n",
       "      <th>total_claim_amount</th>\n",
       "    </tr>\n",
       "  </thead>\n",
       "  <tbody>\n",
       "    <tr>\n",
       "      <th>4716</th>\n",
       "      <td>897.600000</td>\n",
       "    </tr>\n",
       "    <tr>\n",
       "      <th>8775</th>\n",
       "      <td>504.000000</td>\n",
       "    </tr>\n",
       "    <tr>\n",
       "      <th>4754</th>\n",
       "      <td>542.016902</td>\n",
       "    </tr>\n",
       "    <tr>\n",
       "      <th>6569</th>\n",
       "      <td>571.200000</td>\n",
       "    </tr>\n",
       "    <tr>\n",
       "      <th>1438</th>\n",
       "      <td>504.000000</td>\n",
       "    </tr>\n",
       "    <tr>\n",
       "      <th>...</th>\n",
       "      <td>...</td>\n",
       "    </tr>\n",
       "    <tr>\n",
       "      <th>5734</th>\n",
       "      <td>777.600000</td>\n",
       "    </tr>\n",
       "    <tr>\n",
       "      <th>5191</th>\n",
       "      <td>470.400000</td>\n",
       "    </tr>\n",
       "    <tr>\n",
       "      <th>5390</th>\n",
       "      <td>331.200000</td>\n",
       "    </tr>\n",
       "    <tr>\n",
       "      <th>860</th>\n",
       "      <td>336.000000</td>\n",
       "    </tr>\n",
       "    <tr>\n",
       "      <th>7270</th>\n",
       "      <td>552.000000</td>\n",
       "    </tr>\n",
       "  </tbody>\n",
       "</table>\n",
       "<p>8182 rows × 1 columns</p>\n",
       "</div>"
      ],
      "text/plain": [
       "      total_claim_amount\n",
       "4716          897.600000\n",
       "8775          504.000000\n",
       "4754          542.016902\n",
       "6569          571.200000\n",
       "1438          504.000000\n",
       "...                  ...\n",
       "5734          777.600000\n",
       "5191          470.400000\n",
       "5390          331.200000\n",
       "860           336.000000\n",
       "7270          552.000000\n",
       "\n",
       "[8182 rows x 1 columns]"
      ]
     },
     "execution_count": 7,
     "metadata": {},
     "output_type": "execute_result"
    }
   ],
   "source": [
    "y_train"
   ]
  },
  {
   "cell_type": "markdown",
   "id": "9e07ad5e",
   "metadata": {},
   "source": [
    "## Standardize the data (after the data split!). Apply linear regression."
   ]
  },
  {
   "cell_type": "code",
   "execution_count": 8,
   "id": "2cc67cb0",
   "metadata": {},
   "outputs": [
    {
     "data": {
      "text/plain": [
       "<AxesSubplot:>"
      ]
     },
     "execution_count": 8,
     "metadata": {},
     "output_type": "execute_result"
    },
    {
     "data": {
      "image/png": "[encoded data removed]",
      "text/plain": [
       "<Figure size 432x288 with 1 Axes>"
      ]
     },
     "metadata": {
      "needs_background": "light"
     },
     "output_type": "display_data"
    }
   ],
   "source": [
    "X_train[\"income\"].hist()"
   ]
  },
  {
   "cell_type": "markdown",
   "id": "c342eef4",
   "metadata": {},
   "source": [
    "## Applying min_max scaler"
   ]
  },
  {
   "cell_type": "code",
   "execution_count": 9,
   "id": "836e25e5",
   "metadata": {},
   "outputs": [],
   "source": [
    "from sklearn.preprocessing import MinMaxScaler, StandardScaler, PowerTransformer"
   ]
  },
  {
   "cell_type": "code",
   "execution_count": 10,
   "id": "02b53e91",
   "metadata": {},
   "outputs": [],
   "source": [
    "scaler= MinMaxScaler()"
   ]
  },
  {
   "cell_type": "code",
   "execution_count": 51,
   "id": "e855a3ba",
   "metadata": {},
   "outputs": [],
   "source": [
    "X_train_scaler = scaler.fit_transform(X_train)"
   ]
  },
  {
   "cell_type": "code",
   "execution_count": 52,
   "id": "5da15eee",
   "metadata": {},
   "outputs": [],
   "source": [
    "X_test_scaler = scaler.transform(X_test)"
   ]
  },
  {
   "cell_type": "code",
   "execution_count": 54,
   "id": "2e94997e",
   "metadata": {},
   "outputs": [
    {
     "data": {
      "text/plain": [
       "<AxesSubplot:>"
      ]
     },
     "execution_count": 54,
     "metadata": {},
     "output_type": "execute_result"
    },
    {
     "data": {
      "image/png": "[encoded data removed]",
      "text/plain": [
       "<Figure size 432x288 with 1 Axes>"
      ]
     },
     "metadata": {
      "needs_background": "light"
     },
     "output_type": "display_data"
    }
   ],
   "source": [
    "X_train[\"income\"].hist()"
   ]
  },
  {
   "cell_type": "code",
   "execution_count": 14,
   "id": "093d1262",
   "metadata": {},
   "outputs": [
    {
     "data": {
      "text/plain": [
       "<AxesSubplot:>"
      ]
     },
     "execution_count": 14,
     "metadata": {},
     "output_type": "execute_result"
    },
    {
     "data": {
      "image/png": "[encoded data removed]",
      "text/plain": [
       "<Figure size 432x288 with 1 Axes>"
      ]
     },
     "metadata": {
      "needs_background": "light"
     },
     "output_type": "display_data"
    }
   ],
   "source": [
    "X_test[\"income\"].hist()"
   ]
  },
  {
   "cell_type": "code",
   "execution_count": 15,
   "id": "1357f51f",
   "metadata": {},
   "outputs": [
    {
     "data": {
      "text/plain": [
       "<AxesSubplot:>"
      ]
     },
     "execution_count": 15,
     "metadata": {},
     "output_type": "execute_result"
    },
    {
     "data": {
      "image/png": "[encoded data removed]",
      "text/plain": [
       "<Figure size 432x288 with 1 Axes>"
      ]
     },
     "metadata": {
      "needs_background": "light"
     },
     "output_type": "display_data"
    }
   ],
   "source": [
    "#For customer_lifetime_value\n",
    "\n",
    "X_train[\"customer_lifetime_value\"].hist()"
   ]
  },
  {
   "cell_type": "markdown",
   "id": "4c8cd3eb",
   "metadata": {},
   "source": [
    "## Applying Standard scaler"
   ]
  },
  {
   "cell_type": "code",
   "execution_count": 16,
   "id": "2c52ccc0",
   "metadata": {},
   "outputs": [],
   "source": [
    "scaler = StandardScaler()"
   ]
  },
  {
   "cell_type": "code",
   "execution_count": 17,
   "id": "53805210",
   "metadata": {},
   "outputs": [
    {
     "name": "stderr",
     "output_type": "stream",
     "text": [
      "<ipython-input-17-2fffeaef9e9b>:1: SettingWithCopyWarning: \n",
      "A value is trying to be set on a copy of a slice from a DataFrame.\n",
      "Try using .loc[row_indexer,col_indexer] = value instead\n",
      "\n",
      "See the caveats in the documentation: https://pandas.pydata.org/pandas-docs/stable/user_guide/indexing.html#returning-a-view-versus-a-copy\n",
      "  X_train[\"customer_lifetime_value\"]= scaler.fit_transform(X_train[[\"customer_lifetime_value\"]])\n"
     ]
    }
   ],
   "source": [
    "X_train[\"customer_lifetime_value\"]= scaler.fit_transform(X_train[[\"customer_lifetime_value\"]])"
   ]
  },
  {
   "cell_type": "code",
   "execution_count": 18,
   "id": "904d199b",
   "metadata": {},
   "outputs": [
    {
     "data": {
      "text/plain": [
       "<AxesSubplot:>"
      ]
     },
     "execution_count": 18,
     "metadata": {},
     "output_type": "execute_result"
    },
    {
     "data": {
      "image/png": "[encoded data removed]",
      "text/plain": [
       "<Figure size 432x288 with 1 Axes>"
      ]
     },
     "metadata": {
      "needs_background": "light"
     },
     "output_type": "display_data"
    }
   ],
   "source": [
    "X_train[\"customer_lifetime_value\"].hist()"
   ]
  },
  {
   "cell_type": "code",
   "execution_count": 19,
   "id": "471c86ab",
   "metadata": {},
   "outputs": [
    {
     "name": "stderr",
     "output_type": "stream",
     "text": [
      "<ipython-input-19-52da1bc02008>:1: SettingWithCopyWarning: \n",
      "A value is trying to be set on a copy of a slice from a DataFrame.\n",
      "Try using .loc[row_indexer,col_indexer] = value instead\n",
      "\n",
      "See the caveats in the documentation: https://pandas.pydata.org/pandas-docs/stable/user_guide/indexing.html#returning-a-view-versus-a-copy\n",
      "  X_test[\"customer_lifetime_value\"]= scaler.transform(X_test[[\"customer_lifetime_value\"]])\n"
     ]
    }
   ],
   "source": [
    "X_test[\"customer_lifetime_value\"]= scaler.transform(X_test[[\"customer_lifetime_value\"]])"
   ]
  },
  {
   "cell_type": "code",
   "execution_count": 20,
   "id": "2f18c4e1",
   "metadata": {},
   "outputs": [
    {
     "data": {
      "text/plain": [
       "<AxesSubplot:>"
      ]
     },
     "execution_count": 20,
     "metadata": {},
     "output_type": "execute_result"
    },
    {
     "data": {
      "image/png": "[encoded data removed]",
      "text/plain": [
       "<Figure size 432x288 with 1 Axes>"
      ]
     },
     "metadata": {
      "needs_background": "light"
     },
     "output_type": "display_data"
    }
   ],
   "source": [
    "X_test[\"customer_lifetime_value\"].hist()"
   ]
  },
  {
   "cell_type": "markdown",
   "id": "8d4f54d6",
   "metadata": {},
   "source": [
    "### Applying PowerTransformer"
   ]
  },
  {
   "cell_type": "code",
   "execution_count": 21,
   "id": "ee92863f",
   "metadata": {},
   "outputs": [],
   "source": [
    "pt = PowerTransformer()"
   ]
  },
  {
   "cell_type": "code",
   "execution_count": 22,
   "id": "46c08239",
   "metadata": {},
   "outputs": [
    {
     "name": "stderr",
     "output_type": "stream",
     "text": [
      "<ipython-input-22-092b8406db7e>:1: SettingWithCopyWarning: \n",
      "A value is trying to be set on a copy of a slice from a DataFrame.\n",
      "Try using .loc[row_indexer,col_indexer] = value instead\n",
      "\n",
      "See the caveats in the documentation: https://pandas.pydata.org/pandas-docs/stable/user_guide/indexing.html#returning-a-view-versus-a-copy\n",
      "  X_train[\"customer_lifetime_value\"] = pt.fit_transform (X_train[[\"customer_lifetime_value\"]])\n"
     ]
    }
   ],
   "source": [
    "X_train[\"customer_lifetime_value\"] = pt.fit_transform (X_train[[\"customer_lifetime_value\"]])"
   ]
  },
  {
   "cell_type": "code",
   "execution_count": 23,
   "id": "7502f1a0",
   "metadata": {},
   "outputs": [
    {
     "data": {
      "text/plain": [
       "<AxesSubplot:>"
      ]
     },
     "execution_count": 23,
     "metadata": {},
     "output_type": "execute_result"
    },
    {
     "data": {
      "image/png": "[encoded data removed]",
      "text/plain": [
       "<Figure size 432x288 with 1 Axes>"
      ]
     },
     "metadata": {
      "needs_background": "light"
     },
     "output_type": "display_data"
    }
   ],
   "source": [
    "X_train[\"customer_lifetime_value\"].hist()"
   ]
  },
  {
   "cell_type": "code",
   "execution_count": 24,
   "id": "9fdd89c4",
   "metadata": {},
   "outputs": [
    {
     "name": "stderr",
     "output_type": "stream",
     "text": [
      "<ipython-input-24-38bd18cb041c>:1: SettingWithCopyWarning: \n",
      "A value is trying to be set on a copy of a slice from a DataFrame.\n",
      "Try using .loc[row_indexer,col_indexer] = value instead\n",
      "\n",
      "See the caveats in the documentation: https://pandas.pydata.org/pandas-docs/stable/user_guide/indexing.html#returning-a-view-versus-a-copy\n",
      "  X_test[\"customer_lifetime_value\"] = pt.fit_transform (X_test[[\"customer_lifetime_value\"]])\n"
     ]
    }
   ],
   "source": [
    "X_test[\"customer_lifetime_value\"] = pt.fit_transform (X_test[[\"customer_lifetime_value\"]])"
   ]
  },
  {
   "cell_type": "code",
   "execution_count": 25,
   "id": "a3a11f7b",
   "metadata": {},
   "outputs": [
    {
     "data": {
      "text/plain": [
       "<AxesSubplot:>"
      ]
     },
     "execution_count": 25,
     "metadata": {},
     "output_type": "execute_result"
    },
    {
     "data": {
      "image/png": "[encoded data removed]",
      "text/plain": [
       "<Figure size 432x288 with 1 Axes>"
      ]
     },
     "metadata": {
      "needs_background": "light"
     },
     "output_type": "display_data"
    }
   ],
   "source": [
    "X_test[\"customer_lifetime_value\"].hist()"
   ]
  },
  {
   "cell_type": "code",
   "execution_count": 26,
   "id": "742dd8a3",
   "metadata": {},
   "outputs": [
    {
     "data": {
      "text/plain": [
       "'\"Applying Linear regression meaning \\n\\n#y= 1.70530257e-13+ -2.00786015e-14\\'customer_lifetime_value\\' , -1.84630089e-13,  8.32667268e-17,\\n        -8.79071121e-16,  1.90819582e-17, -2.36399442e-15,\\n         3.73399228e-15,  1.00000000e+00,  2.56808192e-15\\n\\n\\n...\\'income\\',\\n       \\'monthly_premium_auto\\', \\'months_since_last_claim\\',\\n       \\'months_since_policy_inception\\', \\'number_of_open_complaints\\',\\n       \\'number_of_policies\\', \\'month\\' '"
      ]
     },
     "execution_count": 26,
     "metadata": {},
     "output_type": "execute_result"
    }
   ],
   "source": [
    "\"\"\"\"Applying Linear regression meaning \n",
    "\n",
    "#y= 57.15539158+ -7.04825151e+00, -3.28432310e+02,  5.43072648e+00,\n",
    "         1.75619785e-01, -1.80523505e-01, -6.56736711e-01,\n",
    "         9.60489509e-01, -1.93818713e+00\n",
    "\n",
    "\n",
    "...'income',\n",
    "       'monthly_premium_auto', 'months_since_last_claim',\n",
    "       'months_since_policy_inception', 'number_of_open_complaints',\n",
    "       'number_of_policies', 'month' \"\"\""
   ]
  },
  {
   "cell_type": "code",
   "execution_count": 27,
   "id": "259cec6f",
   "metadata": {},
   "outputs": [],
   "source": [
    "from sklearn.linear_model import LinearRegression"
   ]
  },
  {
   "cell_type": "code",
   "execution_count": 28,
   "id": "e7046a61",
   "metadata": {},
   "outputs": [],
   "source": [
    "lm = LinearRegression()\n",
    "model = lm.fit(X_train, y_train)"
   ]
  },
  {
   "cell_type": "code",
   "execution_count": 29,
   "id": "eefb79ae",
   "metadata": {},
   "outputs": [
    {
     "data": {
      "text/plain": [
       "array([[-7.04825151e+00, -3.28432310e+02,  5.43072648e+00,\n",
       "         1.75619785e-01, -1.80523505e-01, -6.56736711e-01,\n",
       "         9.60489509e-01, -1.93818713e+00]])"
      ]
     },
     "execution_count": 29,
     "metadata": {},
     "output_type": "execute_result"
    }
   ],
   "source": [
    "model.coef_"
   ]
  },
  {
   "cell_type": "code",
   "execution_count": 30,
   "id": "5f91eef1",
   "metadata": {},
   "outputs": [
    {
     "data": {
      "text/plain": [
       "array([57.15539158])"
      ]
     },
     "execution_count": 30,
     "metadata": {},
     "output_type": "execute_result"
    }
   ],
   "source": [
    "model.intercept_"
   ]
  },
  {
   "cell_type": "markdown",
   "id": "cc0f1567",
   "metadata": {},
   "source": [
    "## Predict the total_claim_amount"
   ]
  },
  {
   "cell_type": "code",
   "execution_count": 31,
   "id": "a0b51564",
   "metadata": {},
   "outputs": [],
   "source": [
    "random_customer = X_test.sample()"
   ]
  },
  {
   "cell_type": "code",
   "execution_count": 32,
   "id": "fe282ff3",
   "metadata": {},
   "outputs": [
    {
     "data": {
      "text/html": [
       "<div>\n",
       "<style scoped>\n",
       "    .dataframe tbody tr th:only-of-type {\n",
       "        vertical-align: middle;\n",
       "    }\n",
       "\n",
       "    .dataframe tbody tr th {\n",
       "        vertical-align: top;\n",
       "    }\n",
       "\n",
       "    .dataframe thead th {\n",
       "        text-align: right;\n",
       "    }\n",
       "</style>\n",
       "<table border=\"1\" class=\"dataframe\">\n",
       "  <thead>\n",
       "    <tr style=\"text-align: right;\">\n",
       "      <th></th>\n",
       "      <th>customer_lifetime_value</th>\n",
       "      <th>income</th>\n",
       "      <th>monthly_premium_auto</th>\n",
       "      <th>months_since_last_claim</th>\n",
       "      <th>months_since_policy_inception</th>\n",
       "      <th>number_of_open_complaints</th>\n",
       "      <th>number_of_policies</th>\n",
       "      <th>month</th>\n",
       "    </tr>\n",
       "  </thead>\n",
       "  <tbody>\n",
       "    <tr>\n",
       "      <th>2098</th>\n",
       "      <td>-0.25358</td>\n",
       "      <td>0.607635</td>\n",
       "      <td>67</td>\n",
       "      <td>4.0</td>\n",
       "      <td>19</td>\n",
       "      <td>0.0</td>\n",
       "      <td>7</td>\n",
       "      <td>1</td>\n",
       "    </tr>\n",
       "  </tbody>\n",
       "</table>\n",
       "</div>"
      ],
      "text/plain": [
       "      customer_lifetime_value    income  monthly_premium_auto  \\\n",
       "2098                 -0.25358  0.607635                    67   \n",
       "\n",
       "      months_since_last_claim  months_since_policy_inception  \\\n",
       "2098                      4.0                             19   \n",
       "\n",
       "      number_of_open_complaints  number_of_policies  month  \n",
       "2098                        0.0                   7      1  "
      ]
     },
     "execution_count": 32,
     "metadata": {},
     "output_type": "execute_result"
    }
   ],
   "source": [
    "random_customer"
   ]
  },
  {
   "cell_type": "code",
   "execution_count": 33,
   "id": "fff9dc43",
   "metadata": {},
   "outputs": [
    {
     "data": {
      "text/plain": [
       "array([[225.2920216]])"
      ]
     },
     "execution_count": 33,
     "metadata": {},
     "output_type": "execute_result"
    }
   ],
   "source": [
    "model.predict(random_customer)"
   ]
  },
  {
   "cell_type": "markdown",
   "id": "f8e85c07",
   "metadata": {},
   "source": [
    "## Create predictions for the test set"
   ]
  },
  {
   "cell_type": "code",
   "execution_count": 34,
   "id": "035224ce",
   "metadata": {},
   "outputs": [],
   "source": [
    "y_pred = model.predict(X_test)"
   ]
  },
  {
   "cell_type": "code",
   "execution_count": 35,
   "id": "567fad64",
   "metadata": {},
   "outputs": [],
   "source": [
    "y_pred= pd.DataFrame(y_pred)"
   ]
  },
  {
   "cell_type": "code",
   "execution_count": 36,
   "id": "a50041b0",
   "metadata": {},
   "outputs": [],
   "source": [
    "y_test = y_test.reset_index(drop=True)"
   ]
  },
  {
   "cell_type": "code",
   "execution_count": 37,
   "id": "f2b11bef",
   "metadata": {},
   "outputs": [],
   "source": [
    "residuals_df= pd.concat([y_test, y_pred], axis=1)"
   ]
  },
  {
   "cell_type": "code",
   "execution_count": 38,
   "id": "beccf338",
   "metadata": {},
   "outputs": [],
   "source": [
    "residuals_df= residuals_df.rename(columns= {\"total_claim_amount\": \"y_test\", 0: \"y_pred\"})"
   ]
  },
  {
   "cell_type": "code",
   "execution_count": 39,
   "id": "0efe78e6",
   "metadata": {},
   "outputs": [
    {
     "data": {
      "text/html": [
       "<div>\n",
       "<style scoped>\n",
       "    .dataframe tbody tr th:only-of-type {\n",
       "        vertical-align: middle;\n",
       "    }\n",
       "\n",
       "    .dataframe tbody tr th {\n",
       "        vertical-align: top;\n",
       "    }\n",
       "\n",
       "    .dataframe thead th {\n",
       "        text-align: right;\n",
       "    }\n",
       "</style>\n",
       "<table border=\"1\" class=\"dataframe\">\n",
       "  <thead>\n",
       "    <tr style=\"text-align: right;\">\n",
       "      <th></th>\n",
       "      <th>y_test</th>\n",
       "      <th>y_pred</th>\n",
       "    </tr>\n",
       "  </thead>\n",
       "  <tbody>\n",
       "    <tr>\n",
       "      <th>0</th>\n",
       "      <td>475.423848</td>\n",
       "      <td>121.964626</td>\n",
       "    </tr>\n",
       "    <tr>\n",
       "      <th>1</th>\n",
       "      <td>350.400000</td>\n",
       "      <td>354.671227</td>\n",
       "    </tr>\n",
       "    <tr>\n",
       "      <th>2</th>\n",
       "      <td>482.400000</td>\n",
       "      <td>420.893999</td>\n",
       "    </tr>\n",
       "    <tr>\n",
       "      <th>3</th>\n",
       "      <td>673.342650</td>\n",
       "      <td>431.489478</td>\n",
       "    </tr>\n",
       "    <tr>\n",
       "      <th>4</th>\n",
       "      <td>302.400000</td>\n",
       "      <td>150.612707</td>\n",
       "    </tr>\n",
       "    <tr>\n",
       "      <th>...</th>\n",
       "      <td>...</td>\n",
       "      <td>...</td>\n",
       "    </tr>\n",
       "    <tr>\n",
       "      <th>2723</th>\n",
       "      <td>460.266881</td>\n",
       "      <td>586.776525</td>\n",
       "    </tr>\n",
       "    <tr>\n",
       "      <th>2724</th>\n",
       "      <td>405.883346</td>\n",
       "      <td>310.024026</td>\n",
       "    </tr>\n",
       "    <tr>\n",
       "      <th>2725</th>\n",
       "      <td>41.182611</td>\n",
       "      <td>204.623082</td>\n",
       "    </tr>\n",
       "    <tr>\n",
       "      <th>2726</th>\n",
       "      <td>364.800000</td>\n",
       "      <td>449.786305</td>\n",
       "    </tr>\n",
       "    <tr>\n",
       "      <th>2727</th>\n",
       "      <td>89.411365</td>\n",
       "      <td>191.018764</td>\n",
       "    </tr>\n",
       "  </tbody>\n",
       "</table>\n",
       "<p>2728 rows × 2 columns</p>\n",
       "</div>"
      ],
      "text/plain": [
       "          y_test      y_pred\n",
       "0     475.423848  121.964626\n",
       "1     350.400000  354.671227\n",
       "2     482.400000  420.893999\n",
       "3     673.342650  431.489478\n",
       "4     302.400000  150.612707\n",
       "...          ...         ...\n",
       "2723  460.266881  586.776525\n",
       "2724  405.883346  310.024026\n",
       "2725   41.182611  204.623082\n",
       "2726  364.800000  449.786305\n",
       "2727   89.411365  191.018764\n",
       "\n",
       "[2728 rows x 2 columns]"
      ]
     },
     "execution_count": 39,
     "metadata": {},
     "output_type": "execute_result"
    }
   ],
   "source": [
    "residuals_df"
   ]
  },
  {
   "cell_type": "code",
   "execution_count": 40,
   "id": "47c2e68a",
   "metadata": {},
   "outputs": [],
   "source": [
    "residuals_df[\"residual\"] = residuals_df[\"y_test\"]- residuals_df[\"y_pred\"]"
   ]
  },
  {
   "cell_type": "code",
   "execution_count": 41,
   "id": "c04d8c98",
   "metadata": {},
   "outputs": [
    {
     "data": {
      "text/html": [
       "<div>\n",
       "<style scoped>\n",
       "    .dataframe tbody tr th:only-of-type {\n",
       "        vertical-align: middle;\n",
       "    }\n",
       "\n",
       "    .dataframe tbody tr th {\n",
       "        vertical-align: top;\n",
       "    }\n",
       "\n",
       "    .dataframe thead th {\n",
       "        text-align: right;\n",
       "    }\n",
       "</style>\n",
       "<table border=\"1\" class=\"dataframe\">\n",
       "  <thead>\n",
       "    <tr style=\"text-align: right;\">\n",
       "      <th></th>\n",
       "      <th>y_test</th>\n",
       "      <th>y_pred</th>\n",
       "      <th>residual</th>\n",
       "    </tr>\n",
       "  </thead>\n",
       "  <tbody>\n",
       "    <tr>\n",
       "      <th>0</th>\n",
       "      <td>475.423848</td>\n",
       "      <td>121.964626</td>\n",
       "      <td>353.459222</td>\n",
       "    </tr>\n",
       "    <tr>\n",
       "      <th>1</th>\n",
       "      <td>350.400000</td>\n",
       "      <td>354.671227</td>\n",
       "      <td>-4.271227</td>\n",
       "    </tr>\n",
       "    <tr>\n",
       "      <th>2</th>\n",
       "      <td>482.400000</td>\n",
       "      <td>420.893999</td>\n",
       "      <td>61.506001</td>\n",
       "    </tr>\n",
       "    <tr>\n",
       "      <th>3</th>\n",
       "      <td>673.342650</td>\n",
       "      <td>431.489478</td>\n",
       "      <td>241.853172</td>\n",
       "    </tr>\n",
       "    <tr>\n",
       "      <th>4</th>\n",
       "      <td>302.400000</td>\n",
       "      <td>150.612707</td>\n",
       "      <td>151.787293</td>\n",
       "    </tr>\n",
       "  </tbody>\n",
       "</table>\n",
       "</div>"
      ],
      "text/plain": [
       "       y_test      y_pred    residual\n",
       "0  475.423848  121.964626  353.459222\n",
       "1  350.400000  354.671227   -4.271227\n",
       "2  482.400000  420.893999   61.506001\n",
       "3  673.342650  431.489478  241.853172\n",
       "4  302.400000  150.612707  151.787293"
      ]
     },
     "execution_count": 41,
     "metadata": {},
     "output_type": "execute_result"
    }
   ],
   "source": [
    "residuals_df.head()"
   ]
  },
  {
   "cell_type": "markdown",
   "id": "d1f169a9",
   "metadata": {},
   "source": [
    "## Calculating metrics"
   ]
  },
  {
   "cell_type": "code",
   "execution_count": 42,
   "id": "facd7195",
   "metadata": {},
   "outputs": [
    {
     "data": {
      "text/plain": [
       "4.680186775206909"
      ]
     },
     "execution_count": 42,
     "metadata": {},
     "output_type": "execute_result"
    }
   ],
   "source": [
    "mean_error = residuals_df[\"residual\"].mean()\n",
    "mean_error"
   ]
  },
  {
   "cell_type": "code",
   "execution_count": 43,
   "id": "9454a34b",
   "metadata": {},
   "outputs": [],
   "source": [
    "from sklearn.metrics import mean_squared_error as mse, mean_absolute_error as mae"
   ]
  },
  {
   "cell_type": "code",
   "execution_count": 44,
   "id": "47427bbe",
   "metadata": {},
   "outputs": [
    {
     "data": {
      "text/plain": [
       "40481.64471630266"
      ]
     },
     "execution_count": 44,
     "metadata": {},
     "output_type": "execute_result"
    }
   ],
   "source": [
    "mse(y_test, y_pred)"
   ]
  },
  {
   "cell_type": "code",
   "execution_count": 45,
   "id": "6b3f6b33",
   "metadata": {},
   "outputs": [
    {
     "data": {
      "text/plain": [
       "145.98073006660624"
      ]
     },
     "execution_count": 45,
     "metadata": {},
     "output_type": "execute_result"
    }
   ],
   "source": [
    "mae(y_test, y_pred)"
   ]
  },
  {
   "cell_type": "code",
   "execution_count": 46,
   "id": "55d66944",
   "metadata": {},
   "outputs": [
    {
     "data": {
      "text/plain": [
       "201.20050873768352"
      ]
     },
     "execution_count": 46,
     "metadata": {},
     "output_type": "execute_result"
    }
   ],
   "source": [
    "rmse= mse( y_test, y_pred, squared = False)\n",
    "rmse"
   ]
  },
  {
   "cell_type": "code",
   "execution_count": 47,
   "id": "f78336aa",
   "metadata": {},
   "outputs": [
    {
     "data": {
      "text/plain": [
       "201.20050873768352"
      ]
     },
     "execution_count": 47,
     "metadata": {},
     "output_type": "execute_result"
    }
   ],
   "source": [
    "import numpy as np\n",
    "np.sqrt(mse(y_test, y_pred))"
   ]
  },
  {
   "cell_type": "code",
   "execution_count": null,
   "id": "84dce2c2",
   "metadata": {},
   "outputs": [],
   "source": []
  }
 ],
 "metadata": {
  "kernelspec": {
   "display_name": "Python 3",
   "language": "python",
   "name": "python3"
  },
  "language_info": {
   "codemirror_mode": {
    "name": "ipython",
    "version": 3
   },
   "file_extension": ".py",
   "mimetype": "text/x-python",
   "name": "python",
   "nbconvert_exporter": "python",
   "pygments_lexer": "ipython3",
   "version": "3.8.8"
  }
 },
 "nbformat": 4,
 "nbformat_minor": 5
}
