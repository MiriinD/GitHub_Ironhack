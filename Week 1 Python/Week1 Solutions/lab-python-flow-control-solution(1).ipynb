{
 "cells": [
  {
   "cell_type": "markdown",
   "id": "d3bfc191-8885-42ee-b0a0-bbab867c6f9f",
   "metadata": {
    "tags": []
   },
   "source": [
    "# Lab | Flow Control"
   ]
  },
  {
   "cell_type": "markdown",
   "id": "28919546-c4bd-406d-85d9-dba0b6827565",
   "metadata": {},
   "source": [
    "## Exercise: Managing Customer Orders Optimized\n",
    "\n",
    "In the last lab, you were starting an online store that sells various products. To ensure smooth operations, you developed a program that manages customer orders and inventory.\n",
    "\n",
    "You did so without using flow control. Let's go a step further and improve this code.\n",
    "\n",
    "Follow the steps below to complete the exercise:\n",
    "\n",
    "1. Look at your code from the lab data structures, and improve repeated code with loops.\n",
    "\n",
    "2. Instead of asking the user to input the name of three products that a customer wants to order, do the following:\n",
    "    \n",
    "    a. Prompt the user to enter the name of a product that a customer wants to order.\n",
    "    \n",
    "    b. Add the product name to the \"customer_orders\" set.\n",
    "    \n",
    "    c. Ask the user if they want to add another product (yes/no).\n",
    "    \n",
    "    d. Continue the loop until the user does not want to add another product.\n",
    "\n",
    "3. Instead of updating the inventory by subtracting 1 from the quantity of each product, only do it for  the products that were ordered (those in \"customer_orders\")."
   ]
  },
  {
   "cell_type": "code",
   "execution_count": null,
   "id": "aa7cc392-21c1-41c7-85d9-38ad1519174e",
   "metadata": {},
   "outputs": [],
   "source": [
    "# Step 1: Improve repeated code with loops (this is done throughout the whole solution)\n",
    "products = [\"t-shirt\", \"mug\", \"hat\", \"book\", \"keychain\"]\n",
    "inventory = {}\n",
    "\n",
    "for product in products:\n",
    "    quantity = int(input(f\"Enter the quantity of {product}s available: \"))\n",
    "    inventory[product] = quantity\n",
    "\n",
    "# Initialize an empty set to store the customer orders\n",
    "customer_orders = set()\n",
    "\n",
    "# Initialize a variable for user input\n",
    "add_another = 'yes'\n",
    "\n",
    "# Step 2 continued: Use a while loop to prompt the user for product names and add them to customer_orders\n",
    "while add_another.lower() == 'yes':\n",
    "    # Prompt the user to enter the name of a product\n",
    "    product_name = input(\"Enter the name of a product that a customer wants to order: \")\n",
    "    # Add the product name to the customer_orders set\n",
    "    customer_orders.add(product_name)\n",
    "    add_another = input(\"Do you want to add another product? (yes/no): \")    \n",
    "    \n",
    "    \n",
    "# Step 3: Update the inventory for the products that were ordered\n",
    "for product in customer_orders:\n",
    "    if product in inventory:\n",
    "        inventory[product] -= 1\n",
    "\n",
    "# Print the products in customer orders\n",
    "print(\"Products in customer orders:\", customer_orders)\n",
    "\n",
    "# Print the updated inventory\n",
    "print(\"Updated Inventory:\")\n",
    "for product, quantity in inventory.items():\n",
    "    print(f\"{product}: {quantity}\")\n"
   ]
  }
 ],
 "metadata": {
  "kernelspec": {
   "display_name": "Python 3 (ipykernel)",
   "language": "python",
   "name": "python3"
  },
  "language_info": {
   "codemirror_mode": {
    "name": "ipython",
    "version": 3
   },
   "file_extension": ".py",
   "mimetype": "text/x-python",
   "name": "python",
   "nbconvert_exporter": "python",
   "pygments_lexer": "ipython3",
   "version": "3.9.13"
  }
 },
 "nbformat": 4,
 "nbformat_minor": 5
}
