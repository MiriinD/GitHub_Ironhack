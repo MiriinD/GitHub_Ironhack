{
 "cells": [
  {
   "cell_type": "markdown",
   "id": "25d7736c-ba17-4aff-b6bb-66eba20fbf4e",
   "metadata": {},
   "source": [
    "# Lab | Functions"
   ]
  },
  {
   "cell_type": "markdown",
   "id": "0c581062-8967-4d93-b06e-62833222f930",
   "metadata": {
    "tags": []
   },
   "source": [
    "## Exercise: Managing Customer Orders with Functions\n",
    "\n",
    "In the previous exercise, you improved the code for managing customer orders by using loops and flow control. Now, let's take it a step further and refactor the code by introducing functions.\n",
    "\n",
    "Follow the steps below to complete the exercise:\n",
    "\n",
    "1. Define a function named `initialize_inventory` that takes `products` as a parameter. Inside the function, implement the code for initializing the inventory dictionary using a loop and user input.\n",
    "\n",
    "2. Define a function named `get_customer_orders` that takes no parameters. Inside the function, implement the code for prompting the user to enter the product names using a loop. The function should return the `customer_orders` set.\n",
    "\n",
    "3. Define a function named `update_inventory` that takes `customer_orders` and `inventory` as parameters. Inside the function, implement the code for updating the inventory dictionary based on the customer orders.\n",
    "\n",
    "4. Define a function named `calculate_order_statistics` that takes `customer_orders` and `products` as parameters. Inside the function, implement the code for calculating the order statistics (total products ordered, and percentage of unique products ordered). The function should return these values.\n",
    "\n",
    "5. Define a function named `print_order_statistics` that takes `order_statistics` as a parameter. Inside the function, implement the code for printing the order statistics.\n",
    "\n",
    "6. Define a function named `print_updated_inventory` that takes `inventory` as a parameter. Inside the function, implement the code for printing the updated inventory.\n",
    "\n",
    "7. Call the functions in the appropriate sequence to execute the program and manage customer orders.\n",
    "\n",
    "Hints for functions:\n",
    "\n",
    "- Consider the input parameters required for each function and their return values.\n",
    "- Utilize function parameters and return values to transfer data between functions.\n",
    "- Test your functions individually to ensure they work correctly.\n",
    "\n",
    "\n"
   ]
  },
  {
   "cell_type": "markdown",
   "id": "043ae9fb",
   "metadata": {},
   "source": [
    "1. Define a function named initialize_inventory that takes products as a parameter. Inside the function, implement the code for initializing the inventory dictionary using a loop and user input."
   ]
  },
  {
   "cell_type": "code",
   "execution_count": 51,
   "id": "78134d2f",
   "metadata": {},
   "outputs": [
    {
     "name": "stdout",
     "output_type": "stream",
     "text": [
      "Enter the quantity of t-shirt: 9\n",
      "Enter the quantity of mug: 9\n",
      "Enter the quantity of hat: 9\n",
      "Enter the quantity of book: 9\n",
      "Enter the quantity of keychain: 9\n"
     ]
    },
    {
     "data": {
      "text/plain": [
       "{'t-shirt': 9, 'mug': 9, 'hat': 9, 'book': 9, 'keychain': 9}"
      ]
     },
     "execution_count": 51,
     "metadata": {},
     "output_type": "execute_result"
    }
   ],
   "source": [
    "#1\n",
    "products= [\"t-shirt\", \"mug\", \"hat\", \"book\", \"keychain\"]\n",
    "def initialize_inventory (products):\n",
    "    inventory= { p :int (input (\"Enter the quantity of \" +p +\": \")) for p in products}\n",
    "    return inventory\n",
    "    \n",
    "inventory= initialize_inventory(products)\n",
    "inventory"
   ]
  },
  {
   "cell_type": "markdown",
   "id": "76010cfe",
   "metadata": {},
   "source": [
    "2. Define a function named get_customer_orders that takes no parameters. Inside the function, implement the code for prompting the user to enter the product names using a loop. The function should return the customer_orders set."
   ]
  },
  {
   "cell_type": "code",
   "execution_count": 52,
   "id": "7debe12a",
   "metadata": {},
   "outputs": [
    {
     "name": "stdout",
     "output_type": "stream",
     "text": [
      "Enter the name of the product you want to order: mug\n",
      "Enter the name of the product you want to order: hat\n",
      "Enter the name of the product you want to order: book\n",
      "Do you want to order another product? please write yes or no: no\n"
     ]
    },
    {
     "data": {
      "text/plain": [
       "{'book', 'hat', 'mug'}"
      ]
     },
     "execution_count": 52,
     "metadata": {},
     "output_type": "execute_result"
    }
   ],
   "source": [
    "#2\n",
    "def get_customer_orders():\n",
    "    customer_orders= {input(\"Enter the name of the product you want to order: \") for _ in range(3)}\n",
    "\n",
    "    flag_order=True\n",
    "    while flag_order==True:\n",
    "        answer= input(\"Do you want to order another product? please write yes or no: \")\n",
    "        if answer== \"yes\":\n",
    "            product = input(\"Enter the name of the product you want to order: \")\n",
    "            customer_orders.add(product)  # Use add() to add elements to the set\n",
    "        elif answer == \"no\":\n",
    "            flag_order=False\n",
    "        else:\n",
    "            print(\"We didn't understand your answer\")\n",
    "        \n",
    "    return(customer_orders)\n",
    "\n",
    "customer_orders = get_customer_orders()\n",
    "customer_orders"
   ]
  },
  {
   "cell_type": "markdown",
   "id": "7a5cdc11",
   "metadata": {},
   "source": [
    "3. Define a function named update_inventory that takes customer_orders and inventory as parameters. Inside the function, implement the code for updating the inventory dictionary based on the customer orders."
   ]
  },
  {
   "cell_type": "code",
   "execution_count": 53,
   "id": "22eb4097",
   "metadata": {},
   "outputs": [
    {
     "data": {
      "text/plain": [
       "{'t-shirt': 9, 'mug': 8, 'hat': 8, 'book': 8, 'keychain': 9}"
      ]
     },
     "execution_count": 53,
     "metadata": {},
     "output_type": "execute_result"
    }
   ],
   "source": [
    "#3\"\"\"List comprenhension is not working here, and only if products are correct\"\"\"\n",
    "def update_inventory (customer_orders, inventory):\n",
    "    \n",
    "    for product in customer_orders:\n",
    "        inventory[product]-= 1 \n",
    "    return inventory\n",
    "    \n",
    "inventory_updated= update_inventory(customer_orders, inventory)\n",
    "inventory_updated"
   ]
  },
  {
   "cell_type": "markdown",
   "id": "dd09670a",
   "metadata": {},
   "source": [
    "4. Define a function named calculate_order_statistics that takes customer_orders and products as parameters. Inside the function, implement the code for calculating the order statistics (total products ordered, and percentage of unique products ordered). The function should return these values."
   ]
  },
  {
   "cell_type": "code",
   "execution_count": 54,
   "id": "d4ae82ca",
   "metadata": {},
   "outputs": [
    {
     "name": "stdout",
     "output_type": "stream",
     "text": [
      "(3, 60.0)\n"
     ]
    }
   ],
   "source": [
    "#4\n",
    "def calculate_order_statistics(customer_orders, products):\n",
    "    total_ordered_products= len(customer_orders)\n",
    "    t1= total_ordered_products\n",
    "    \n",
    "    percentage= (total_ordered_products/len(products))*100\n",
    "    return t1, percentage\n",
    "\n",
    "    \n",
    "order_statistics= calculate_order_statistics(customer_orders, products)\n",
    "print (order_statistics)"
   ]
  },
  {
   "cell_type": "markdown",
   "id": "5aa5b43f",
   "metadata": {},
   "source": [
    "5. Define a function named print_order_statistics that takes order_statistics as a parameter. Inside the function, implement the code for printing the order statistics."
   ]
  },
  {
   "cell_type": "code",
   "execution_count": 55,
   "id": "89f285b6",
   "metadata": {},
   "outputs": [],
   "source": [
    "def print_order_statistics(order_statistics):\n",
    "    \n",
    "    return f\"The amount of products ordered is: {order_statistics[0]}\", f\" Percentage of Products Ordered: {order_statistics[1]}%\"\n",
    "\n",
    "order_stats_print= print_order_statistics(order_statistics)"
   ]
  },
  {
   "cell_type": "markdown",
   "id": "985b42a7",
   "metadata": {},
   "source": [
    "6. Define a function named print_updated_inventory that takes inventory as a parameter. Inside the function, implement the code for printing the updated inventory."
   ]
  },
  {
   "cell_type": "code",
   "execution_count": 56,
   "id": "7f08217f",
   "metadata": {},
   "outputs": [
    {
     "data": {
      "text/plain": [
       "{'t-shirt': 9, 'mug': 8, 'hat': 8, 'book': 8, 'keychain': 9}"
      ]
     },
     "execution_count": 56,
     "metadata": {},
     "output_type": "execute_result"
    }
   ],
   "source": [
    "def print_updated_inventory(inventory):\n",
    "    return inventory_updated\n",
    "\n",
    "updated_inv= print_updated_inventory(inventory)\n",
    "updated_inv"
   ]
  },
  {
   "cell_type": "markdown",
   "id": "39bdce77",
   "metadata": {},
   "source": [
    "7. Call the functions in the appropriate sequence to execute the program and manage customer orders."
   ]
  },
  {
   "cell_type": "code",
   "execution_count": 57,
   "id": "69d24147",
   "metadata": {},
   "outputs": [
    {
     "name": "stdout",
     "output_type": "stream",
     "text": [
      "Enter the quantity of t-shirt: 9\n",
      "Enter the quantity of mug: 8\n",
      "Enter the quantity of hat: 8\n",
      "Enter the quantity of book: 8\n",
      "Enter the quantity of keychain: 8\n",
      "{'t-shirt': 9, 'mug': 8, 'hat': 8, 'book': 8, 'keychain': 8}\n",
      "Enter the name of the product you want to order: mug\n",
      "Enter the name of the product you want to order: hat\n",
      "Enter the name of the product you want to order: book\n",
      "Do you want to order another product? please write yes or no: no\n",
      "{'mug', 'hat', 'book'}\n",
      "{'t-shirt': 9, 'mug': 7, 'hat': 7, 'book': 7, 'keychain': 9}\n",
      "(3, 60.0)\n",
      "('The amount of products ordered is: 3', ' Percentage of Products Ordered: 60.0%')\n",
      "{'t-shirt': 9, 'mug': 7, 'hat': 7, 'book': 7, 'keychain': 9}\n"
     ]
    }
   ],
   "source": [
    "\n",
    "print(initialize_inventory(products))\n",
    "print(get_customer_orders())\n",
    "print(update_inventory(customer_orders, inventory))\n",
    "print(calculate_order_statistics(customer_orders, products))\n",
    "print(print_order_statistics(order_statistics))\n",
    "print(print_updated_inventory(inventory))"
   ]
  }
 ],
 "metadata": {
  "kernelspec": {
   "display_name": "Python 3",
   "language": "python",
   "name": "python3"
  },
  "language_info": {
   "codemirror_mode": {
    "name": "ipython",
    "version": 3
   },
   "file_extension": ".py",
   "mimetype": "text/x-python",
   "name": "python",
   "nbconvert_exporter": "python",
   "pygments_lexer": "ipython3",
   "version": "3.8.8"
  }
 },
 "nbformat": 4,
 "nbformat_minor": 5
}
