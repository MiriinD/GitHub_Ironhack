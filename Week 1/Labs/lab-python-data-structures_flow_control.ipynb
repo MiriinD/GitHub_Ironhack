{
 "cells": [
  {
   "cell_type": "markdown",
   "metadata": {
    "tags": []
   },
   "source": [
    "# Lab | Data Structures "
   ]
  },
  {
   "cell_type": "markdown",
   "metadata": {},
   "source": [
    "## Exercise: Managing Customer Orders\n",
    "\n",
    "As part of a business venture, you are starting an online store that sells various products. To ensure smooth operations, you need to develop a program that manages customer orders and inventory.\n",
    "\n",
    "Follow the steps below to complete the exercise:\n",
    "\n",
    "1. Define a list called `products` that contains the following items: \"t-shirt\", \"mug\", \"hat\", \"book\", \"keychain\".\n",
    "\n",
    "2. Create an empty dictionary called `inventory`.\n",
    "\n",
    "3. Ask the user to input the quantity of each product available in the inventory. Use the product names from the `products` list as keys in the `inventory` dictionary and assign the respective quantities as values.\n",
    "\n",
    "4. Create an empty set called `customer_orders`.\n",
    "\n",
    "5. Ask the user to input the name of three products that a customer wants to order (from those in the products list, meaning three products out of \"t-shirt\", \"mug\", \"hat\", \"book\" or \"keychain\". Add each product name to the `customer_orders` set.\n",
    "\n",
    "6. Print the products in the `customer_orders` set.\n",
    "\n",
    "7. Calculate the following order statistics:\n",
    "   - Total Products Ordered: The total number of products in the `customer_orders` set.\n",
    "   - Percentage of Products Ordered: The percentage of products ordered compared to the total available products.\n",
    "   \n",
    "   Store these statistics in a tuple called `order_status`.\n",
    "\n",
    "8. Print the order statistics using the following format:\n",
    "   ```\n",
    "   Order Statistics:\n",
    "   Total Products Ordered: <total_products_ordered>\n",
    "   Percentage of Products Ordered: <percentage_ordered>% \n",
    "   ```\n",
    "\n",
    "9. Update the inventory by subtracting 1 from the quantity of each product. Modify the `inventory` dictionary accordingly.\n",
    "\n",
    "10. Print the updated inventory, displaying the quantity of each product on separate lines.\n",
    "\n",
    "Solve the exercise by implementing the steps using the Python concepts of lists, dictionaries, sets, and basic input/output operations. "
   ]
  },
  {
   "cell_type": "code",
   "execution_count": 11,
   "metadata": {},
   "outputs": [],
   "source": [
    "products= [\"t-shirt\", \"mug\", \"hat\", \"book\", \"keychain\"]\n",
    "inventory= {}"
   ]
  },
  {
   "cell_type": "code",
   "execution_count": 12,
   "metadata": {},
   "outputs": [
    {
     "name": "stdout",
     "output_type": "stream",
     "text": [
      "Enter the quantity of t-shirt: 6\n",
      "Enter the quantity of mug: 7\n",
      "Enter the quantity of hat: 8\n",
      "Enter the quantity of book: 4\n",
      "Enter the quantity of keychain: 2\n",
      "{'t-shirt': 6, 'mug': 7, 'hat': 8, 'book': 4, 'keychain': 2}\n"
     ]
    }
   ],
   "source": [
    "for p in products:\n",
    "    value= int(input(\"Enter the quantity of \" +p +\": \"))\n",
    "    inventory[p]= value\n",
    "print (inventory)"
   ]
  },
  {
   "cell_type": "code",
   "execution_count": 13,
   "metadata": {},
   "outputs": [
    {
     "name": "stdout",
     "output_type": "stream",
     "text": [
      "Enter the name of the product you want to order: hat\n",
      "Enter the name of the product you want to order: mug\n",
      "Enter the name of the product you want to order: book\n",
      "Do you want to order another product? please write yes or no: yes\n",
      "Enter the name of the product you want to order: keychain\n",
      "Do you want to order another product? please write yes or no: yes\n",
      "Enter the name of the product you want to order: book\n",
      "Do you want to order another product? please write yes or no: no\n",
      "{'book', 'hat', 'mug', 'keychain'}\n"
     ]
    }
   ],
   "source": [
    "customer_orders = set()  # Whyyy? in the lecture it was with {} and not set definition needed\n",
    "#To create sets it is needed to specify set ans round brackets otherwise python interpret it as a dictionary\n",
    "\n",
    "for i in range(0, 3):\n",
    "    product = input(\"Enter the name of the product you want to order: \")\n",
    "    customer_orders.add(product)  # Use add() to add elements to the set\n",
    "\n",
    "    \n",
    "flag_order=True\n",
    "while flag_order==True:\n",
    "    answer= input(\"Do you want to order another product? please write yes or no: \")\n",
    "    if answer== \"yes\":\n",
    "        product = input(\"Enter the name of the product you want to order: \")\n",
    "        customer_orders.add(product)  # Use add() to add elements to the set\n",
    "    elif answer == \"no\":\n",
    "        flag_order=False\n",
    "    else:\n",
    "        print(\"We didn't understand your answer\")\n",
    "        \n",
    "print(customer_orders)"
   ]
  },
  {
   "cell_type": "code",
   "execution_count": 14,
   "metadata": {},
   "outputs": [
    {
     "name": "stdout",
     "output_type": "stream",
     "text": [
      "The amount of products ordered is 4\n"
     ]
    }
   ],
   "source": [
    "total_ordered_products= len(customer_orders)\n",
    "print(f\"The amount of products ordered is {total_ordered_products}\")"
   ]
  },
  {
   "cell_type": "code",
   "execution_count": 15,
   "metadata": {},
   "outputs": [
    {
     "name": "stdout",
     "output_type": "stream",
     "text": [
      "Total quantity of items in stock: 27\n"
     ]
    }
   ],
   "source": [
    "#Calculating total stock\n",
    "\n",
    "stock= inventory.values()\n",
    "total_stock= 0\n",
    "for v in stock:\n",
    "    amount=int(v)\n",
    "    total_stock+= (amount)\n",
    "    \n",
    "print(\"Total quantity of items in stock:\", total_stock)   "
   ]
  },
  {
   "cell_type": "code",
   "execution_count": 16,
   "metadata": {},
   "outputs": [
    {
     "name": "stdout",
     "output_type": "stream",
     "text": [
      "14.814814814814813\n"
     ]
    }
   ],
   "source": [
    "# Percentage of Products Ordered: The percentage of products ordered compared to the total available products.\n",
    "percentage= (total_ordered_products/total_stock)*100\n",
    "print(percentage)\n"
   ]
  },
  {
   "cell_type": "code",
   "execution_count": 17,
   "metadata": {},
   "outputs": [
    {
     "name": "stdout",
     "output_type": "stream",
     "text": [
      "(4, 27)\n"
     ]
    }
   ],
   "source": [
    "#Store these statistics in a tuple called order_status\n",
    "order_status = (total_ordered_products, total_stock)\n",
    "print(order_status)"
   ]
  },
  {
   "cell_type": "code",
   "execution_count": 18,
   "metadata": {},
   "outputs": [
    {
     "name": "stdout",
     "output_type": "stream",
     "text": [
      "Order Statistics: Total Products Ordered: 4 and Percentage of Products Ordered: 14.814814814814813%\n"
     ]
    }
   ],
   "source": [
    "print(f\"Order Statistics: Total Products Ordered: {total_ordered_products} and Percentage of Products Ordered: {percentage}%\")"
   ]
  },
  {
   "cell_type": "code",
   "execution_count": 19,
   "metadata": {},
   "outputs": [],
   "source": [
    "#Update the inventory by subtracting 1 from the quantity of each product n\n",
    "for item in customer_orders:\n",
    "    inventory[item] -= 1 #This is Johannes simple and elegant approach"
   ]
  },
  {
   "cell_type": "markdown",
   "metadata": {},
   "source": [
    "'''#update the inventory\n",
    "\n",
    "'''stock= inventory.values()\n",
    "updated_stock= []\n",
    "for v in stock:\n",
    "    amount=int(v)\n",
    "    updated_stock.append(amount-1)\n",
    "print(updated_stock) '''\n",
    "\n",
    "updated_inventory=dict(zip(products,updated_stock))\n",
    "print(updated_inventory) UNNECESARY'''"
   ]
  },
  {
   "cell_type": "code",
   "execution_count": 20,
   "metadata": {},
   "outputs": [
    {
     "name": "stdout",
     "output_type": "stream",
     "text": [
      "t-shirt 6\n",
      "mug 6\n",
      "hat 7\n",
      "book 3\n",
      "keychain 1\n"
     ]
    }
   ],
   "source": [
    "# Print the updated inventory, displaying the quantity of each product on separate lines\n",
    "\n",
    "for key, value in inventory.items():\n",
    "    print (key, value)"
   ]
  },
  {
   "cell_type": "code",
   "execution_count": null,
   "metadata": {},
   "outputs": [],
   "source": []
  }
 ],
 "metadata": {
  "kernelspec": {
   "display_name": "Python 3",
   "language": "python",
   "name": "python3"
  },
  "language_info": {
   "codemirror_mode": {
    "name": "ipython",
    "version": 3
   },
   "file_extension": ".py",
   "mimetype": "text/x-python",
   "name": "python",
   "nbconvert_exporter": "python",
   "pygments_lexer": "ipython3",
   "version": "3.8.8"
  }
 },
 "nbformat": 4,
 "nbformat_minor": 4
}
