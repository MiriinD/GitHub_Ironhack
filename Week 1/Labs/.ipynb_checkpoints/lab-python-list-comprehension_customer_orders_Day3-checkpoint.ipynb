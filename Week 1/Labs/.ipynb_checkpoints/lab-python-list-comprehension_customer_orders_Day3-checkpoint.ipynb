{
 "cells": [
  {
   "cell_type": "markdown",
   "id": "25d7736c-ba17-4aff-b6bb-66eba20fbf4e",
   "metadata": {},
   "source": [
    "# Lab | List, Dict and Set Comprehension"
   ]
  },
  {
   "cell_type": "markdown",
   "id": "7dd3cbde-675a-4b81-92c3-f728846dbe06",
   "metadata": {},
   "source": [
    "## Exercise: Managing Customer Orders Optimized with Comprehension"
   ]
  },
  {
   "cell_type": "markdown",
   "id": "5d500160-2fb7-4777-b5e4-09d45ebaf328",
   "metadata": {},
   "source": [
    "In the previous exercise, you developed a program to manage customer orders and inventory. Now, let's take it a step further and incorporate comprehension into your code.\n",
    "\n",
    "Follow the steps below to complete the exercise:\n",
    "\n",
    "1. Review your code from the previous exercise and identify areas where you can apply comprehension to simplify and streamline your code. \n",
    "\n",
    "    - *Hint: Apply it to initialize inventory, updating the inventory and printing the updated inventory.*\n",
    "    \n",
    "    - For example, in initializing the inventory, we could have:\n",
    "    \n",
    "        ```python\n",
    "        def initialize_inventory(products):\n",
    "            inventory = {product: int(input(f\"Enter the quantity of {product}s available: \")) for product in products}\n",
    "            return inventory\n",
    "\n",
    "        ```\n",
    "<br>\n",
    "    \n",
    "    \n",
    "2. Modify the function get_customer_orders so it prompts the user to enter the number of customer orders and gathers the product names using a loop and user input. Use comprehension.\n",
    "\n",
    "3. Add a new function to calculate the total price of the customer order. For each product in customer_orders, prompt the user to enter the price of that product. Use comprehension to calculate the total price. Note: assume that the user can only have 1 unit of each product.\n",
    "\n",
    "4. Modify the update_inventory function to remove the product from the inventory if its quantity becomes zero after fulfilling the customer orders. Use comprehension to filter out the products with a quantity of zero from the inventory.\n",
    "\n",
    "5. Print the total price of the customer order.\n",
    "\n",
    "Your code should produce output similar to the following:\n",
    "\n",
    "```python\n",
    "Enter the quantity of t-shirts available:  5\n",
    "Enter the quantity of mugs available:  4\n",
    "Enter the quantity of hats available:  3\n",
    "Enter the quantity of books available:  2\n",
    "Enter the quantity of keychains available:  1\n",
    "Enter the number of customer orders:  2\n",
    "Enter the name of a product that a customer wants to order:  hat\n",
    "Enter the name of a product that a customer wants to order:  keychain\n",
    "\n",
    "Order Statistics:\n",
    "Total Products Ordered: 2\n",
    "Percentage of Unique Products Ordered: 40.0\n",
    "\n",
    "Updated Inventory:\n",
    "t-shirt: 5\n",
    "mug: 4\n",
    "hat: 2\n",
    "book: 2\n",
    "Enter the price of keychain:  5\n",
    "Enter the price of hat:  10\n",
    "Total Price: 15.0\n",
    "\n",
    "```\n"
   ]
  },
  {
   "cell_type": "markdown",
   "id": "c47c7ac4",
   "metadata": {},
   "source": []
  },
  {
   "cell_type": "code",
   "execution_count": 150,
   "id": "deb38da6",
   "metadata": {},
   "outputs": [
    {
     "name": "stdout",
     "output_type": "stream",
     "text": [
      "Enter the quantity of t-shirt available: 4\n",
      "Enter the quantity of mug available: 4\n",
      "Enter the quantity of hat available: 4\n",
      "Enter the quantity of book available: 4\n",
      "Enter the quantity of keychain available: 4\n"
     ]
    }
   ],
   "source": [
    "products= [\"t-shirt\", \"mug\", \"hat\", \"book\", \"keychain\"]\n",
    "\n",
    "def initialize_inventory (products):\n",
    "    inventory= { p :int (input (\"Enter the quantity of \" +p + \" available: \")) for p in products}\n",
    "    return inventory\n",
    "    \n",
    "inventory= initialize_inventory(products)"
   ]
  },
  {
   "cell_type": "markdown",
   "id": "2a5ded1b",
   "metadata": {},
   "source": [
    "#### 2. Modify the function get_customer_orders so it prompts the user to enter the number of customer orders and gathers the product names using a loop and user input. Use comprehension.\n",
    "\n"
   ]
  },
  {
   "cell_type": "code",
   "execution_count": 151,
   "id": "bfeec549",
   "metadata": {},
   "outputs": [
    {
     "name": "stdout",
     "output_type": "stream",
     "text": [
      "Enter the number of customer orders: (numbers only)4\n",
      "Enter the name of the product to order part of our inventory: book\n",
      "Enter the name of the product to order part of our inventory: book\n",
      "Enter the name of the product to order part of our inventory: has\n",
      "Sorry we don't have that product\n",
      "Enter the name of the product to order part of our inventory: hat\n",
      "Do you want to order another product? please write yes or no: mug\n",
      "We didn't understand your answer\n",
      "Do you want to order another product? please write yes or no: no\n"
     ]
    }
   ],
   "source": [
    "#2\n",
    "def get_customer_orders():\n",
    "    amount_customer_orders= int(input(\"Enter the number of customer orders: (numbers only)\"))\n",
    "    customer_orders= set() #creating the set\n",
    "    \n",
    "    for _ in range(amount_customer_orders):\n",
    "        product=input(\"Enter the name of the product to order part of our inventory: \")\n",
    "        \n",
    "        if product in products:\n",
    "            customer_orders.add(product)\n",
    "        else:\n",
    "            print(\"Sorry we don't have that product\")\n",
    "    \n",
    "    \n",
    "    flag_order=True\n",
    "    while flag_order==True:\n",
    "        answer= input(\"Do you want to order another product? please write yes or no: \")\n",
    "        if answer== \"yes\":\n",
    "            product = input(\"Enter the name of the product you want to order: \")\n",
    "            if product in products:\n",
    "                customer_orders.add(product)  # Use add() to add elements to the set\n",
    "            else:\n",
    "                print(\"Sorry we don't have that product\")\n",
    "        elif answer == \"no\":\n",
    "            flag_order=False\n",
    "        else:\n",
    "            print(\"We didn't understand your answer\")\n",
    "        \n",
    "    return (customer_orders)\n",
    "\n",
    "customer_orders = get_customer_orders()"
   ]
  },
  {
   "cell_type": "code",
   "execution_count": 153,
   "id": "1e86af0d",
   "metadata": {},
   "outputs": [
    {
     "data": {
      "text/plain": [
       "{'book', 'hat'}"
      ]
     },
     "execution_count": 153,
     "metadata": {},
     "output_type": "execute_result"
    }
   ],
   "source": [
    "customer_orders"
   ]
  },
  {
   "cell_type": "markdown",
   "id": "e038b756",
   "metadata": {},
   "source": [
    "3. Add a new function to calculate the total price of the customer order. For each product in customer_orders, prompt the user to enter the price of that product. Use comprehension to calculate the total price. Note: assume that the user can only have 1 unit of each product.\n",
    "\n",
    "5. Print the total price of the customer order."
   ]
  },
  {
   "cell_type": "code",
   "execution_count": 154,
   "id": "28dfdc66",
   "metadata": {},
   "outputs": [
    {
     "name": "stdout",
     "output_type": "stream",
     "text": [
      "Enter the price of hat: 4\n",
      "Enter the price of book: 4\n"
     ]
    }
   ],
   "source": [
    "\"\"\"\"Why is the order of the price being asked differently as in input?, is it a set problem?\"\"\"\n",
    "\n",
    "def total_price_customer_order(get_customer_orders):\n",
    "    \n",
    "    products_and_prices_dict= {product: int(input(\"Enter the price of \"+ product + \": \"))for product in customer_orders}\n",
    "    total= sum(products_and_prices_dict.values())\n",
    "    return \"Total Price: \" + str(total) \n",
    "\n",
    "total_price_order= total_price_customer_order(customer_orders)"
   ]
  },
  {
   "cell_type": "code",
   "execution_count": 155,
   "id": "1bdd2b19",
   "metadata": {},
   "outputs": [
    {
     "data": {
      "text/plain": [
       "'Total Price: 8'"
      ]
     },
     "execution_count": 155,
     "metadata": {},
     "output_type": "execute_result"
    }
   ],
   "source": [
    "total_price_order"
   ]
  },
  {
   "cell_type": "markdown",
   "id": "15c8b2d3",
   "metadata": {},
   "source": [
    "4. Modify the update_inventory function to remove the product from the inventory if its quantity becomes zero after fulfilling the customer orders. Use comprehension to filter out the products with a quantity of zero from the inventory.\n"
   ]
  },
  {
   "cell_type": "code",
   "execution_count": 166,
   "id": "cf1a3d61",
   "metadata": {},
   "outputs": [
    {
     "name": "stdout",
     "output_type": "stream",
     "text": [
      "Updated Inventory: \n"
     ]
    }
   ],
   "source": [
    "def update_inventory (customer_orders, inventory):\n",
    "    \n",
    "    print(\"Updated Inventory: \")\n",
    "    for product in customer_orders:\n",
    "        inventory[product]-= 1 \n",
    "        if inventory[product]<= 0:\n",
    "            del inventory[product]\n",
    "    return inventory\n",
    "    \n",
    "inventory_updated= update_inventory(customer_orders, inventory)\n",
    "\n"
   ]
  },
  {
   "cell_type": "code",
   "execution_count": 167,
   "id": "1c616e3f",
   "metadata": {},
   "outputs": [
    {
     "data": {
      "text/plain": [
       "{'t-shirt': 4, 'mug': 4, 'keychain': 4}"
      ]
     },
     "execution_count": 167,
     "metadata": {},
     "output_type": "execute_result"
    }
   ],
   "source": [
    "inventory_updated"
   ]
  },
  {
   "cell_type": "code",
   "execution_count": 168,
   "id": "942b9583",
   "metadata": {},
   "outputs": [
    {
     "name": "stdout",
     "output_type": "stream",
     "text": [
      "Order Statistics:\n"
     ]
    }
   ],
   "source": [
    "def calculate_order_statistics(customer_orders, products):\n",
    "    print(\"Order Statistics:\") \n",
    "    total_ordered_products= (len(customer_orders))\n",
    "    percentage= (total_ordered_products/len(products))*100\n",
    "    \n",
    "    return \"Total products ordered: \" + str(total_ordered_products), \" Percentage of Unique Products Ordered: \" + str(percentage) + \"%\"\n",
    "\n",
    "order_statistics= calculate_order_statistics(customer_orders, products)\n"
   ]
  },
  {
   "cell_type": "code",
   "execution_count": 169,
   "id": "3febd527",
   "metadata": {},
   "outputs": [
    {
     "name": "stdout",
     "output_type": "stream",
     "text": [
      "Enter the quantity of t-shirt available: 4\n",
      "Enter the quantity of mug available: 4\n",
      "Enter the quantity of hat available: 4\n",
      "Enter the quantity of book available: 4\n",
      "Enter the quantity of keychain available: 4\n",
      "{'t-shirt': 4, 'mug': 4, 'hat': 4, 'book': 4, 'keychain': 4}\n",
      "Enter the number of customer orders: (numbers only)2\n",
      "Enter the name of the product to order part of our inventory: ja\n",
      "Sorry we don't have that product\n",
      "Enter the name of the product to order part of our inventory: hat\n",
      "Do you want to order another product? please write yes or no: yes\n",
      "Enter the name of the product you want to order: book\n",
      "Do you want to order another product? please write yes or no: no\n",
      "{'hat', 'book'}\n",
      "Enter the price of hat: 4\n",
      "Enter the price of book: 5\n",
      "Total Price: 9\n",
      "Updated Inventory: \n"
     ]
    },
    {
     "ename": "KeyError",
     "evalue": "'hat'",
     "output_type": "error",
     "traceback": [
      "\u001b[0;31m---------------------------------------------------------------------------\u001b[0m",
      "\u001b[0;31mKeyError\u001b[0m                                  Traceback (most recent call last)",
      "\u001b[0;32m<ipython-input-169-f60ac3d807b6>\u001b[0m in \u001b[0;36m<module>\u001b[0;34m\u001b[0m\n\u001b[1;32m      5\u001b[0m \u001b[0mprint\u001b[0m\u001b[0;34m(\u001b[0m\u001b[0mget_customer_orders\u001b[0m\u001b[0;34m(\u001b[0m\u001b[0;34m)\u001b[0m\u001b[0;34m)\u001b[0m\u001b[0;34m\u001b[0m\u001b[0;34m\u001b[0m\u001b[0m\n\u001b[1;32m      6\u001b[0m \u001b[0mprint\u001b[0m\u001b[0;34m(\u001b[0m\u001b[0mtotal_price_customer_order\u001b[0m\u001b[0;34m(\u001b[0m\u001b[0mcustomer_orders\u001b[0m\u001b[0;34m)\u001b[0m\u001b[0;34m)\u001b[0m\u001b[0;34m\u001b[0m\u001b[0;34m\u001b[0m\u001b[0m\n\u001b[0;32m----> 7\u001b[0;31m \u001b[0mprint\u001b[0m\u001b[0;34m(\u001b[0m\u001b[0mupdate_inventory\u001b[0m\u001b[0;34m(\u001b[0m\u001b[0mcustomer_orders\u001b[0m\u001b[0;34m,\u001b[0m \u001b[0minventory\u001b[0m\u001b[0;34m)\u001b[0m\u001b[0;34m)\u001b[0m\u001b[0;34m\u001b[0m\u001b[0;34m\u001b[0m\u001b[0m\n\u001b[0m",
      "\u001b[0;32m<ipython-input-166-4ba20b88410f>\u001b[0m in \u001b[0;36mupdate_inventory\u001b[0;34m(customer_orders, inventory)\u001b[0m\n\u001b[1;32m      3\u001b[0m     \u001b[0mprint\u001b[0m\u001b[0;34m(\u001b[0m\u001b[0;34m\"Updated Inventory: \"\u001b[0m\u001b[0;34m)\u001b[0m\u001b[0;34m\u001b[0m\u001b[0;34m\u001b[0m\u001b[0m\n\u001b[1;32m      4\u001b[0m     \u001b[0;32mfor\u001b[0m \u001b[0mproduct\u001b[0m \u001b[0;32min\u001b[0m \u001b[0mcustomer_orders\u001b[0m\u001b[0;34m:\u001b[0m\u001b[0;34m\u001b[0m\u001b[0;34m\u001b[0m\u001b[0m\n\u001b[0;32m----> 5\u001b[0;31m         \u001b[0minventory\u001b[0m\u001b[0;34m[\u001b[0m\u001b[0mproduct\u001b[0m\u001b[0;34m]\u001b[0m\u001b[0;34m-=\u001b[0m \u001b[0;36m1\u001b[0m\u001b[0;34m\u001b[0m\u001b[0;34m\u001b[0m\u001b[0m\n\u001b[0m\u001b[1;32m      6\u001b[0m         \u001b[0;32mif\u001b[0m \u001b[0minventory\u001b[0m\u001b[0;34m[\u001b[0m\u001b[0mproduct\u001b[0m\u001b[0;34m]\u001b[0m\u001b[0;34m<=\u001b[0m \u001b[0;36m0\u001b[0m\u001b[0;34m:\u001b[0m\u001b[0;34m\u001b[0m\u001b[0;34m\u001b[0m\u001b[0m\n\u001b[1;32m      7\u001b[0m             \u001b[0;32mdel\u001b[0m \u001b[0minventory\u001b[0m\u001b[0;34m[\u001b[0m\u001b[0mproduct\u001b[0m\u001b[0;34m]\u001b[0m\u001b[0;34m\u001b[0m\u001b[0;34m\u001b[0m\u001b[0m\n",
      "\u001b[0;31mKeyError\u001b[0m: 'hat'"
     ]
    }
   ],
   "source": [
    "#All the functions together\n",
    "\"\"\"How to run this functions again from scratch\"\"\"\n",
    "\n",
    "print(initialize_inventory(products))\n",
    "print(get_customer_orders())\n",
    "print(total_price_customer_order(customer_orders))\n",
    "print(update_inventory(customer_orders, inventory))\n"
   ]
  },
  {
   "cell_type": "code",
   "execution_count": 171,
   "id": "0d252b85",
   "metadata": {},
   "outputs": [
    {
     "name": "stdout",
     "output_type": "stream",
     "text": [
      "This function makes easier to manage customer orders\n",
      "Enter the quantity of t-shirt available: 5\n",
      "Enter the quantity of mug available: 5\n",
      "Enter the quantity of hat available: 5\n",
      "Enter the quantity of book available: 5\n",
      "Enter the quantity of keychain available: 5\n",
      "Enter the number of customer orders: (numbers only)2\n",
      "Enter the name of the product to order part of our inventory: book\n",
      "Enter the name of the product to order part of our inventory: hat\n",
      "Do you want to order another product? please write yes or no: yes\n",
      "Enter the name of the product you want to order: hat\n",
      "Do you want to order another product? please write yes or no: as\n",
      "We didn't understand your answer\n",
      "Do you want to order another product? please write yes or no: yes\n",
      "Enter the name of the product you want to order: 4\n",
      "Sorry we don't have that product\n",
      "Do you want to order another product? please write yes or no: no\n",
      "Enter the price of hat: 4\n",
      "Enter the price of book: 5\n",
      "Total Price: 9\n",
      "Updated Inventory: \n",
      "{'t-shirt': 5, 'mug': 5, 'hat': 4, 'book': 4, 'keychain': 5}\n",
      "Order Statistics:\n",
      "('Total products ordered: 2', ' Percentage of Unique Products Ordered: 40.0%')\n"
     ]
    }
   ],
   "source": [
    "\"\"\"Solve potential erros and formating\"\"\"\n",
    "products= [\"t-shirt\", \"mug\", \"hat\", \"book\", \"keychain\"]\n",
    "\n",
    "def start_manage_CO():\n",
    "    \"\"\"\n",
    "    Start the costumer orders management\n",
    "    \"\"\"\n",
    "    print(\"This function makes easier to manage customer orders\")\n",
    "    \n",
    "    # Call and capture the return value of initialize_inventory\n",
    "    inventory= initialize_inventory(products)\n",
    "    \n",
    "    # Call and capture the return value of get_customer_orders\n",
    "    customer_orders = get_customer_orders()\n",
    "    \n",
    "    # Call total_price_customer_order and store its return value\n",
    "    total_price_order = total_price_customer_order(customer_orders)\n",
    "    print(total_price_order)  # Print the total price\n",
    "    \n",
    "    # Call and capture the return value of update_inventory\n",
    "    inventory_updated = update_inventory(customer_orders, inventory)\n",
    "    print(inventory_updated)  # Print the updated inventory\n",
    "    \n",
    "    # Call and capture the return value of calculate_order_statistics\n",
    "    order_statistics = calculate_order_statistics(customer_orders, products)\n",
    "    print(order_statistics)  # Print the order statistics\n",
    "\n",
    "start_manage_CO()"
   ]
  },
  {
   "cell_type": "markdown",
   "id": "45b217cd",
   "metadata": {},
   "source": [
    "##### "
   ]
  }
 ],
 "metadata": {
  "kernelspec": {
   "display_name": "Python 3",
   "language": "python",
   "name": "python3"
  },
  "language_info": {
   "codemirror_mode": {
    "name": "ipython",
    "version": 3
   },
   "file_extension": ".py",
   "mimetype": "text/x-python",
   "name": "python",
   "nbconvert_exporter": "python",
   "pygments_lexer": "ipython3",
   "version": "3.8.8"
  }
 },
 "nbformat": 4,
 "nbformat_minor": 5
}
