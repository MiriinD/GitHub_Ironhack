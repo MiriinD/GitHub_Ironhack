{
 "cells": [
  {
   "cell_type": "markdown",
   "id": "25d7736c-ba17-4aff-b6bb-66eba20fbf4e",
   "metadata": {},
   "source": [
    "# Lab | Error Handling"
   ]
  },
  {
   "cell_type": "markdown",
   "id": "bc99b386-7508-47a0-bcdb-d969deaf6c8b",
   "metadata": {},
   "source": [
    "## Exercise: Error Handling for Managing Customer Orders\n",
    "\n",
    "The implementation of your code for managing customer orders assumes that the user will always enter a valid input. \n",
    "\n",
    "For example, we could modify the `initialize_inventory` function to include error handling.\n",
    "   - If the user enters an invalid quantity (e.g., a negative value or a non-numeric value), display an error message and ask them to re-enter the quantity for that product.\n",
    "   - Use a try-except block to handle the error and continue prompting the user until a valid quantity is entered.\n",
    "\n",
    "```python\n",
    "# Step 1: Define the function for initializing the inventory with error handling\n",
    "def initialize_inventory(products):\n",
    "    inventory = {}\n",
    "    for product in products:\n",
    "        valid_quantity = False\n",
    "        while not valid_quantity:\n",
    "            try:\n",
    "                quantity = int(input(f\"Enter the quantity of {product}s available: \"))\n",
    "                if quantity < 0:\n",
    "                    raise ValueError(\"Invalid quantity! Please enter a non-negative value.\")\n",
    "                valid_quantity = True\n",
    "            except ValueError as error:\n",
    "                print(f\"Error: {error}\")\n",
    "        inventory[product] = quantity\n",
    "    return inventory\n",
    "\n",
    "# Or, in another way:\n",
    "\n",
    "def initialize_inventory(products):\n",
    "    inventory = {}\n",
    "    for product in products:\n",
    "        valid_input = False\n",
    "        while not valid_input:\n",
    "            try:\n",
    "                quantity = int(input(f\"Enter the quantity of {product}s available: \"))\n",
    "                if quantity >= 0:\n",
    "                    inventory[product] = quantity\n",
    "                    valid_input = True\n",
    "                else:\n",
    "                    print(\"Quantity cannot be negative. Please enter a valid quantity.\")\n",
    "            except ValueError:\n",
    "                print(\"Invalid input. Please enter a valid quantity.\")\n",
    "    return inventory\n",
    "```\n",
    "\n",
    "Let's enhance your code by implementing error handling to handle invalid inputs.\n",
    "\n",
    "Follow the steps below to complete the exercise:\n",
    "\n",
    "2. Modify the `calculate_total_price` function to include error handling.\n",
    "   - If the user enters an invalid price (e.g., a negative value or a non-numeric value), display an error message and ask them to re-enter the price for that product.\n",
    "   - Use a try-except block to handle the error and continue prompting the user until a valid price is entered.\n",
    "\n",
    "3. Modify the `get_customer_orders` function to include error handling.\n",
    "   - If the user enters an invalid number of orders (e.g., a negative value or a non-numeric value), display an error message and ask them to re-enter the number of orders.\n",
    "   - If the user enters an invalid product name (e.g., a product name that is not in the inventory), or that doesn't have stock available, display an error message and ask them to re-enter the product name. *Hint: you will need to pass inventory as a parameter*\n",
    "   - Use a try-except block to handle the error and continue prompting the user until a valid product name is entered.\n",
    "\n",
    "4. Test your code by running the program and deliberately entering invalid quantities and product names. Make sure the error handling mechanism works as expected.\n"
   ]
  },
  {
   "cell_type": "code",
   "execution_count": 5,
   "id": "09db09ee",
   "metadata": {},
   "outputs": [
    {
     "name": "stdout",
     "output_type": "stream",
     "text": [
      "Enter the quantity of t-shirts available: 4\n",
      "Enter the quantity of mugs available: 4\n",
      "Enter the quantity of hats available: 4\n",
      "Enter the quantity of books available: 4\n",
      "Enter the quantity of keychains available: 4\n"
     ]
    },
    {
     "data": {
      "text/plain": [
       "{'t-shirt': 4, 'mug': 4, 'hat': 4, 'book': 4, 'keychain': 4}"
      ]
     },
     "execution_count": 5,
     "metadata": {},
     "output_type": "execute_result"
    }
   ],
   "source": [
    "products= [\"t-shirt\", \"mug\", \"hat\", \"book\", \"keychain\"]\n",
    "\n",
    "def initialize_inventory(products):\n",
    "    inventory = {}\n",
    "    for product in products:\n",
    "        valid_quantity = False\n",
    "        while not valid_quantity:\n",
    "            try:\n",
    "                quantity = int(input(f\"Enter the quantity of {product}s available: \"))\n",
    "                if quantity < 0:\n",
    "                    raise ValueError(\"Invalid quantity! Please enter a non-negative value.\")\n",
    "                valid_quantity = True\n",
    "            except ValueError as error:\n",
    "                print(f\"Error: {error}\")\n",
    "        inventory[product] = quantity\n",
    "    return inventory\n",
    "initialize_inventory(products)"
   ]
  },
  {
   "cell_type": "code",
   "execution_count": 11,
   "id": "d13ea0e1",
   "metadata": {},
   "outputs": [
    {
     "ename": "IndentationError",
     "evalue": "unexpected unindent (<ipython-input-11-5a812d00d97f>, line 31)",
     "output_type": "error",
     "traceback": [
      "\u001b[0;36m  File \u001b[0;32m\"<ipython-input-11-5a812d00d97f>\"\u001b[0;36m, line \u001b[0;32m31\u001b[0m\n\u001b[0;31m    flag_order=True\u001b[0m\n\u001b[0m    ^\u001b[0m\n\u001b[0;31mIndentationError\u001b[0m\u001b[0;31m:\u001b[0m unexpected unindent\n"
     ]
    }
   ],
   "source": [
    "def get_customer_orders(products):\n",
    "\n",
    "    customer_orders= set() #creating the set\n",
    "    \n",
    "    valid_amount= False\n",
    "    \n",
    "    while not valid_amount:\n",
    "        try:\n",
    "            amount_customer_orders= int(input(\"Enter the number of customer orders: (positive numbers only)\"))\n",
    "    \n",
    "            if amount_customer_orders < 0:\n",
    "                raise ValueError(\"Invalid amount of customer orders! Please enter a non-negative number, no words.\")\n",
    "            valid_amount = True\n",
    "        except ValueError as error:\n",
    "            print(f\"Error: {error}\")\n",
    "\n",
    "                \n",
    "    for _ in range(amount_customer_orders):\n",
    "        valid_product = False\n",
    "        while not valid_product:\n",
    "            try:\n",
    "                product=input(\"Enter the name of the product from our inventory: \")\n",
    "                if product in products:\n",
    "                    customer_orders.add(product)\n",
    "                    valid_product = True\n",
    "                elif product not in products:\n",
    "                    raise ValueError(\"We don't have that product! Please enter only products we offer.\")\n",
    "                else:\n",
    "                    raise ValueError(\"We don't have that product! Please enter only products we offer.\")\n",
    "    \n",
    "    flag_order=True\n",
    "    while flag_order:\n",
    "        answer= input(\"Do you want to order another product? please write yes or no: \")\n",
    "        if answer.lower()== \"yes\":\n",
    "            valid_add_product = False\n",
    "            while not valid_add_product:\n",
    "                try:\n",
    "                    product=input(\"Enter the name of the product from our inventory: \")\n",
    "                    if product in products:\n",
    "                        customer_orders.add(product)\n",
    "                        valid_add_product= True\n",
    "                    else:\n",
    "                        raise ValueError(\"We don't have that product! Please enter only products we offer.\")\n",
    "                except ValueError as error:\n",
    "                    print(f\"Error: {error}\")\n",
    "    \n",
    "        elif answer.lower() == \"no\":\n",
    "            flag_order=False\n",
    "        else:\n",
    "            print(\"We didn't understand your answer, please enter the name of the product you want to order\")\n",
    "        \n",
    "    return (customer_orders)\n",
    "\n",
    "customer_orders = get_customer_orders(products)\n",
    "\n",
    "customer_orders"
   ]
  },
  {
   "cell_type": "code",
   "execution_count": 2,
   "id": "80fa01d1",
   "metadata": {},
   "outputs": [
    {
     "ename": "IndentationError",
     "evalue": "unexpected indent (<ipython-input-2-95fdad2e6d0d>, line 18)",
     "output_type": "error",
     "traceback": [
      "\u001b[0;36m  File \u001b[0;32m\"<ipython-input-2-95fdad2e6d0d>\"\u001b[0;36m, line \u001b[0;32m18\u001b[0m\n\u001b[0;31m    products_and_prices_dict= {product: int(input(\"Enter the price of \"+ product + \": \"))for product in customer_orders}\u001b[0m\n\u001b[0m    ^\u001b[0m\n\u001b[0;31mIndentationError\u001b[0m\u001b[0;31m:\u001b[0m unexpected indent\n"
     ]
    }
   ],
   "source": [
    "def total_price_customer_order(get_customer_orders):\n",
    "    products_and_prices_dict = {}\n",
    "    for product in products:\n",
    "        valid_quantity = False\n",
    "        while not valid_quantity:\n",
    "            try:\n",
    "                quantity = int(input(f\"Enter the quantity of {product}s available: \"))\n",
    "                if quantity < 0:\n",
    "                    raise ValueError(\"Invalid quantity! Please enter a non-negative value.\")\n",
    "                valid_quantity = True\n",
    "            except ValueError as error:\n",
    "                print(f\"Error: {error}\")\n",
    "        inventory[product] = quantity\n",
    "    return inventory\n",
    "initialize_inventory(products)\n",
    "    \n",
    "    \n",
    "    products_and_prices_dict= {product: int(input(\"Enter the price of \"+ product + \": \"))for product in customer_orders}\n",
    "    total= sum(products_and_prices_dict.values())\n",
    "    return \"Total Price: \" + str(total) \n",
    "\n",
    "total_price_order= total_price_customer_order(customer_orders)"
   ]
  },
  {
   "cell_type": "code",
   "execution_count": 12,
   "id": "ca71c489",
   "metadata": {},
   "outputs": [
    {
     "name": "stdout",
     "output_type": "stream",
     "text": [
      "Enter the quantity of Ellipsiss available: 4\n"
     ]
    },
    {
     "ename": "NameError",
     "evalue": "name 'get_customer_orders' is not defined",
     "output_type": "error",
     "traceback": [
      "\u001b[0;31m---------------------------------------------------------------------------\u001b[0m",
      "\u001b[0;31mNameError\u001b[0m                                 Traceback (most recent call last)",
      "\u001b[0;32m<ipython-input-12-8ed7b59082c2>\u001b[0m in \u001b[0;36m<module>\u001b[0;34m\u001b[0m\n\u001b[1;32m     22\u001b[0m \u001b[0minitialize_inventory\u001b[0m\u001b[0;34m(\u001b[0m\u001b[0mproducts\u001b[0m\u001b[0;34m)\u001b[0m  \u001b[0;31m# Make sure to define the function initialize_inventory\u001b[0m\u001b[0;34m\u001b[0m\u001b[0;34m\u001b[0m\u001b[0m\n\u001b[1;32m     23\u001b[0m \u001b[0;34m\u001b[0m\u001b[0m\n\u001b[0;32m---> 24\u001b[0;31m \u001b[0mcustomer_orders\u001b[0m \u001b[0;34m=\u001b[0m \u001b[0mget_customer_orders\u001b[0m\u001b[0;34m(\u001b[0m\u001b[0;34m)\u001b[0m  \u001b[0;31m# Assuming get_customer_orders function is defined elsewhere\u001b[0m\u001b[0;34m\u001b[0m\u001b[0;34m\u001b[0m\u001b[0m\n\u001b[0m\u001b[1;32m     25\u001b[0m \u001b[0mtotal_price_order\u001b[0m \u001b[0;34m=\u001b[0m \u001b[0mtotal_price_customer_order\u001b[0m\u001b[0;34m(\u001b[0m\u001b[0mcustomer_orders\u001b[0m\u001b[0;34m,\u001b[0m \u001b[0mproducts\u001b[0m\u001b[0;34m,\u001b[0m \u001b[0minventory\u001b[0m\u001b[0;34m)\u001b[0m\u001b[0;34m\u001b[0m\u001b[0;34m\u001b[0m\u001b[0m\n",
      "\u001b[0;31mNameError\u001b[0m: name 'get_customer_orders' is not defined"
     ]
    }
   ],
   "source": [
    "def total_price_customer_order(customer_orders, products, inventory):\n",
    "    for product in customer_orders:\n",
    "        valid_quantity = False\n",
    "        while not valid_quantity:\n",
    "            try:\n",
    "                quantity = int(input(f\"Enter the quantity of {product}s available: \"))\n",
    "                if quantity < 0:\n",
    "                    raise ValueError(\"Invalid quantity! Please enter a non-negative value.\")\n",
    "                inventory[product] = quantity\n",
    "                valid_quantity = True\n",
    "            except ValueError as error:\n",
    "                print(f\"Error: {error}\")\n",
    "\n",
    "    products_and_prices_dict = {product: int(input(\"Enter the price of \" + product + \": \"))for product in customer_orders}\n",
    "    total = sum(products_and_prices_dict.values())\n",
    "    return \"Total Price: \" + str(total)\n",
    "\n",
    "# Assuming products and inventory are defined outside the function\n",
    "products = [...]  # Define your list of products\n",
    "inventory = {}  # Define your inventory dictionary\n",
    "\n",
    "initialize_inventory(products)  # Make sure to define the function initialize_inventory\n",
    "\n",
    "customer_orders = get_customer_orders()  # Assuming get_customer_orders function is defined elsewhere\n",
    "total_price_order = total_price_customer_order(customer_orders, products, inventory)"
   ]
  },
  {
   "cell_type": "code",
   "execution_count": null,
   "id": "7ca03452",
   "metadata": {},
   "outputs": [],
   "source": []
  }
 ],
 "metadata": {
  "kernelspec": {
   "display_name": "Python 3",
   "language": "python",
   "name": "python3"
  },
  "language_info": {
   "codemirror_mode": {
    "name": "ipython",
    "version": 3
   },
   "file_extension": ".py",
   "mimetype": "text/x-python",
   "name": "python",
   "nbconvert_exporter": "python",
   "pygments_lexer": "ipython3",
   "version": "3.8.8"
  }
 },
 "nbformat": 4,
 "nbformat_minor": 5
}
