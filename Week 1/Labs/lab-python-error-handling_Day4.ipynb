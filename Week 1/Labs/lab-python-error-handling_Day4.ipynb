{
 "cells": [
  {
   "cell_type": "markdown",
   "id": "25d7736c-ba17-4aff-b6bb-66eba20fbf4e",
   "metadata": {},
   "source": [
    "# Lab | Error Handling"
   ]
  },
  {
   "cell_type": "markdown",
   "id": "bc99b386-7508-47a0-bcdb-d969deaf6c8b",
   "metadata": {},
   "source": [
    "## Exercise: Error Handling for Managing Customer Orders\n",
    "\n",
    "The implementation of your code for managing customer orders assumes that the user will always enter a valid input. \n",
    "\n",
    "For example, we could modify the `initialize_inventory` function to include error handling.\n",
    "   - If the user enters an invalid quantity (e.g., a negative value or a non-numeric value), display an error message and ask them to re-enter the quantity for that product.\n",
    "   - Use a try-except block to handle the error and continue prompting the user until a valid quantity is entered.\n",
    "\n",
    "```python\n",
    "# Step 1: Define the function for initializing the inventory with error handling\n",
    "def initialize_inventory(products):\n",
    "    inventory = {}\n",
    "    for product in products:\n",
    "        valid_quantity = False\n",
    "        while not valid_quantity:\n",
    "            try:\n",
    "                quantity = int(input(f\"Enter the quantity of {product}s available: \"))\n",
    "                if quantity < 0:\n",
    "                    raise ValueError(\"Invalid quantity! Please enter a non-negative value.\")\n",
    "                valid_quantity = True\n",
    "            except ValueError as error:\n",
    "                print(f\"Error: {error}\")\n",
    "        inventory[product] = quantity\n",
    "    return inventory\n",
    "\n",
    "# Or, in another way:\n",
    "\n",
    "def initialize_inventory(products):\n",
    "    inventory = {}\n",
    "    for product in products:\n",
    "        valid_input = False\n",
    "        while not valid_input:\n",
    "            try:\n",
    "                quantity = int(input(f\"Enter the quantity of {product}s available: \"))\n",
    "                if quantity >= 0:\n",
    "                    inventory[product] = quantity\n",
    "                    valid_input = True\n",
    "                else:\n",
    "                    print(\"Quantity cannot be negative. Please enter a valid quantity.\")\n",
    "            except ValueError:\n",
    "                print(\"Invalid input. Please enter a valid quantity.\")\n",
    "    return inventory\n",
    "```\n",
    "\n",
    "Let's enhance your code by implementing error handling to handle invalid inputs.\n",
    "\n",
    "Follow the steps below to complete the exercise:\n",
    "\n",
    "2. Modify the `calculate_total_price` function to include error handling.\n",
    "   - If the user enters an invalid price (e.g., a negative value or a non-numeric value), display an error message and ask them to re-enter the price for that product.\n",
    "   - Use a try-except block to handle the error and continue prompting the user until a valid price is entered.\n",
    "\n",
    "3. Modify the `get_customer_orders` function to include error handling.\n",
    "   - If the user enters an invalid number of orders (e.g., a negative value or a non-numeric value), display an error message and ask them to re-enter the number of orders.\n",
    "   - If the user enters an invalid product name (e.g., a product name that is not in the inventory), or that doesn't have stock available, display an error message and ask them to re-enter the product name. *Hint: you will need to pass inventory as a parameter*\n",
    "   - Use a try-except block to handle the error and continue prompting the user until a valid product name is entered.\n",
    "\n",
    "4. Test your code by running the program and deliberately entering invalid quantities and product names. Make sure the error handling mechanism works as expected.\n"
   ]
  },
  {
   "cell_type": "code",
   "execution_count": 6,
   "id": "09db09ee",
   "metadata": {},
   "outputs": [
    {
     "name": "stdout",
     "output_type": "stream",
     "text": [
      "Enter the quantity of t-shirts available: 4\n",
      "Enter the quantity of mugs available: et\n",
      "Error: invalid literal for int() with base 10: 'et'\n",
      "Enter the quantity of mugs available: 3\n",
      "Enter the quantity of hats available: 5\n",
      "Enter the quantity of books available: 3\n",
      "Enter the quantity of keychains available: 2\n"
     ]
    },
    {
     "data": {
      "text/plain": [
       "{'t-shirt': 4, 'mug': 3, 'hat': 5, 'book': 3, 'keychain': 2}"
      ]
     },
     "execution_count": 6,
     "metadata": {},
     "output_type": "execute_result"
    }
   ],
   "source": [
    "products= [\"t-shirt\", \"mug\", \"hat\", \"book\", \"keychain\"]\n",
    "\n",
    "def initialize_inventory(products):\n",
    "    inventory = {}\n",
    "    for product in products:\n",
    "        valid_quantity = False\n",
    "        while not valid_quantity:\n",
    "            try:\n",
    "                quantity = int(input(f\"Enter the quantity of {product}s available: \"))\n",
    "                if quantity < 0:\n",
    "                    raise ValueError(\"Invalid quantity! Please enter a non-negative value.\")\n",
    "                valid_quantity = True\n",
    "            except ValueError as error:\n",
    "                print(f\"Error: {error}\")\n",
    "        inventory[product] = quantity\n",
    "    return inventory\n",
    "initialize_inventory(products)"
   ]
  },
  {
   "cell_type": "code",
   "execution_count": 10,
   "id": "d13ea0e1",
   "metadata": {},
   "outputs": [
    {
     "ename": "SyntaxError",
     "evalue": "invalid syntax (<ipython-input-10-ab1e762ea11e>, line 26)",
     "output_type": "error",
     "traceback": [
      "\u001b[0;36m  File \u001b[0;32m\"<ipython-input-10-ab1e762ea11e>\"\u001b[0;36m, line \u001b[0;32m26\u001b[0m\n\u001b[0;31m    elif product in products:\u001b[0m\n\u001b[0m    ^\u001b[0m\n\u001b[0;31mSyntaxError\u001b[0m\u001b[0;31m:\u001b[0m invalid syntax\n"
     ]
    }
   ],
   "source": [
    "def get_customer_orders():\n",
    "\n",
    "    customer_orders= set() #creating the set\n",
    "    \n",
    "    valid_amount= False\n",
    "    \n",
    "    while not valid_amount:\n",
    "        try:\n",
    "            amount_customer_orders= int(input(\"Enter the number of customer orders: (positive numbers only)\"))\n",
    "    \n",
    "            if amount_customer_orders < 0:\n",
    "                raise ValueError(\"Invalid amount of customer orders! Please enter a non-negative number, no words.\")\n",
    "            valid_amount = True\n",
    "        except ValueError as error:\n",
    "            print(f\"Error: {error}\")\n",
    "\n",
    "                \n",
    "    for _ in range(amount_customer_orders):\n",
    "        valid_product = False\n",
    "        while not valid_product:\n",
    "            try:\n",
    "                product=input(\"Enter the name of the product from our inventory: \")\n",
    "                if product in products:\n",
    "                    customer_orders.add(product)\n",
    "                elif product not in products:\n",
    "                    raise ValueError(\"We don't have that product! Please enter only products we offer.\")\n",
    "                valid_amount = True\n",
    "\n",
    "                else:\n",
    "                    print(\"Sorry we don't have that product\")\n",
    "    \n",
    "    flag_order=True\n",
    "    while flag_order==True:\n",
    "        answer= input(\"Do you want to order another product? please write yes or no: \")\n",
    "        if answer== \"yes\":\n",
    "            valid_add_product = False\n",
    "            while not valid_add_product:\n",
    "                try:\n",
    "                    product=input(\"Enter the name of the product from our inventory: \")\n",
    "                if product not in products:\n",
    "                    raise ValueError(\"We don't have that product! Please enter only products we offer.\")\n",
    "                valid_amount = True\n",
    "                elif product in products:\n",
    "                    customer_orders.add(product)\n",
    "            else:\n",
    "                print(\"Sorry we don't have that product\")\n",
    "        elif answer == \"no\":\n",
    "            flag_order=False\n",
    "        else:\n",
    "            print(\"We didn't understand your answer, please enter the name of the product you want to order\")\n",
    "        \n",
    "    return (customer_orders)\n",
    "\n",
    "customer_orders = get_customer_orders()\n",
    "\n",
    "customer_orders"
   ]
  },
  {
   "cell_type": "code",
   "execution_count": null,
   "id": "80fa01d1",
   "metadata": {},
   "outputs": [],
   "source": [
    "def total_price_customer_order(get_customer_orders):\n",
    "    products_and_prices_dict = {}\n",
    "    for product in products:\n",
    "        valid_quantity = False\n",
    "        while not valid_quantity:\n",
    "            try:\n",
    "                quantity = int(input(f\"Enter the quantity of {product}s available: \"))\n",
    "                if quantity < 0:\n",
    "                    raise ValueError(\"Invalid quantity! Please enter a non-negative value.\")\n",
    "                valid_quantity = True\n",
    "            except ValueError as error:\n",
    "                print(f\"Error: {error}\")\n",
    "        inventory[product] = quantity\n",
    "    return inventory\n",
    "initialize_inventory(products)\n",
    "    \n",
    "    \n",
    "    products_and_prices_dict= {product: int(input(\"Enter the price of \"+ product + \": \"))for product in customer_orders}\n",
    "    total= sum(products_and_prices_dict.values())\n",
    "    return \"Total Price: \" + str(total) \n",
    "\n",
    "total_price_order= total_price_customer_order(customer_orders)"
   ]
  }
 ],
 "metadata": {
  "kernelspec": {
   "display_name": "Python 3",
   "language": "python",
   "name": "python3"
  },
  "language_info": {
   "codemirror_mode": {
    "name": "ipython",
    "version": 3
   },
   "file_extension": ".py",
   "mimetype": "text/x-python",
   "name": "python",
   "nbconvert_exporter": "python",
   "pygments_lexer": "ipython3",
   "version": "3.8.8"
  }
 },
 "nbformat": 4,
 "nbformat_minor": 5
}
