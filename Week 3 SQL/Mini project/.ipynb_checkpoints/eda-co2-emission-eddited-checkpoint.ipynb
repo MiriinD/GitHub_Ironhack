{
 "cells": [
  {
   "cell_type": "markdown",
   "id": "0135a81c",
   "metadata": {
    "_cell_guid": "b1076dfc-b9ad-4769-8c92-a6c4dae69d19",
    "_uuid": "8f2839f25d086af736a60e9eeb907d3b93b6e0e5",
    "execution": {
     "iopub.execute_input": "2023-08-13T16:37:26.857071Z",
     "iopub.status.busy": "2023-08-13T16:37:26.856624Z",
     "iopub.status.idle": "2023-08-13T16:37:26.871194Z",
     "shell.execute_reply": "2023-08-13T16:37:26.870037Z",
     "shell.execute_reply.started": "2023-08-13T16:37:26.857036Z"
    },
    "papermill": {
     "duration": 0.019074,
     "end_time": "2023-12-06T19:31:18.590034",
     "exception": false,
     "start_time": "2023-12-06T19:31:18.570960",
     "status": "completed"
    },
    "tags": []
   },
   "source": [
    "# <div style=\"text-align: center; background-color: #00FFFF\t; font-family:Times New Roman; color: white; padding: 14px; line-height: 1;border-radius:20px\">📊 EDA |CO2 emission Data | Visualization</div>"
   ]
  },
  {
   "cell_type": "markdown",
   "id": "be129268",
   "metadata": {
    "papermill": {
     "duration": 0.017916,
     "end_time": "2023-12-06T19:31:18.626199",
     "exception": false,
     "start_time": "2023-12-06T19:31:18.608283",
     "status": "completed"
    },
    "tags": []
   },
   "source": [
    "<h3 style=\"text-align: left;background-color: #00BFFF; font-family:Times New Roman; color: white; padding: 14px; line-height: 1; border-radius:10px\"> About Dataset📁</h3>"
   ]
  },
  {
   "cell_type": "markdown",
   "id": "dbd517c6",
   "metadata": {
    "papermill": {
     "duration": 0.017893,
     "end_time": "2023-12-06T19:31:18.662177",
     "exception": false,
     "start_time": "2023-12-06T19:31:18.644284",
     "status": "completed"
    },
    "tags": []
   },
   "source": [
    "<h4>The Global Data on Sustainable Energy Dataset contains <mark>21 columns</mark>, each with the following descriptions:</h4>\n",
    "\n",
    "* <b> <mark>1. Entity</mark></b>: The name of the country or region for which the data is reported.\n",
    "* <b> <mark>2. Year</mark></b>: The year for which the data is reported, ranging from 2000 to 2020.\n",
    "* <b> <mark>3. Access to electricity (% of population)</mark></b>: The percentage of population with access to electricity.\n",
    "* <b> <mark>4. Access to clean fuels for cooking (% of population)</mark></b>: The percentage of the population with primary reliance on clean fuels.\n",
    "* <b> <mark>5. Renewable-electricity-generating-capacity-per-capita</mark></b>: Installed Renewable energy capacity per person.\n",
    "* <b> <mark>6. Financial flows to developing countries (US $)</mark></b>: Aid and assistance from developed countries for clean energy projects.\n",
    "\n",
    "* <b> <mark>7. Renewable energy share in total final energy consumption (%)</mark></b>: Percentage of renewable energy in final energy consumption.\n",
    "\n",
    "* <b> <mark>8. Electricity from fossil fuels (TWh)</mark></b>: Electricity generated from fossil fuels (coal, oil, gas) in terawatt-hours.\n",
    "\n",
    "* <b> <mark>9. Electricity from nuclear (TWh)</mark></b>: Electricity generated from nuclear power in terawatt-hours.\n",
    "* <b> <mark>10. Electricity from renewables (TWh)</mark></b>: Electricity generated from renewable sources (hydro, solar, wind, etc.) in terawatt-hours.\n",
    "* <b> <mark>11. Low-carbon electricity (% electricity)</mark></b>: Percentage of electricity from low-carbon sources (nuclear and renewables).\n",
    "* <b> <mark>12. Primary energy consumption per capita (kWh/person)</mark></b>: Energy consumption per person in kilowatt-hours.\n",
    "* <b> <mark>13. Energy intensity level of primary energy (MJ/$2011 PPP GDP)</mark></b>: Energy use per unit of GDP at purchasing power parity.\n",
    "* <b> <mark>14. Value_co2_emissions (metric tons per capita)</mark></b>: Carbon dioxide emissions per person in metric tons.\n",
    "* <b> <mark>15. Renewables (% equivalent primary energy)</mark></b>: Equivalent primary energy that is derived from renewable sources.\n",
    "* <b> <mark>16. GDP growth (annual %)</mark></b>: Annual GDP growth rate based on constant local currency.\n",
    "* <b> <mark>17. GDP per capita</mark></b>: Gross domestic product per person.\n",
    "* <b> <mark>18. Density (P/Km2)</mark></b>: Population density in persons per square kilometer.\n",
    "* <b> <mark>19. Land Area (Km2)</mark></b>: Total land area in square kilometers.\n",
    "* <b> <mark>20. Latitude</mark></b>: Latitude of the country's centroid in decimal degrees.\n",
    "* <b> <mark>21. Longitude</mark></b>: Longitude of the country's centroid in decimal degrees.\n"
   ]
  },
  {
   "cell_type": "markdown",
   "id": "49d2d713",
   "metadata": {
    "papermill": {
     "duration": 0.018492,
     "end_time": "2023-12-06T19:31:18.698908",
     "exception": false,
     "start_time": "2023-12-06T19:31:18.680416",
     "status": "completed"
    },
    "tags": []
   },
   "source": [
    "<a id=\"1\"></a>\n",
    "# <div style=\"text-align: center; background-color: #838B8B; font-family:Times New Roman; color: white; padding: 14px; line-height: 1;border-radius:20px\">1. Import Necessary Libraries</div>"
   ]
  },
  {
   "cell_type": "code",
   "execution_count": 123,
   "id": "d788ae11",
   "metadata": {
    "execution": {
     "iopub.execute_input": "2023-12-06T19:31:18.736604Z",
     "iopub.status.busy": "2023-12-06T19:31:18.736264Z",
     "iopub.status.idle": "2023-12-06T19:31:27.591042Z",
     "shell.execute_reply": "2023-12-06T19:31:27.590222Z"
    },
    "papermill": {
     "duration": 8.876623,
     "end_time": "2023-12-06T19:31:27.593558",
     "exception": false,
     "start_time": "2023-12-06T19:31:18.716935",
     "status": "completed"
    },
    "tags": []
   },
   "outputs": [],
   "source": [
    "import numpy as np # linear algebra\n",
    "import pandas as pd # data processing, CSV file I/O (e.g. pd.read_csv)\n",
    "import matplotlib.pyplot as plt\n"
   ]
  },
  {
   "cell_type": "code",
   "execution_count": 124,
   "id": "b2e4f1bf",
   "metadata": {
    "execution": {
     "iopub.execute_input": "2023-12-06T19:31:27.632104Z",
     "iopub.status.busy": "2023-12-06T19:31:27.631751Z",
     "iopub.status.idle": "2023-12-06T19:31:27.668942Z",
     "shell.execute_reply": "2023-12-06T19:31:27.668161Z"
    },
    "papermill": {
     "duration": 0.058356,
     "end_time": "2023-12-06T19:31:27.670877",
     "exception": false,
     "start_time": "2023-12-06T19:31:27.612521",
     "status": "completed"
    },
    "tags": []
   },
   "outputs": [],
   "source": [
    "df= pd.read_csv('/Users/miriamg/Documents/GitHub_Ironhack/Week 3 SQL/Mini project/Clean_energy_countries.csv')"
   ]
  },
  {
   "cell_type": "markdown",
   "id": "ab52e755",
   "metadata": {
    "papermill": {
     "duration": 0.018415,
     "end_time": "2023-12-06T19:31:27.707950",
     "exception": false,
     "start_time": "2023-12-06T19:31:27.689535",
     "status": "completed"
    },
    "tags": []
   },
   "source": [
    "<a id=\"1\"></a>\n",
    "# <div style=\"text-align: center; background-color: #CDC8B1; font-family:Times New Roman; color: white; padding: 14px; line-height: 1;border-radius:20px\">2. Exploratory Data Analysis 📊 </div>"
   ]
  },
  {
   "cell_type": "code",
   "execution_count": 125,
   "id": "9a57a009",
   "metadata": {
    "execution": {
     "iopub.execute_input": "2023-12-06T19:31:27.745807Z",
     "iopub.status.busy": "2023-12-06T19:31:27.745247Z",
     "iopub.status.idle": "2023-12-06T19:31:27.777516Z",
     "shell.execute_reply": "2023-12-06T19:31:27.776675Z"
    },
    "papermill": {
     "duration": 0.053151,
     "end_time": "2023-12-06T19:31:27.779355",
     "exception": false,
     "start_time": "2023-12-06T19:31:27.726204",
     "status": "completed"
    },
    "tags": []
   },
   "outputs": [
    {
     "data": {
      "text/html": [
       "<div>\n",
       "<style scoped>\n",
       "    .dataframe tbody tr th:only-of-type {\n",
       "        vertical-align: middle;\n",
       "    }\n",
       "\n",
       "    .dataframe tbody tr th {\n",
       "        vertical-align: top;\n",
       "    }\n",
       "\n",
       "    .dataframe thead th {\n",
       "        text-align: right;\n",
       "    }\n",
       "</style>\n",
       "<table border=\"1\" class=\"dataframe\">\n",
       "  <thead>\n",
       "    <tr style=\"text-align: right;\">\n",
       "      <th></th>\n",
       "      <th>Unnamed: 0</th>\n",
       "      <th>Entity</th>\n",
       "      <th>Year</th>\n",
       "      <th>Access to electricity (% of population)</th>\n",
       "      <th>Access to clean fuels for cooking</th>\n",
       "      <th>Renewable energy share in the total final energy consumption (%)</th>\n",
       "      <th>Electricity from fossil fuels (TWh)</th>\n",
       "      <th>Electricity from nuclear (TWh)</th>\n",
       "      <th>Electricity from renewables (TWh)</th>\n",
       "      <th>Low-carbon electricity (% electricity)</th>\n",
       "      <th>Primary energy consumption per capita (kWh/person)</th>\n",
       "      <th>Energy intensity level of primary energy (MJ/$2017 PPP GDP)</th>\n",
       "      <th>CO2</th>\n",
       "      <th>gdp_growth</th>\n",
       "      <th>gdp_per_capita</th>\n",
       "      <th>Density</th>\n",
       "      <th>Land</th>\n",
       "      <th>Latitude</th>\n",
       "      <th>Longitude</th>\n",
       "    </tr>\n",
       "  </thead>\n",
       "  <tbody>\n",
       "    <tr>\n",
       "      <th>0</th>\n",
       "      <td>0</td>\n",
       "      <td>Afghanistan</td>\n",
       "      <td>2000</td>\n",
       "      <td>1.613591</td>\n",
       "      <td>6.2</td>\n",
       "      <td>44.99</td>\n",
       "      <td>0.16</td>\n",
       "      <td>0.0</td>\n",
       "      <td>0.31</td>\n",
       "      <td>65.957440</td>\n",
       "      <td>302.59482</td>\n",
       "      <td>1.64</td>\n",
       "      <td>760.000000</td>\n",
       "      <td>3.441610</td>\n",
       "      <td>13283.774348</td>\n",
       "      <td>60</td>\n",
       "      <td>652230.0</td>\n",
       "      <td>33.93911</td>\n",
       "      <td>67.709953</td>\n",
       "    </tr>\n",
       "    <tr>\n",
       "      <th>1</th>\n",
       "      <td>1</td>\n",
       "      <td>Afghanistan</td>\n",
       "      <td>2001</td>\n",
       "      <td>4.074574</td>\n",
       "      <td>7.2</td>\n",
       "      <td>45.60</td>\n",
       "      <td>0.09</td>\n",
       "      <td>0.0</td>\n",
       "      <td>0.50</td>\n",
       "      <td>84.745766</td>\n",
       "      <td>236.89185</td>\n",
       "      <td>1.74</td>\n",
       "      <td>730.000000</td>\n",
       "      <td>3.441610</td>\n",
       "      <td>13283.774348</td>\n",
       "      <td>60</td>\n",
       "      <td>652230.0</td>\n",
       "      <td>33.93911</td>\n",
       "      <td>67.709953</td>\n",
       "    </tr>\n",
       "    <tr>\n",
       "      <th>2</th>\n",
       "      <td>2</td>\n",
       "      <td>Afghanistan</td>\n",
       "      <td>2002</td>\n",
       "      <td>9.409158</td>\n",
       "      <td>8.2</td>\n",
       "      <td>37.83</td>\n",
       "      <td>0.13</td>\n",
       "      <td>0.0</td>\n",
       "      <td>0.56</td>\n",
       "      <td>81.159424</td>\n",
       "      <td>210.86215</td>\n",
       "      <td>1.40</td>\n",
       "      <td>1029.999971</td>\n",
       "      <td>3.441610</td>\n",
       "      <td>179.426579</td>\n",
       "      <td>60</td>\n",
       "      <td>652230.0</td>\n",
       "      <td>33.93911</td>\n",
       "      <td>67.709953</td>\n",
       "    </tr>\n",
       "    <tr>\n",
       "      <th>3</th>\n",
       "      <td>3</td>\n",
       "      <td>Afghanistan</td>\n",
       "      <td>2003</td>\n",
       "      <td>14.738506</td>\n",
       "      <td>9.5</td>\n",
       "      <td>36.66</td>\n",
       "      <td>0.31</td>\n",
       "      <td>0.0</td>\n",
       "      <td>0.63</td>\n",
       "      <td>67.021280</td>\n",
       "      <td>229.96822</td>\n",
       "      <td>1.40</td>\n",
       "      <td>1220.000029</td>\n",
       "      <td>8.832278</td>\n",
       "      <td>190.683814</td>\n",
       "      <td>60</td>\n",
       "      <td>652230.0</td>\n",
       "      <td>33.93911</td>\n",
       "      <td>67.709953</td>\n",
       "    </tr>\n",
       "    <tr>\n",
       "      <th>4</th>\n",
       "      <td>4</td>\n",
       "      <td>Afghanistan</td>\n",
       "      <td>2004</td>\n",
       "      <td>20.064968</td>\n",
       "      <td>10.9</td>\n",
       "      <td>44.24</td>\n",
       "      <td>0.33</td>\n",
       "      <td>0.0</td>\n",
       "      <td>0.56</td>\n",
       "      <td>62.921350</td>\n",
       "      <td>204.23125</td>\n",
       "      <td>1.20</td>\n",
       "      <td>1029.999971</td>\n",
       "      <td>1.414118</td>\n",
       "      <td>211.382074</td>\n",
       "      <td>60</td>\n",
       "      <td>652230.0</td>\n",
       "      <td>33.93911</td>\n",
       "      <td>67.709953</td>\n",
       "    </tr>\n",
       "  </tbody>\n",
       "</table>\n",
       "</div>"
      ],
      "text/plain": [
       "   Unnamed: 0       Entity  Year  Access to electricity (% of population)  \\\n",
       "0           0  Afghanistan  2000                                 1.613591   \n",
       "1           1  Afghanistan  2001                                 4.074574   \n",
       "2           2  Afghanistan  2002                                 9.409158   \n",
       "3           3  Afghanistan  2003                                14.738506   \n",
       "4           4  Afghanistan  2004                                20.064968   \n",
       "\n",
       "   Access to clean fuels for cooking  \\\n",
       "0                                6.2   \n",
       "1                                7.2   \n",
       "2                                8.2   \n",
       "3                                9.5   \n",
       "4                               10.9   \n",
       "\n",
       "   Renewable energy share in the total final energy consumption (%)  \\\n",
       "0                                              44.99                  \n",
       "1                                              45.60                  \n",
       "2                                              37.83                  \n",
       "3                                              36.66                  \n",
       "4                                              44.24                  \n",
       "\n",
       "   Electricity from fossil fuels (TWh)  Electricity from nuclear (TWh)  \\\n",
       "0                                 0.16                             0.0   \n",
       "1                                 0.09                             0.0   \n",
       "2                                 0.13                             0.0   \n",
       "3                                 0.31                             0.0   \n",
       "4                                 0.33                             0.0   \n",
       "\n",
       "   Electricity from renewables (TWh)  Low-carbon electricity (% electricity)  \\\n",
       "0                               0.31                               65.957440   \n",
       "1                               0.50                               84.745766   \n",
       "2                               0.56                               81.159424   \n",
       "3                               0.63                               67.021280   \n",
       "4                               0.56                               62.921350   \n",
       "\n",
       "   Primary energy consumption per capita (kWh/person)  \\\n",
       "0                                          302.59482    \n",
       "1                                          236.89185    \n",
       "2                                          210.86215    \n",
       "3                                          229.96822    \n",
       "4                                          204.23125    \n",
       "\n",
       "   Energy intensity level of primary energy (MJ/$2017 PPP GDP)          CO2  \\\n",
       "0                                               1.64             760.000000   \n",
       "1                                               1.74             730.000000   \n",
       "2                                               1.40            1029.999971   \n",
       "3                                               1.40            1220.000029   \n",
       "4                                               1.20            1029.999971   \n",
       "\n",
       "   gdp_growth  gdp_per_capita  Density      Land  Latitude  Longitude  \n",
       "0    3.441610    13283.774348       60  652230.0  33.93911  67.709953  \n",
       "1    3.441610    13283.774348       60  652230.0  33.93911  67.709953  \n",
       "2    3.441610      179.426579       60  652230.0  33.93911  67.709953  \n",
       "3    8.832278      190.683814       60  652230.0  33.93911  67.709953  \n",
       "4    1.414118      211.382074       60  652230.0  33.93911  67.709953  "
      ]
     },
     "execution_count": 125,
     "metadata": {},
     "output_type": "execute_result"
    }
   ],
   "source": [
    "df.head(5)"
   ]
  },
  {
   "cell_type": "code",
   "execution_count": 80,
   "id": "17121f49",
   "metadata": {
    "execution": {
     "iopub.execute_input": "2023-12-06T19:31:27.818220Z",
     "iopub.status.busy": "2023-12-06T19:31:27.817980Z",
     "iopub.status.idle": "2023-12-06T19:31:27.823555Z",
     "shell.execute_reply": "2023-12-06T19:31:27.822687Z"
    },
    "papermill": {
     "duration": 0.027279,
     "end_time": "2023-12-06T19:31:27.825557",
     "exception": false,
     "start_time": "2023-12-06T19:31:27.798278",
     "status": "completed"
    },
    "tags": []
   },
   "outputs": [
    {
     "data": {
      "text/plain": [
       "Index(['Entity', 'Year', 'Access to electricity (% of population)',\n",
       "       'Access to clean fuels for cooking',\n",
       "       'Renewable-electricity-generating-capacity-per-capita',\n",
       "       'Financial flows to developing countries (US $)',\n",
       "       'Renewable energy share in the total final energy consumption (%)',\n",
       "       'Electricity from fossil fuels (TWh)', 'Electricity from nuclear (TWh)',\n",
       "       'Electricity from renewables (TWh)',\n",
       "       'Low-carbon electricity (% electricity)',\n",
       "       'Primary energy consumption per capita (kWh/person)',\n",
       "       'Energy intensity level of primary energy (MJ/$2017 PPP GDP)',\n",
       "       'Value_co2_emissions_kt_by_country',\n",
       "       'Renewables (% equivalent primary energy)', 'gdp_growth',\n",
       "       'gdp_per_capita', 'Density\\n(P/Km2)', 'Land Area(Km2)', 'Latitude',\n",
       "       'Longitude'],\n",
       "      dtype='object')"
      ]
     },
     "execution_count": 80,
     "metadata": {},
     "output_type": "execute_result"
    }
   ],
   "source": [
    "df.columns"
   ]
  },
  {
   "cell_type": "code",
   "execution_count": 81,
   "id": "ac70a399",
   "metadata": {
    "execution": {
     "iopub.execute_input": "2023-12-06T19:31:27.864840Z",
     "iopub.status.busy": "2023-12-06T19:31:27.864347Z",
     "iopub.status.idle": "2023-12-06T19:31:27.869502Z",
     "shell.execute_reply": "2023-12-06T19:31:27.868709Z"
    },
    "papermill": {
     "duration": 0.026898,
     "end_time": "2023-12-06T19:31:27.871344",
     "exception": false,
     "start_time": "2023-12-06T19:31:27.844446",
     "status": "completed"
    },
    "tags": []
   },
   "outputs": [
    {
     "data": {
      "text/plain": [
       "(3649, 21)"
      ]
     },
     "execution_count": 81,
     "metadata": {},
     "output_type": "execute_result"
    }
   ],
   "source": [
    "df.shape"
   ]
  },
  {
   "cell_type": "code",
   "execution_count": 82,
   "id": "b76931fe",
   "metadata": {
    "execution": {
     "iopub.execute_input": "2023-12-06T19:31:27.911835Z",
     "iopub.status.busy": "2023-12-06T19:31:27.911511Z",
     "iopub.status.idle": "2023-12-06T19:31:27.981609Z",
     "shell.execute_reply": "2023-12-06T19:31:27.980807Z"
    },
    "papermill": {
     "duration": 0.09275,
     "end_time": "2023-12-06T19:31:27.983515",
     "exception": false,
     "start_time": "2023-12-06T19:31:27.890765",
     "status": "completed"
    },
    "tags": []
   },
   "outputs": [
    {
     "data": {
      "text/html": [
       "<div>\n",
       "<style scoped>\n",
       "    .dataframe tbody tr th:only-of-type {\n",
       "        vertical-align: middle;\n",
       "    }\n",
       "\n",
       "    .dataframe tbody tr th {\n",
       "        vertical-align: top;\n",
       "    }\n",
       "\n",
       "    .dataframe thead th {\n",
       "        text-align: right;\n",
       "    }\n",
       "</style>\n",
       "<table border=\"1\" class=\"dataframe\">\n",
       "  <thead>\n",
       "    <tr style=\"text-align: right;\">\n",
       "      <th></th>\n",
       "      <th>count</th>\n",
       "      <th>mean</th>\n",
       "      <th>std</th>\n",
       "      <th>min</th>\n",
       "      <th>25%</th>\n",
       "      <th>50%</th>\n",
       "      <th>75%</th>\n",
       "      <th>max</th>\n",
       "    </tr>\n",
       "  </thead>\n",
       "  <tbody>\n",
       "    <tr>\n",
       "      <th>Year</th>\n",
       "      <td>3649.0</td>\n",
       "      <td>2.010038e+03</td>\n",
       "      <td>6.054228e+00</td>\n",
       "      <td>2000.000000</td>\n",
       "      <td>2005.000000</td>\n",
       "      <td>2.010000e+03</td>\n",
       "      <td>2.015000e+03</td>\n",
       "      <td>2.020000e+03</td>\n",
       "    </tr>\n",
       "    <tr>\n",
       "      <th>Access to electricity (% of population)</th>\n",
       "      <td>3639.0</td>\n",
       "      <td>7.893370e+01</td>\n",
       "      <td>3.027554e+01</td>\n",
       "      <td>1.252269</td>\n",
       "      <td>59.800890</td>\n",
       "      <td>9.836157e+01</td>\n",
       "      <td>1.000000e+02</td>\n",
       "      <td>1.000000e+02</td>\n",
       "    </tr>\n",
       "    <tr>\n",
       "      <th>Access to clean fuels for cooking</th>\n",
       "      <td>3480.0</td>\n",
       "      <td>6.325529e+01</td>\n",
       "      <td>3.904366e+01</td>\n",
       "      <td>0.000000</td>\n",
       "      <td>23.175000</td>\n",
       "      <td>8.315000e+01</td>\n",
       "      <td>1.000000e+02</td>\n",
       "      <td>1.000000e+02</td>\n",
       "    </tr>\n",
       "    <tr>\n",
       "      <th>Renewable-electricity-generating-capacity-per-capita</th>\n",
       "      <td>2718.0</td>\n",
       "      <td>1.131375e+02</td>\n",
       "      <td>2.441673e+02</td>\n",
       "      <td>0.000000</td>\n",
       "      <td>3.540000</td>\n",
       "      <td>3.291000e+01</td>\n",
       "      <td>1.122100e+02</td>\n",
       "      <td>3.060190e+03</td>\n",
       "    </tr>\n",
       "    <tr>\n",
       "      <th>Financial flows to developing countries (US $)</th>\n",
       "      <td>1560.0</td>\n",
       "      <td>9.422400e+07</td>\n",
       "      <td>2.981544e+08</td>\n",
       "      <td>0.000000</td>\n",
       "      <td>260000.000000</td>\n",
       "      <td>5.665000e+06</td>\n",
       "      <td>5.534750e+07</td>\n",
       "      <td>5.202310e+09</td>\n",
       "    </tr>\n",
       "    <tr>\n",
       "      <th>Renewable energy share in the total final energy consumption (%)</th>\n",
       "      <td>3455.0</td>\n",
       "      <td>3.263816e+01</td>\n",
       "      <td>2.989490e+01</td>\n",
       "      <td>0.000000</td>\n",
       "      <td>6.515000</td>\n",
       "      <td>2.330000e+01</td>\n",
       "      <td>5.524500e+01</td>\n",
       "      <td>9.604000e+01</td>\n",
       "    </tr>\n",
       "    <tr>\n",
       "      <th>Electricity from fossil fuels (TWh)</th>\n",
       "      <td>3628.0</td>\n",
       "      <td>7.036500e+01</td>\n",
       "      <td>3.480519e+02</td>\n",
       "      <td>0.000000</td>\n",
       "      <td>0.290000</td>\n",
       "      <td>2.970000e+00</td>\n",
       "      <td>2.683750e+01</td>\n",
       "      <td>5.184130e+03</td>\n",
       "    </tr>\n",
       "    <tr>\n",
       "      <th>Electricity from nuclear (TWh)</th>\n",
       "      <td>3523.0</td>\n",
       "      <td>1.345019e+01</td>\n",
       "      <td>7.300662e+01</td>\n",
       "      <td>0.000000</td>\n",
       "      <td>0.000000</td>\n",
       "      <td>0.000000e+00</td>\n",
       "      <td>0.000000e+00</td>\n",
       "      <td>8.094100e+02</td>\n",
       "    </tr>\n",
       "    <tr>\n",
       "      <th>Electricity from renewables (TWh)</th>\n",
       "      <td>3628.0</td>\n",
       "      <td>2.396801e+01</td>\n",
       "      <td>1.044311e+02</td>\n",
       "      <td>0.000000</td>\n",
       "      <td>0.040000</td>\n",
       "      <td>1.470000e+00</td>\n",
       "      <td>9.600000e+00</td>\n",
       "      <td>2.184940e+03</td>\n",
       "    </tr>\n",
       "    <tr>\n",
       "      <th>Low-carbon electricity (% electricity)</th>\n",
       "      <td>3607.0</td>\n",
       "      <td>3.680118e+01</td>\n",
       "      <td>3.431488e+01</td>\n",
       "      <td>0.000000</td>\n",
       "      <td>2.877847</td>\n",
       "      <td>2.786507e+01</td>\n",
       "      <td>6.440379e+01</td>\n",
       "      <td>1.000000e+02</td>\n",
       "    </tr>\n",
       "    <tr>\n",
       "      <th>Primary energy consumption per capita (kWh/person)</th>\n",
       "      <td>3649.0</td>\n",
       "      <td>2.574398e+04</td>\n",
       "      <td>3.477322e+04</td>\n",
       "      <td>0.000000</td>\n",
       "      <td>3116.737300</td>\n",
       "      <td>1.312057e+04</td>\n",
       "      <td>3.389278e+04</td>\n",
       "      <td>2.625857e+05</td>\n",
       "    </tr>\n",
       "    <tr>\n",
       "      <th>Energy intensity level of primary energy (MJ/$2017 PPP GDP)</th>\n",
       "      <td>3442.0</td>\n",
       "      <td>5.307345e+00</td>\n",
       "      <td>3.532020e+00</td>\n",
       "      <td>0.110000</td>\n",
       "      <td>3.170000</td>\n",
       "      <td>4.300000e+00</td>\n",
       "      <td>6.027500e+00</td>\n",
       "      <td>3.257000e+01</td>\n",
       "    </tr>\n",
       "    <tr>\n",
       "      <th>Value_co2_emissions_kt_by_country</th>\n",
       "      <td>3221.0</td>\n",
       "      <td>1.598665e+05</td>\n",
       "      <td>7.736611e+05</td>\n",
       "      <td>10.000000</td>\n",
       "      <td>2019.999981</td>\n",
       "      <td>1.050000e+04</td>\n",
       "      <td>6.058000e+04</td>\n",
       "      <td>1.070722e+07</td>\n",
       "    </tr>\n",
       "    <tr>\n",
       "      <th>Renewables (% equivalent primary energy)</th>\n",
       "      <td>1512.0</td>\n",
       "      <td>1.198671e+01</td>\n",
       "      <td>1.499464e+01</td>\n",
       "      <td>0.000000</td>\n",
       "      <td>2.137095</td>\n",
       "      <td>6.290766e+00</td>\n",
       "      <td>1.684164e+01</td>\n",
       "      <td>8.683659e+01</td>\n",
       "    </tr>\n",
       "    <tr>\n",
       "      <th>gdp_growth</th>\n",
       "      <td>3332.0</td>\n",
       "      <td>3.441610e+00</td>\n",
       "      <td>5.686720e+00</td>\n",
       "      <td>-62.075920</td>\n",
       "      <td>1.383302</td>\n",
       "      <td>3.559855e+00</td>\n",
       "      <td>5.830099e+00</td>\n",
       "      <td>1.231396e+02</td>\n",
       "    </tr>\n",
       "    <tr>\n",
       "      <th>gdp_per_capita</th>\n",
       "      <td>3367.0</td>\n",
       "      <td>1.328377e+04</td>\n",
       "      <td>1.970987e+04</td>\n",
       "      <td>111.927225</td>\n",
       "      <td>1337.813437</td>\n",
       "      <td>4.578633e+03</td>\n",
       "      <td>1.576862e+04</td>\n",
       "      <td>1.235142e+05</td>\n",
       "    </tr>\n",
       "    <tr>\n",
       "      <th>Land Area(Km2)</th>\n",
       "      <td>3648.0</td>\n",
       "      <td>6.332135e+05</td>\n",
       "      <td>1.585519e+06</td>\n",
       "      <td>21.000000</td>\n",
       "      <td>25713.000000</td>\n",
       "      <td>1.176000e+05</td>\n",
       "      <td>5.131200e+05</td>\n",
       "      <td>9.984670e+06</td>\n",
       "    </tr>\n",
       "    <tr>\n",
       "      <th>Latitude</th>\n",
       "      <td>3648.0</td>\n",
       "      <td>1.824639e+01</td>\n",
       "      <td>2.415923e+01</td>\n",
       "      <td>-40.900557</td>\n",
       "      <td>3.202778</td>\n",
       "      <td>1.718988e+01</td>\n",
       "      <td>3.896972e+01</td>\n",
       "      <td>6.496305e+01</td>\n",
       "    </tr>\n",
       "    <tr>\n",
       "      <th>Longitude</th>\n",
       "      <td>3648.0</td>\n",
       "      <td>1.482269e+01</td>\n",
       "      <td>6.634815e+01</td>\n",
       "      <td>-175.198242</td>\n",
       "      <td>-11.779889</td>\n",
       "      <td>1.914514e+01</td>\n",
       "      <td>4.619962e+01</td>\n",
       "      <td>1.780650e+02</td>\n",
       "    </tr>\n",
       "  </tbody>\n",
       "</table>\n",
       "</div>"
      ],
      "text/plain": [
       "                                                     count          mean  \\\n",
       "Year                                                3649.0  2.010038e+03   \n",
       "Access to electricity (% of population)             3639.0  7.893370e+01   \n",
       "Access to clean fuels for cooking                   3480.0  6.325529e+01   \n",
       "Renewable-electricity-generating-capacity-per-c...  2718.0  1.131375e+02   \n",
       "Financial flows to developing countries (US $)      1560.0  9.422400e+07   \n",
       "Renewable energy share in the total final energ...  3455.0  3.263816e+01   \n",
       "Electricity from fossil fuels (TWh)                 3628.0  7.036500e+01   \n",
       "Electricity from nuclear (TWh)                      3523.0  1.345019e+01   \n",
       "Electricity from renewables (TWh)                   3628.0  2.396801e+01   \n",
       "Low-carbon electricity (% electricity)              3607.0  3.680118e+01   \n",
       "Primary energy consumption per capita (kWh/person)  3649.0  2.574398e+04   \n",
       "Energy intensity level of primary energy (MJ/$2...  3442.0  5.307345e+00   \n",
       "Value_co2_emissions_kt_by_country                   3221.0  1.598665e+05   \n",
       "Renewables (% equivalent primary energy)            1512.0  1.198671e+01   \n",
       "gdp_growth                                          3332.0  3.441610e+00   \n",
       "gdp_per_capita                                      3367.0  1.328377e+04   \n",
       "Land Area(Km2)                                      3648.0  6.332135e+05   \n",
       "Latitude                                            3648.0  1.824639e+01   \n",
       "Longitude                                           3648.0  1.482269e+01   \n",
       "\n",
       "                                                             std          min  \\\n",
       "Year                                                6.054228e+00  2000.000000   \n",
       "Access to electricity (% of population)             3.027554e+01     1.252269   \n",
       "Access to clean fuels for cooking                   3.904366e+01     0.000000   \n",
       "Renewable-electricity-generating-capacity-per-c...  2.441673e+02     0.000000   \n",
       "Financial flows to developing countries (US $)      2.981544e+08     0.000000   \n",
       "Renewable energy share in the total final energ...  2.989490e+01     0.000000   \n",
       "Electricity from fossil fuels (TWh)                 3.480519e+02     0.000000   \n",
       "Electricity from nuclear (TWh)                      7.300662e+01     0.000000   \n",
       "Electricity from renewables (TWh)                   1.044311e+02     0.000000   \n",
       "Low-carbon electricity (% electricity)              3.431488e+01     0.000000   \n",
       "Primary energy consumption per capita (kWh/person)  3.477322e+04     0.000000   \n",
       "Energy intensity level of primary energy (MJ/$2...  3.532020e+00     0.110000   \n",
       "Value_co2_emissions_kt_by_country                   7.736611e+05    10.000000   \n",
       "Renewables (% equivalent primary energy)            1.499464e+01     0.000000   \n",
       "gdp_growth                                          5.686720e+00   -62.075920   \n",
       "gdp_per_capita                                      1.970987e+04   111.927225   \n",
       "Land Area(Km2)                                      1.585519e+06    21.000000   \n",
       "Latitude                                            2.415923e+01   -40.900557   \n",
       "Longitude                                           6.634815e+01  -175.198242   \n",
       "\n",
       "                                                              25%  \\\n",
       "Year                                                  2005.000000   \n",
       "Access to electricity (% of population)                 59.800890   \n",
       "Access to clean fuels for cooking                       23.175000   \n",
       "Renewable-electricity-generating-capacity-per-c...       3.540000   \n",
       "Financial flows to developing countries (US $)      260000.000000   \n",
       "Renewable energy share in the total final energ...       6.515000   \n",
       "Electricity from fossil fuels (TWh)                      0.290000   \n",
       "Electricity from nuclear (TWh)                           0.000000   \n",
       "Electricity from renewables (TWh)                        0.040000   \n",
       "Low-carbon electricity (% electricity)                   2.877847   \n",
       "Primary energy consumption per capita (kWh/person)    3116.737300   \n",
       "Energy intensity level of primary energy (MJ/$2...       3.170000   \n",
       "Value_co2_emissions_kt_by_country                     2019.999981   \n",
       "Renewables (% equivalent primary energy)                 2.137095   \n",
       "gdp_growth                                               1.383302   \n",
       "gdp_per_capita                                        1337.813437   \n",
       "Land Area(Km2)                                       25713.000000   \n",
       "Latitude                                                 3.202778   \n",
       "Longitude                                              -11.779889   \n",
       "\n",
       "                                                             50%  \\\n",
       "Year                                                2.010000e+03   \n",
       "Access to electricity (% of population)             9.836157e+01   \n",
       "Access to clean fuels for cooking                   8.315000e+01   \n",
       "Renewable-electricity-generating-capacity-per-c...  3.291000e+01   \n",
       "Financial flows to developing countries (US $)      5.665000e+06   \n",
       "Renewable energy share in the total final energ...  2.330000e+01   \n",
       "Electricity from fossil fuels (TWh)                 2.970000e+00   \n",
       "Electricity from nuclear (TWh)                      0.000000e+00   \n",
       "Electricity from renewables (TWh)                   1.470000e+00   \n",
       "Low-carbon electricity (% electricity)              2.786507e+01   \n",
       "Primary energy consumption per capita (kWh/person)  1.312057e+04   \n",
       "Energy intensity level of primary energy (MJ/$2...  4.300000e+00   \n",
       "Value_co2_emissions_kt_by_country                   1.050000e+04   \n",
       "Renewables (% equivalent primary energy)            6.290766e+00   \n",
       "gdp_growth                                          3.559855e+00   \n",
       "gdp_per_capita                                      4.578633e+03   \n",
       "Land Area(Km2)                                      1.176000e+05   \n",
       "Latitude                                            1.718988e+01   \n",
       "Longitude                                           1.914514e+01   \n",
       "\n",
       "                                                             75%           max  \n",
       "Year                                                2.015000e+03  2.020000e+03  \n",
       "Access to electricity (% of population)             1.000000e+02  1.000000e+02  \n",
       "Access to clean fuels for cooking                   1.000000e+02  1.000000e+02  \n",
       "Renewable-electricity-generating-capacity-per-c...  1.122100e+02  3.060190e+03  \n",
       "Financial flows to developing countries (US $)      5.534750e+07  5.202310e+09  \n",
       "Renewable energy share in the total final energ...  5.524500e+01  9.604000e+01  \n",
       "Electricity from fossil fuels (TWh)                 2.683750e+01  5.184130e+03  \n",
       "Electricity from nuclear (TWh)                      0.000000e+00  8.094100e+02  \n",
       "Electricity from renewables (TWh)                   9.600000e+00  2.184940e+03  \n",
       "Low-carbon electricity (% electricity)              6.440379e+01  1.000000e+02  \n",
       "Primary energy consumption per capita (kWh/person)  3.389278e+04  2.625857e+05  \n",
       "Energy intensity level of primary energy (MJ/$2...  6.027500e+00  3.257000e+01  \n",
       "Value_co2_emissions_kt_by_country                   6.058000e+04  1.070722e+07  \n",
       "Renewables (% equivalent primary energy)            1.684164e+01  8.683659e+01  \n",
       "gdp_growth                                          5.830099e+00  1.231396e+02  \n",
       "gdp_per_capita                                      1.576862e+04  1.235142e+05  \n",
       "Land Area(Km2)                                      5.131200e+05  9.984670e+06  \n",
       "Latitude                                            3.896972e+01  6.496305e+01  \n",
       "Longitude                                           4.619962e+01  1.780650e+02  "
      ]
     },
     "execution_count": 82,
     "metadata": {},
     "output_type": "execute_result"
    }
   ],
   "source": [
    "df.describe().T"
   ]
  },
  {
   "cell_type": "code",
   "execution_count": 83,
   "id": "f7038d1e",
   "metadata": {
    "execution": {
     "iopub.execute_input": "2023-12-06T19:31:28.024159Z",
     "iopub.status.busy": "2023-12-06T19:31:28.023895Z",
     "iopub.status.idle": "2023-12-06T19:31:28.041285Z",
     "shell.execute_reply": "2023-12-06T19:31:28.040465Z"
    },
    "papermill": {
     "duration": 0.039883,
     "end_time": "2023-12-06T19:31:28.043101",
     "exception": false,
     "start_time": "2023-12-06T19:31:28.003218",
     "status": "completed"
    },
    "tags": []
   },
   "outputs": [
    {
     "data": {
      "text/html": [
       "<div>\n",
       "<style scoped>\n",
       "    .dataframe tbody tr th:only-of-type {\n",
       "        vertical-align: middle;\n",
       "    }\n",
       "\n",
       "    .dataframe tbody tr th {\n",
       "        vertical-align: top;\n",
       "    }\n",
       "\n",
       "    .dataframe thead th {\n",
       "        text-align: right;\n",
       "    }\n",
       "</style>\n",
       "<table border=\"1\" class=\"dataframe\">\n",
       "  <thead>\n",
       "    <tr style=\"text-align: right;\">\n",
       "      <th></th>\n",
       "      <th>count</th>\n",
       "      <th>unique</th>\n",
       "      <th>top</th>\n",
       "      <th>freq</th>\n",
       "    </tr>\n",
       "  </thead>\n",
       "  <tbody>\n",
       "    <tr>\n",
       "      <th>Entity</th>\n",
       "      <td>3649</td>\n",
       "      <td>176</td>\n",
       "      <td>Afghanistan</td>\n",
       "      <td>21</td>\n",
       "    </tr>\n",
       "    <tr>\n",
       "      <th>Density\\n(P/Km2)</th>\n",
       "      <td>3648</td>\n",
       "      <td>124</td>\n",
       "      <td>25</td>\n",
       "      <td>147</td>\n",
       "    </tr>\n",
       "  </tbody>\n",
       "</table>\n",
       "</div>"
      ],
      "text/plain": [
       "                 count unique          top freq\n",
       "Entity            3649    176  Afghanistan   21\n",
       "Density\\n(P/Km2)  3648    124           25  147"
      ]
     },
     "execution_count": 83,
     "metadata": {},
     "output_type": "execute_result"
    }
   ],
   "source": [
    "df.describe(include = 'object').T"
   ]
  },
  {
   "cell_type": "code",
   "execution_count": 84,
   "id": "100c3f68",
   "metadata": {
    "execution": {
     "iopub.execute_input": "2023-12-06T19:31:28.084912Z",
     "iopub.status.busy": "2023-12-06T19:31:28.084630Z",
     "iopub.status.idle": "2023-12-06T19:31:28.096813Z",
     "shell.execute_reply": "2023-12-06T19:31:28.096042Z"
    },
    "papermill": {
     "duration": 0.035365,
     "end_time": "2023-12-06T19:31:28.098600",
     "exception": false,
     "start_time": "2023-12-06T19:31:28.063235",
     "status": "completed"
    },
    "tags": []
   },
   "outputs": [
    {
     "data": {
      "text/plain": [
       "Entity                                                               176\n",
       "Year                                                                  21\n",
       "Access to electricity (% of population)                             2040\n",
       "Access to clean fuels for cooking                                    896\n",
       "Renewable-electricity-generating-capacity-per-capita                2110\n",
       "Financial flows to developing countries (US $)                      1017\n",
       "Renewable energy share in the total final energy consumption (%)    2587\n",
       "Electricity from fossil fuels (TWh)                                 1859\n",
       "Electricity from nuclear (TWh)                                       547\n",
       "Electricity from renewables (TWh)                                   1533\n",
       "Low-carbon electricity (% electricity)                              2647\n",
       "Primary energy consumption per capita (kWh/person)                  3628\n",
       "Energy intensity level of primary energy (MJ/$2017 PPP GDP)         1044\n",
       "Value_co2_emissions_kt_by_country                                   2397\n",
       "Renewables (% equivalent primary energy)                            1455\n",
       "gdp_growth                                                          3320\n",
       "gdp_per_capita                                                      3367\n",
       "Density\\n(P/Km2)                                                     124\n",
       "Land Area(Km2)                                                       175\n",
       "Latitude                                                             175\n",
       "Longitude                                                            175\n",
       "dtype: int64"
      ]
     },
     "execution_count": 84,
     "metadata": {},
     "output_type": "execute_result"
    }
   ],
   "source": [
    "unique_values =  df.nunique()\n",
    "unique_values"
   ]
  },
  {
   "cell_type": "code",
   "execution_count": 85,
   "id": "4803c418",
   "metadata": {
    "execution": {
     "iopub.execute_input": "2023-12-06T19:31:28.139890Z",
     "iopub.status.busy": "2023-12-06T19:31:28.139612Z",
     "iopub.status.idle": "2023-12-06T19:31:28.155283Z",
     "shell.execute_reply": "2023-12-06T19:31:28.153934Z"
    },
    "papermill": {
     "duration": 0.03834,
     "end_time": "2023-12-06T19:31:28.157301",
     "exception": false,
     "start_time": "2023-12-06T19:31:28.118961",
     "status": "completed"
    },
    "tags": []
   },
   "outputs": [
    {
     "name": "stdout",
     "output_type": "stream",
     "text": [
      "<class 'pandas.core.frame.DataFrame'>\n",
      "RangeIndex: 3649 entries, 0 to 3648\n",
      "Data columns (total 21 columns):\n",
      " #   Column                                                            Non-Null Count  Dtype  \n",
      "---  ------                                                            --------------  -----  \n",
      " 0   Entity                                                            3649 non-null   object \n",
      " 1   Year                                                              3649 non-null   int64  \n",
      " 2   Access to electricity (% of population)                           3639 non-null   float64\n",
      " 3   Access to clean fuels for cooking                                 3480 non-null   float64\n",
      " 4   Renewable-electricity-generating-capacity-per-capita              2718 non-null   float64\n",
      " 5   Financial flows to developing countries (US $)                    1560 non-null   float64\n",
      " 6   Renewable energy share in the total final energy consumption (%)  3455 non-null   float64\n",
      " 7   Electricity from fossil fuels (TWh)                               3628 non-null   float64\n",
      " 8   Electricity from nuclear (TWh)                                    3523 non-null   float64\n",
      " 9   Electricity from renewables (TWh)                                 3628 non-null   float64\n",
      " 10  Low-carbon electricity (% electricity)                            3607 non-null   float64\n",
      " 11  Primary energy consumption per capita (kWh/person)                3649 non-null   float64\n",
      " 12  Energy intensity level of primary energy (MJ/$2017 PPP GDP)       3442 non-null   float64\n",
      " 13  Value_co2_emissions_kt_by_country                                 3221 non-null   float64\n",
      " 14  Renewables (% equivalent primary energy)                          1512 non-null   float64\n",
      " 15  gdp_growth                                                        3332 non-null   float64\n",
      " 16  gdp_per_capita                                                    3367 non-null   float64\n",
      " 17  Density\\n(P/Km2)                                                  3648 non-null   object \n",
      " 18  Land Area(Km2)                                                    3648 non-null   float64\n",
      " 19  Latitude                                                          3648 non-null   float64\n",
      " 20  Longitude                                                         3648 non-null   float64\n",
      "dtypes: float64(18), int64(1), object(2)\n",
      "memory usage: 598.8+ KB\n"
     ]
    }
   ],
   "source": [
    "df.info()"
   ]
  },
  {
   "cell_type": "code",
   "execution_count": 86,
   "id": "220902a5",
   "metadata": {
    "execution": {
     "iopub.execute_input": "2023-12-06T19:31:28.198896Z",
     "iopub.status.busy": "2023-12-06T19:31:28.198340Z",
     "iopub.status.idle": "2023-12-06T19:31:28.204983Z",
     "shell.execute_reply": "2023-12-06T19:31:28.204176Z"
    },
    "papermill": {
     "duration": 0.029401,
     "end_time": "2023-12-06T19:31:28.206828",
     "exception": false,
     "start_time": "2023-12-06T19:31:28.177427",
     "status": "completed"
    },
    "tags": []
   },
   "outputs": [
    {
     "data": {
      "text/plain": [
       "Entity                                                               object\n",
       "Year                                                                  int64\n",
       "Access to electricity (% of population)                             float64\n",
       "Access to clean fuels for cooking                                   float64\n",
       "Renewable-electricity-generating-capacity-per-capita                float64\n",
       "Financial flows to developing countries (US $)                      float64\n",
       "Renewable energy share in the total final energy consumption (%)    float64\n",
       "Electricity from fossil fuels (TWh)                                 float64\n",
       "Electricity from nuclear (TWh)                                      float64\n",
       "Electricity from renewables (TWh)                                   float64\n",
       "Low-carbon electricity (% electricity)                              float64\n",
       "Primary energy consumption per capita (kWh/person)                  float64\n",
       "Energy intensity level of primary energy (MJ/$2017 PPP GDP)         float64\n",
       "Value_co2_emissions_kt_by_country                                   float64\n",
       "Renewables (% equivalent primary energy)                            float64\n",
       "gdp_growth                                                          float64\n",
       "gdp_per_capita                                                      float64\n",
       "Density\\n(P/Km2)                                                     object\n",
       "Land Area(Km2)                                                      float64\n",
       "Latitude                                                            float64\n",
       "Longitude                                                           float64\n",
       "dtype: object"
      ]
     },
     "execution_count": 86,
     "metadata": {},
     "output_type": "execute_result"
    }
   ],
   "source": [
    "df.dtypes"
   ]
  },
  {
   "cell_type": "markdown",
   "id": "2f5e4032",
   "metadata": {
    "papermill": {
     "duration": 0.01996,
     "end_time": "2023-12-06T19:31:28.247086",
     "exception": false,
     "start_time": "2023-12-06T19:31:28.227126",
     "status": "completed"
    },
    "tags": []
   },
   "source": [
    "# <div style=\"text-align: center; background-color: #CDC8B1; font-family:Times New Roman; color: white; padding: 14px; line-height: 1;border-radius:20px\">3. Null values</div>"
   ]
  },
  {
   "cell_type": "code",
   "execution_count": 87,
   "id": "62a24407",
   "metadata": {
    "execution": {
     "iopub.execute_input": "2023-12-06T19:31:28.288494Z",
     "iopub.status.busy": "2023-12-06T19:31:28.288218Z",
     "iopub.status.idle": "2023-12-06T19:31:28.297410Z",
     "shell.execute_reply": "2023-12-06T19:31:28.296623Z"
    },
    "papermill": {
     "duration": 0.03194,
     "end_time": "2023-12-06T19:31:28.299252",
     "exception": false,
     "start_time": "2023-12-06T19:31:28.267312",
     "status": "completed"
    },
    "tags": []
   },
   "outputs": [
    {
     "data": {
      "text/plain": [
       "Entity                                                                 0\n",
       "Year                                                                   0\n",
       "Access to electricity (% of population)                               10\n",
       "Access to clean fuels for cooking                                    169\n",
       "Renewable-electricity-generating-capacity-per-capita                 931\n",
       "Financial flows to developing countries (US $)                      2089\n",
       "Renewable energy share in the total final energy consumption (%)     194\n",
       "Electricity from fossil fuels (TWh)                                   21\n",
       "Electricity from nuclear (TWh)                                       126\n",
       "Electricity from renewables (TWh)                                     21\n",
       "Low-carbon electricity (% electricity)                                42\n",
       "Primary energy consumption per capita (kWh/person)                     0\n",
       "Energy intensity level of primary energy (MJ/$2017 PPP GDP)          207\n",
       "Value_co2_emissions_kt_by_country                                    428\n",
       "Renewables (% equivalent primary energy)                            2137\n",
       "gdp_growth                                                           317\n",
       "gdp_per_capita                                                       282\n",
       "Density\\n(P/Km2)                                                       1\n",
       "Land Area(Km2)                                                         1\n",
       "Latitude                                                               1\n",
       "Longitude                                                              1\n",
       "dtype: int64"
      ]
     },
     "execution_count": 87,
     "metadata": {},
     "output_type": "execute_result"
    }
   ],
   "source": [
    "df.isna().sum()"
   ]
  },
  {
   "cell_type": "code",
   "execution_count": 88,
   "id": "6f926550",
   "metadata": {
    "execution": {
     "iopub.execute_input": "2023-12-06T19:31:28.341383Z",
     "iopub.status.busy": "2023-12-06T19:31:28.340569Z",
     "iopub.status.idle": "2023-12-06T19:31:29.380556Z",
     "shell.execute_reply": "2023-12-06T19:31:29.379761Z"
    },
    "papermill": {
     "duration": 1.062917,
     "end_time": "2023-12-06T19:31:29.382497",
     "exception": false,
     "start_time": "2023-12-06T19:31:28.319580",
     "status": "completed"
    },
    "tags": []
   },
   "outputs": [
    {
     "data": {
      "text/plain": [
       "Entity                                                                 0\n",
       "Year                                                                   0\n",
       "Access to electricity (% of population)                               10\n",
       "Access to clean fuels for cooking                                    169\n",
       "Renewable-electricity-generating-capacity-per-capita                 931\n",
       "Financial flows to developing countries (US $)                      2089\n",
       "Renewable energy share in the total final energy consumption (%)     194\n",
       "Electricity from fossil fuels (TWh)                                   21\n",
       "Electricity from nuclear (TWh)                                       126\n",
       "Electricity from renewables (TWh)                                     21\n",
       "Low-carbon electricity (% electricity)                                42\n",
       "Primary energy consumption per capita (kWh/person)                     0\n",
       "Energy intensity level of primary energy (MJ/$2017 PPP GDP)          207\n",
       "Value_co2_emissions_kt_by_country                                    428\n",
       "Renewables (% equivalent primary energy)                            2137\n",
       "gdp_growth                                                           317\n",
       "gdp_per_capita                                                       282\n",
       "Density\\n(P/Km2)                                                       1\n",
       "Land Area(Km2)                                                         1\n",
       "Latitude                                                               1\n",
       "Longitude                                                              1\n",
       "dtype: int64"
      ]
     },
     "execution_count": 88,
     "metadata": {},
     "output_type": "execute_result"
    }
   ],
   "source": [
    "# Calculating the count of missing values in each column\n",
    "missing_values = df.isna().sum()\n",
    "missing_values"
   ]
  },
  {
   "cell_type": "markdown",
   "id": "af112923",
   "metadata": {
    "papermill": {
     "duration": 0.021912,
     "end_time": "2023-12-06T19:31:29.488735",
     "exception": false,
     "start_time": "2023-12-06T19:31:29.466823",
     "status": "completed"
    },
    "tags": []
   },
   "source": [
    "# <div style=\"text-align: center; background-color: #6495ED; font-family:Times New Roman; color: white; padding: 14px; line-height: 1;border-radius:20px\">4. Duplicate rows</div>\n"
   ]
  },
  {
   "cell_type": "code",
   "execution_count": 100,
   "id": "8fcfaf7f",
   "metadata": {
    "execution": {
     "iopub.execute_input": "2023-12-06T19:31:29.532197Z",
     "iopub.status.busy": "2023-12-06T19:31:29.531928Z",
     "iopub.status.idle": "2023-12-06T19:31:29.549928Z",
     "shell.execute_reply": "2023-12-06T19:31:29.549045Z"
    },
    "papermill": {
     "duration": 0.041694,
     "end_time": "2023-12-06T19:31:29.551751",
     "exception": false,
     "start_time": "2023-12-06T19:31:29.510057",
     "status": "completed"
    },
    "tags": []
   },
   "outputs": [
    {
     "name": "stdout",
     "output_type": "stream",
     "text": [
      "Number of duplicate rows: 0\n"
     ]
    },
    {
     "data": {
      "text/html": [
       "<div>\n",
       "<style scoped>\n",
       "    .dataframe tbody tr th:only-of-type {\n",
       "        vertical-align: middle;\n",
       "    }\n",
       "\n",
       "    .dataframe tbody tr th {\n",
       "        vertical-align: top;\n",
       "    }\n",
       "\n",
       "    .dataframe thead th {\n",
       "        text-align: right;\n",
       "    }\n",
       "</style>\n",
       "<table border=\"1\" class=\"dataframe\">\n",
       "  <thead>\n",
       "    <tr style=\"text-align: right;\">\n",
       "      <th></th>\n",
       "      <th>Entity</th>\n",
       "      <th>Year</th>\n",
       "      <th>Access to electricity (% of population)</th>\n",
       "      <th>Access to clean fuels for cooking</th>\n",
       "      <th>Renewable energy share in the total final energy consumption (%)</th>\n",
       "      <th>Electricity from fossil fuels (TWh)</th>\n",
       "      <th>Electricity from nuclear (TWh)</th>\n",
       "      <th>Electricity from renewables (TWh)</th>\n",
       "      <th>Low-carbon electricity (% electricity)</th>\n",
       "      <th>Primary energy consumption per capita (kWh/person)</th>\n",
       "      <th>Energy intensity level of primary energy (MJ/$2017 PPP GDP)</th>\n",
       "      <th>CO2</th>\n",
       "      <th>gdp_growth</th>\n",
       "      <th>gdp_per_capita</th>\n",
       "      <th>Density</th>\n",
       "      <th>Land</th>\n",
       "      <th>Latitude</th>\n",
       "      <th>Longitude</th>\n",
       "    </tr>\n",
       "  </thead>\n",
       "  <tbody>\n",
       "  </tbody>\n",
       "</table>\n",
       "</div>"
      ],
      "text/plain": [
       "Empty DataFrame\n",
       "Columns: [Entity, Year, Access to electricity (% of population), Access to clean fuels for cooking, Renewable energy share in the total final energy consumption (%), Electricity from fossil fuels (TWh), Electricity from nuclear (TWh), Electricity from renewables (TWh), Low-carbon electricity (% electricity), Primary energy consumption per capita (kWh/person), Energy intensity level of primary energy (MJ/$2017 PPP GDP), CO2, gdp_growth, gdp_per_capita, Density, Land, Latitude, Longitude]\n",
       "Index: []"
      ]
     },
     "execution_count": 100,
     "metadata": {},
     "output_type": "execute_result"
    }
   ],
   "source": [
    "# Finding duplicate rows\n",
    "duplicate_rows = df[df.duplicated(keep='first')]\n",
    "\n",
    "# Number of duplicate rows\n",
    "num_duplicates = duplicate_rows.shape[0]\n",
    "\n",
    "# Displaying the duplicate rows\n",
    "print(f\"Number of duplicate rows: {num_duplicates}\")\n",
    "duplicate_rows"
   ]
  },
  {
   "cell_type": "markdown",
   "id": "1f8a2d30",
   "metadata": {
    "papermill": {
     "duration": 0.020906,
     "end_time": "2023-12-06T19:31:29.593923",
     "exception": false,
     "start_time": "2023-12-06T19:31:29.573017",
     "status": "completed"
    },
    "tags": []
   },
   "source": [
    "# <div style=\"text-align: center; background-color: #6495ED; font-family:Times New Roman; color: white; padding: 14px; line-height: 1;border-radius:20px\">5. Feature engineering</div>"
   ]
  },
  {
   "cell_type": "code",
   "execution_count": 103,
   "id": "c11ac832",
   "metadata": {
    "execution": {
     "iopub.execute_input": "2023-12-06T19:31:29.637224Z",
     "iopub.status.busy": "2023-12-06T19:31:29.636966Z",
     "iopub.status.idle": "2023-12-06T19:31:29.641367Z",
     "shell.execute_reply": "2023-12-06T19:31:29.640617Z"
    },
    "papermill": {
     "duration": 0.028066,
     "end_time": "2023-12-06T19:31:29.643123",
     "exception": false,
     "start_time": "2023-12-06T19:31:29.615057",
     "status": "completed"
    },
    "tags": []
   },
   "outputs": [],
   "source": [
    "# Reanme columns \n",
    "df.rename(columns={\"Value_co2_emissions_kt_by_country\":\"CO2\" , 'Land Area(Km2)':'Land'} , inplace=True)\n"
   ]
  },
  {
   "cell_type": "code",
   "execution_count": 105,
   "id": "d76a2a1b",
   "metadata": {
    "execution": {
     "iopub.execute_input": "2023-12-06T19:31:29.738760Z",
     "iopub.status.busy": "2023-12-06T19:31:29.738504Z",
     "iopub.status.idle": "2023-12-06T19:31:29.748127Z",
     "shell.execute_reply": "2023-12-06T19:31:29.747233Z"
    },
    "papermill": {
     "duration": 0.033095,
     "end_time": "2023-12-06T19:31:29.749922",
     "exception": false,
     "start_time": "2023-12-06T19:31:29.716827",
     "status": "completed"
    },
    "tags": []
   },
   "outputs": [],
   "source": [
    "# Selecting specific columns 'Entity' and 'Land' into a new DataFrame\n",
    "energy_land = df[['Entity', 'Land']]\n",
    "\n",
    "# Dropping rows with missing values in the selected columns\n",
    "energy_land = energy_land.dropna()\n",
    "\n",
    "# Getting unique country names from the 'Entity' column\n",
    "countries = energy_land['Entity'].unique()\n",
    "\n",
    "# Getting unique land area values from the 'Land' column\n",
    "land = energy_land['Land'].unique()\n",
    "\n",
    "# Clean the land area values by converting to integers\n",
    "land_int = []\n",
    "for num in land:\n",
    "    if isinstance(num, float):\n",
    "        land_int.append(int(num))\n",
    "    else:\n",
    "        land_int.append(int(str(num).replace(',', '')))"
   ]
  },
  {
   "cell_type": "code",
   "execution_count": 109,
   "id": "4834a23e",
   "metadata": {},
   "outputs": [],
   "source": [
    "df.to_csv('Clean_co2.csv')\n"
   ]
  }
 ],
 "metadata": {
  "kaggle": {
   "accelerator": "nvidiaTeslaT4",
   "dataSources": [
    {
     "datasetId": 3597085,
     "sourceId": 6327347,
     "sourceType": "datasetVersion"
    }
   ],
   "dockerImageVersionId": 30527,
   "isGpuEnabled": true,
   "isInternetEnabled": true,
   "language": "python",
   "sourceType": "notebook"
  },
  "kernelspec": {
   "display_name": "Python 3",
   "language": "python",
   "name": "python3"
  },
  "language_info": {
   "codemirror_mode": {
    "name": "ipython",
    "version": 3
   },
   "file_extension": ".py",
   "mimetype": "text/x-python",
   "name": "python",
   "nbconvert_exporter": "python",
   "pygments_lexer": "ipython3",
   "version": "3.8.8"
  },
  "papermill": {
   "default_parameters": {},
   "duration": 32.461526,
   "end_time": "2023-12-06T19:31:41.263175",
   "environment_variables": {},
   "exception": null,
   "input_path": "__notebook__.ipynb",
   "output_path": "__notebook__.ipynb",
   "parameters": {},
   "start_time": "2023-12-06T19:31:08.801649",
   "version": "2.4.0"
  }
 },
 "nbformat": 4,
 "nbformat_minor": 5
}
