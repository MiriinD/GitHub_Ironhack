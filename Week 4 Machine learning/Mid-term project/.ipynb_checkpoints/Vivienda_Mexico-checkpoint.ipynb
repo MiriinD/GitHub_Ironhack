{
 "cells": [
  {
   "cell_type": "code",
   "execution_count": 2,
   "id": "305b47de",
   "metadata": {},
   "outputs": [
    {
     "ename": "ParserError",
     "evalue": "Error tokenizing data. C error: Expected 19 fields in line 7, saw 27\n",
     "output_type": "error",
     "traceback": [
      "\u001b[0;31m---------------------------------------------------------------------------\u001b[0m",
      "\u001b[0;31mParserError\u001b[0m                               Traceback (most recent call last)",
      "\u001b[0;32m<ipython-input-2-e912f87ed575>\u001b[0m in \u001b[0;36m<module>\u001b[0;34m\u001b[0m\n\u001b[1;32m      1\u001b[0m \u001b[0;32mimport\u001b[0m \u001b[0mpandas\u001b[0m \u001b[0;32mas\u001b[0m \u001b[0mpd\u001b[0m\u001b[0;34m\u001b[0m\u001b[0;34m\u001b[0m\u001b[0m\n\u001b[1;32m      2\u001b[0m \u001b[0;34m\u001b[0m\u001b[0m\n\u001b[0;32m----> 3\u001b[0;31m \u001b[0mdataframe_abnb\u001b[0m \u001b[0;34m=\u001b[0m \u001b[0mpd\u001b[0m\u001b[0;34m.\u001b[0m\u001b[0mread_csv\u001b[0m\u001b[0;34m(\u001b[0m\u001b[0;34m'/Users/miriamg/Downloads/archive (1) 2/airbnb-listings.csv'\u001b[0m\u001b[0;34m)\u001b[0m\u001b[0;34m\u001b[0m\u001b[0;34m\u001b[0m\u001b[0m\n\u001b[0m\u001b[1;32m      4\u001b[0m \u001b[0mdataframe_abnb\u001b[0m\u001b[0;34m\u001b[0m\u001b[0;34m\u001b[0m\u001b[0m\n",
      "\u001b[0;32m~/opt/anaconda3/lib/python3.8/site-packages/pandas/io/parsers/readers.py\u001b[0m in \u001b[0;36mread_csv\u001b[0;34m(filepath_or_buffer, sep, delimiter, header, names, index_col, usecols, dtype, engine, converters, true_values, false_values, skipinitialspace, skiprows, skipfooter, nrows, na_values, keep_default_na, na_filter, verbose, skip_blank_lines, parse_dates, infer_datetime_format, keep_date_col, date_parser, date_format, dayfirst, cache_dates, iterator, chunksize, compression, thousands, decimal, lineterminator, quotechar, quoting, doublequote, escapechar, comment, encoding, encoding_errors, dialect, on_bad_lines, delim_whitespace, low_memory, memory_map, float_precision, storage_options, dtype_backend)\u001b[0m\n\u001b[1;32m    910\u001b[0m     \u001b[0mkwds\u001b[0m\u001b[0;34m.\u001b[0m\u001b[0mupdate\u001b[0m\u001b[0;34m(\u001b[0m\u001b[0mkwds_defaults\u001b[0m\u001b[0;34m)\u001b[0m\u001b[0;34m\u001b[0m\u001b[0;34m\u001b[0m\u001b[0m\n\u001b[1;32m    911\u001b[0m \u001b[0;34m\u001b[0m\u001b[0m\n\u001b[0;32m--> 912\u001b[0;31m     \u001b[0;32mreturn\u001b[0m \u001b[0m_read\u001b[0m\u001b[0;34m(\u001b[0m\u001b[0mfilepath_or_buffer\u001b[0m\u001b[0;34m,\u001b[0m \u001b[0mkwds\u001b[0m\u001b[0;34m)\u001b[0m\u001b[0;34m\u001b[0m\u001b[0;34m\u001b[0m\u001b[0m\n\u001b[0m\u001b[1;32m    913\u001b[0m \u001b[0;34m\u001b[0m\u001b[0m\n\u001b[1;32m    914\u001b[0m \u001b[0;34m\u001b[0m\u001b[0m\n",
      "\u001b[0;32m~/opt/anaconda3/lib/python3.8/site-packages/pandas/io/parsers/readers.py\u001b[0m in \u001b[0;36m_read\u001b[0;34m(filepath_or_buffer, kwds)\u001b[0m\n\u001b[1;32m    581\u001b[0m \u001b[0;34m\u001b[0m\u001b[0m\n\u001b[1;32m    582\u001b[0m     \u001b[0;32mwith\u001b[0m \u001b[0mparser\u001b[0m\u001b[0;34m:\u001b[0m\u001b[0;34m\u001b[0m\u001b[0;34m\u001b[0m\u001b[0m\n\u001b[0;32m--> 583\u001b[0;31m         \u001b[0;32mreturn\u001b[0m \u001b[0mparser\u001b[0m\u001b[0;34m.\u001b[0m\u001b[0mread\u001b[0m\u001b[0;34m(\u001b[0m\u001b[0mnrows\u001b[0m\u001b[0;34m)\u001b[0m\u001b[0;34m\u001b[0m\u001b[0;34m\u001b[0m\u001b[0m\n\u001b[0m\u001b[1;32m    584\u001b[0m \u001b[0;34m\u001b[0m\u001b[0m\n\u001b[1;32m    585\u001b[0m \u001b[0;34m\u001b[0m\u001b[0m\n",
      "\u001b[0;32m~/opt/anaconda3/lib/python3.8/site-packages/pandas/io/parsers/readers.py\u001b[0m in \u001b[0;36mread\u001b[0;34m(self, nrows)\u001b[0m\n\u001b[1;32m   1702\u001b[0m                     \u001b[0mcolumns\u001b[0m\u001b[0;34m,\u001b[0m\u001b[0;34m\u001b[0m\u001b[0;34m\u001b[0m\u001b[0m\n\u001b[1;32m   1703\u001b[0m                     \u001b[0mcol_dict\u001b[0m\u001b[0;34m,\u001b[0m\u001b[0;34m\u001b[0m\u001b[0;34m\u001b[0m\u001b[0m\n\u001b[0;32m-> 1704\u001b[0;31m                 \u001b[0;34m)\u001b[0m \u001b[0;34m=\u001b[0m \u001b[0mself\u001b[0m\u001b[0;34m.\u001b[0m\u001b[0m_engine\u001b[0m\u001b[0;34m.\u001b[0m\u001b[0mread\u001b[0m\u001b[0;34m(\u001b[0m  \u001b[0;31m# type: ignore[attr-defined]\u001b[0m\u001b[0;34m\u001b[0m\u001b[0;34m\u001b[0m\u001b[0m\n\u001b[0m\u001b[1;32m   1705\u001b[0m                     \u001b[0mnrows\u001b[0m\u001b[0;34m\u001b[0m\u001b[0;34m\u001b[0m\u001b[0m\n\u001b[1;32m   1706\u001b[0m                 )\n",
      "\u001b[0;32m~/opt/anaconda3/lib/python3.8/site-packages/pandas/io/parsers/c_parser_wrapper.py\u001b[0m in \u001b[0;36mread\u001b[0;34m(self, nrows)\u001b[0m\n\u001b[1;32m    232\u001b[0m         \u001b[0;32mtry\u001b[0m\u001b[0;34m:\u001b[0m\u001b[0;34m\u001b[0m\u001b[0;34m\u001b[0m\u001b[0m\n\u001b[1;32m    233\u001b[0m             \u001b[0;32mif\u001b[0m \u001b[0mself\u001b[0m\u001b[0;34m.\u001b[0m\u001b[0mlow_memory\u001b[0m\u001b[0;34m:\u001b[0m\u001b[0;34m\u001b[0m\u001b[0;34m\u001b[0m\u001b[0m\n\u001b[0;32m--> 234\u001b[0;31m                 \u001b[0mchunks\u001b[0m \u001b[0;34m=\u001b[0m \u001b[0mself\u001b[0m\u001b[0;34m.\u001b[0m\u001b[0m_reader\u001b[0m\u001b[0;34m.\u001b[0m\u001b[0mread_low_memory\u001b[0m\u001b[0;34m(\u001b[0m\u001b[0mnrows\u001b[0m\u001b[0;34m)\u001b[0m\u001b[0;34m\u001b[0m\u001b[0;34m\u001b[0m\u001b[0m\n\u001b[0m\u001b[1;32m    235\u001b[0m                 \u001b[0;31m# destructive to chunks\u001b[0m\u001b[0;34m\u001b[0m\u001b[0;34m\u001b[0m\u001b[0;34m\u001b[0m\u001b[0m\n\u001b[1;32m    236\u001b[0m                 \u001b[0mdata\u001b[0m \u001b[0;34m=\u001b[0m \u001b[0m_concatenate_chunks\u001b[0m\u001b[0;34m(\u001b[0m\u001b[0mchunks\u001b[0m\u001b[0;34m)\u001b[0m\u001b[0;34m\u001b[0m\u001b[0;34m\u001b[0m\u001b[0m\n",
      "\u001b[0;32m~/opt/anaconda3/lib/python3.8/site-packages/pandas/_libs/parsers.pyx\u001b[0m in \u001b[0;36mpandas._libs.parsers.TextReader.read_low_memory\u001b[0;34m()\u001b[0m\n",
      "\u001b[0;32m~/opt/anaconda3/lib/python3.8/site-packages/pandas/_libs/parsers.pyx\u001b[0m in \u001b[0;36mpandas._libs.parsers.TextReader._read_rows\u001b[0;34m()\u001b[0m\n",
      "\u001b[0;32m~/opt/anaconda3/lib/python3.8/site-packages/pandas/_libs/parsers.pyx\u001b[0m in \u001b[0;36mpandas._libs.parsers.TextReader._tokenize_rows\u001b[0;34m()\u001b[0m\n",
      "\u001b[0;32m~/opt/anaconda3/lib/python3.8/site-packages/pandas/_libs/parsers.pyx\u001b[0m in \u001b[0;36mpandas._libs.parsers.TextReader._check_tokenize_status\u001b[0;34m()\u001b[0m\n",
      "\u001b[0;32m~/opt/anaconda3/lib/python3.8/site-packages/pandas/_libs/parsers.pyx\u001b[0m in \u001b[0;36mpandas._libs.parsers.raise_parser_error\u001b[0;34m()\u001b[0m\n",
      "\u001b[0;31mParserError\u001b[0m: Error tokenizing data. C error: Expected 19 fields in line 7, saw 27\n"
     ]
    }
   ],
   "source": [
    "import pandas as pd\n",
    "\n",
    "dataframe_abnb = pd.read_csv('/Users/miriamg/Downloads/archive (1) 2/airbnb-listings.csv')\n",
    "dataframe_abnb"
   ]
  },
  {
   "cell_type": "code",
   "execution_count": 24,
   "id": "6c3769c4",
   "metadata": {},
   "outputs": [
    {
     "data": {
      "text/plain": [
       "Index(['unnamed:_0', 'customer', 'state', 'customer_lifetime_value',\n",
       "       'response', 'coverage', 'education', 'effective_to_date',\n",
       "       'employmentstatus', 'gender', 'income', 'location_code',\n",
       "       'marital_status', 'monthly_premium_auto', 'months_since_last_claim',\n",
       "       'months_since_policy_inception', 'number_of_open_complaints',\n",
       "       'number_of_policies', 'policy_type', 'policy', 'renew_offer_type',\n",
       "       'sales_channel', 'total_claim_amount', 'vehicle_class', 'vehicle_size',\n",
       "       'vehicle_type', 'month'],\n",
       "      dtype='object')"
      ]
     },
     "execution_count": 24,
     "metadata": {},
     "output_type": "execute_result"
    }
   ],
   "source": [
    "dataframe_abnb"
   ]
  },
  {
   "cell_type": "code",
   "execution_count": 11,
   "id": "b35c0fd8",
   "metadata": {},
   "outputs": [],
   "source": [
    "categoric_df = df.select_dtypes(include = 'object')\n"
   ]
  },
  {
   "cell_type": "code",
   "execution_count": 66,
   "id": "f8d12ce3",
   "metadata": {},
   "outputs": [
    {
     "data": {
      "text/html": [
       "<div>\n",
       "<style scoped>\n",
       "    .dataframe tbody tr th:only-of-type {\n",
       "        vertical-align: middle;\n",
       "    }\n",
       "\n",
       "    .dataframe tbody tr th {\n",
       "        vertical-align: top;\n",
       "    }\n",
       "\n",
       "    .dataframe thead th {\n",
       "        text-align: right;\n",
       "    }\n",
       "</style>\n",
       "<table border=\"1\" class=\"dataframe\">\n",
       "  <thead>\n",
       "    <tr style=\"text-align: right;\">\n",
       "      <th></th>\n",
       "      <th>unnamed:_0</th>\n",
       "      <th>customer_lifetime_value</th>\n",
       "      <th>income</th>\n",
       "      <th>monthly_premium_auto</th>\n",
       "      <th>months_since_last_claim</th>\n",
       "      <th>months_since_policy_inception</th>\n",
       "      <th>number_of_open_complaints</th>\n",
       "      <th>number_of_policies</th>\n",
       "      <th>total_claim_amount</th>\n",
       "      <th>month</th>\n",
       "    </tr>\n",
       "  </thead>\n",
       "  <tbody>\n",
       "    <tr>\n",
       "      <th>0</th>\n",
       "      <td>0</td>\n",
       "      <td>4809.216960</td>\n",
       "      <td>48029</td>\n",
       "      <td>61</td>\n",
       "      <td>7.000000</td>\n",
       "      <td>52</td>\n",
       "      <td>0.000000</td>\n",
       "      <td>9</td>\n",
       "      <td>292.800000</td>\n",
       "      <td>2</td>\n",
       "    </tr>\n",
       "    <tr>\n",
       "      <th>1</th>\n",
       "      <td>1</td>\n",
       "      <td>2228.525238</td>\n",
       "      <td>0</td>\n",
       "      <td>64</td>\n",
       "      <td>3.000000</td>\n",
       "      <td>26</td>\n",
       "      <td>0.000000</td>\n",
       "      <td>1</td>\n",
       "      <td>744.924331</td>\n",
       "      <td>1</td>\n",
       "    </tr>\n",
       "    <tr>\n",
       "      <th>2</th>\n",
       "      <td>2</td>\n",
       "      <td>14947.917300</td>\n",
       "      <td>22139</td>\n",
       "      <td>100</td>\n",
       "      <td>34.000000</td>\n",
       "      <td>31</td>\n",
       "      <td>0.000000</td>\n",
       "      <td>2</td>\n",
       "      <td>480.000000</td>\n",
       "      <td>2</td>\n",
       "    </tr>\n",
       "    <tr>\n",
       "      <th>3</th>\n",
       "      <td>3</td>\n",
       "      <td>22332.439460</td>\n",
       "      <td>49078</td>\n",
       "      <td>97</td>\n",
       "      <td>10.000000</td>\n",
       "      <td>3</td>\n",
       "      <td>0.000000</td>\n",
       "      <td>2</td>\n",
       "      <td>484.013411</td>\n",
       "      <td>1</td>\n",
       "    </tr>\n",
       "    <tr>\n",
       "      <th>4</th>\n",
       "      <td>4</td>\n",
       "      <td>9025.067525</td>\n",
       "      <td>23675</td>\n",
       "      <td>117</td>\n",
       "      <td>15.149071</td>\n",
       "      <td>31</td>\n",
       "      <td>0.384256</td>\n",
       "      <td>7</td>\n",
       "      <td>707.925645</td>\n",
       "      <td>1</td>\n",
       "    </tr>\n",
       "    <tr>\n",
       "      <th>...</th>\n",
       "      <td>...</td>\n",
       "      <td>...</td>\n",
       "      <td>...</td>\n",
       "      <td>...</td>\n",
       "      <td>...</td>\n",
       "      <td>...</td>\n",
       "      <td>...</td>\n",
       "      <td>...</td>\n",
       "      <td>...</td>\n",
       "      <td>...</td>\n",
       "    </tr>\n",
       "    <tr>\n",
       "      <th>10905</th>\n",
       "      <td>10905</td>\n",
       "      <td>15563.369440</td>\n",
       "      <td>0</td>\n",
       "      <td>253</td>\n",
       "      <td>15.149071</td>\n",
       "      <td>40</td>\n",
       "      <td>0.384256</td>\n",
       "      <td>7</td>\n",
       "      <td>1214.400000</td>\n",
       "      <td>1</td>\n",
       "    </tr>\n",
       "    <tr>\n",
       "      <th>10906</th>\n",
       "      <td>10906</td>\n",
       "      <td>5259.444853</td>\n",
       "      <td>61146</td>\n",
       "      <td>65</td>\n",
       "      <td>7.000000</td>\n",
       "      <td>68</td>\n",
       "      <td>0.000000</td>\n",
       "      <td>6</td>\n",
       "      <td>273.018929</td>\n",
       "      <td>1</td>\n",
       "    </tr>\n",
       "    <tr>\n",
       "      <th>10907</th>\n",
       "      <td>10907</td>\n",
       "      <td>23893.304100</td>\n",
       "      <td>39837</td>\n",
       "      <td>201</td>\n",
       "      <td>11.000000</td>\n",
       "      <td>63</td>\n",
       "      <td>0.000000</td>\n",
       "      <td>2</td>\n",
       "      <td>381.306996</td>\n",
       "      <td>2</td>\n",
       "    </tr>\n",
       "    <tr>\n",
       "      <th>10908</th>\n",
       "      <td>10908</td>\n",
       "      <td>11971.977650</td>\n",
       "      <td>64195</td>\n",
       "      <td>158</td>\n",
       "      <td>0.000000</td>\n",
       "      <td>27</td>\n",
       "      <td>4.000000</td>\n",
       "      <td>6</td>\n",
       "      <td>618.288849</td>\n",
       "      <td>2</td>\n",
       "    </tr>\n",
       "    <tr>\n",
       "      <th>10909</th>\n",
       "      <td>10909</td>\n",
       "      <td>6857.519928</td>\n",
       "      <td>0</td>\n",
       "      <td>101</td>\n",
       "      <td>31.000000</td>\n",
       "      <td>1</td>\n",
       "      <td>0.000000</td>\n",
       "      <td>3</td>\n",
       "      <td>1021.719397</td>\n",
       "      <td>1</td>\n",
       "    </tr>\n",
       "  </tbody>\n",
       "</table>\n",
       "<p>10910 rows × 10 columns</p>\n",
       "</div>"
      ],
      "text/plain": [
       "       unnamed:_0  customer_lifetime_value  income  monthly_premium_auto  \\\n",
       "0               0              4809.216960   48029                    61   \n",
       "1               1              2228.525238       0                    64   \n",
       "2               2             14947.917300   22139                   100   \n",
       "3               3             22332.439460   49078                    97   \n",
       "4               4              9025.067525   23675                   117   \n",
       "...           ...                      ...     ...                   ...   \n",
       "10905       10905             15563.369440       0                   253   \n",
       "10906       10906              5259.444853   61146                    65   \n",
       "10907       10907             23893.304100   39837                   201   \n",
       "10908       10908             11971.977650   64195                   158   \n",
       "10909       10909              6857.519928       0                   101   \n",
       "\n",
       "       months_since_last_claim  months_since_policy_inception  \\\n",
       "0                     7.000000                             52   \n",
       "1                     3.000000                             26   \n",
       "2                    34.000000                             31   \n",
       "3                    10.000000                              3   \n",
       "4                    15.149071                             31   \n",
       "...                        ...                            ...   \n",
       "10905                15.149071                             40   \n",
       "10906                 7.000000                             68   \n",
       "10907                11.000000                             63   \n",
       "10908                 0.000000                             27   \n",
       "10909                31.000000                              1   \n",
       "\n",
       "       number_of_open_complaints  number_of_policies  total_claim_amount  \\\n",
       "0                       0.000000                   9          292.800000   \n",
       "1                       0.000000                   1          744.924331   \n",
       "2                       0.000000                   2          480.000000   \n",
       "3                       0.000000                   2          484.013411   \n",
       "4                       0.384256                   7          707.925645   \n",
       "...                          ...                 ...                 ...   \n",
       "10905                   0.384256                   7         1214.400000   \n",
       "10906                   0.000000                   6          273.018929   \n",
       "10907                   0.000000                   2          381.306996   \n",
       "10908                   4.000000                   6          618.288849   \n",
       "10909                   0.000000                   3         1021.719397   \n",
       "\n",
       "       month  \n",
       "0          2  \n",
       "1          1  \n",
       "2          2  \n",
       "3          1  \n",
       "4          1  \n",
       "...      ...  \n",
       "10905      1  \n",
       "10906      1  \n",
       "10907      2  \n",
       "10908      2  \n",
       "10909      1  \n",
       "\n",
       "[10910 rows x 10 columns]"
      ]
     },
     "execution_count": 66,
     "metadata": {},
     "output_type": "execute_result"
    }
   ],
   "source": [
    "numeric_df = df.select_dtypes(include ='number')\n",
    "numeric_df"
   ]
  },
  {
   "cell_type": "code",
   "execution_count": 67,
   "id": "67be7edd",
   "metadata": {},
   "outputs": [
    {
     "name": "stdout",
     "output_type": "stream",
     "text": [
      "     unnamed:_0  customer_lifetime_value   income  monthly_premium_auto  \\\n",
      "min         0.0              1898.007675      0.0                  61.0   \n",
      "max     10909.0             83325.381190  99981.0                 298.0   \n",
      "\n",
      "     months_since_last_claim  months_since_policy_inception  \\\n",
      "min                      0.0                            0.0   \n",
      "max                     35.0                           99.0   \n",
      "\n",
      "     number_of_open_complaints  number_of_policies  total_claim_amount  month  \n",
      "min                        0.0                 1.0            0.099007    1.0  \n",
      "max                        5.0                 9.0         2893.239678    2.0  \n"
     ]
    }
   ],
   "source": [
    "#Define which variable could be the one with large range, in this case income so is my vA\n",
    "\n",
    "column_ranges = numeric_df.describe().loc[['min', 'max']]\n",
    "\n",
    "print(column_ranges)"
   ]
  },
  {
   "cell_type": "code",
   "execution_count": 16,
   "id": "3a4b1486",
   "metadata": {},
   "outputs": [
    {
     "data": {
      "text/plain": [
       "array(['DK49336', 'KX64629', 'LZ68649', ..., 'KX53892', 'TL39050',\n",
       "       'WA60547'], dtype=object)"
      ]
     },
     "execution_count": 16,
     "metadata": {},
     "output_type": "execute_result"
    }
   ],
   "source": [
    "categoric_df\n",
    "\n",
    "categoric_df.customer.unique() #Don't know how to do this with loooong category"
   ]
  },
  {
   "cell_type": "code",
   "execution_count": 30,
   "id": "d5135111",
   "metadata": {},
   "outputs": [
    {
     "name": "stdout",
     "output_type": "stream",
     "text": [
      "<class 'pandas.core.frame.DataFrame'>\n",
      "RangeIndex: 10910 entries, 0 to 10909\n",
      "Data columns (total 17 columns):\n",
      " #   Column             Non-Null Count  Dtype \n",
      "---  ------             --------------  ----- \n",
      " 0   customer           10910 non-null  object\n",
      " 1   state              10910 non-null  object\n",
      " 2   response           10910 non-null  object\n",
      " 3   coverage           10910 non-null  object\n",
      " 4   education          10910 non-null  object\n",
      " 5   effective_to_date  10910 non-null  object\n",
      " 6   employmentstatus   10910 non-null  object\n",
      " 7   gender             10910 non-null  object\n",
      " 8   location_code      10910 non-null  object\n",
      " 9   marital_status     10910 non-null  object\n",
      " 10  policy_type        10910 non-null  object\n",
      " 11  policy             10910 non-null  object\n",
      " 12  renew_offer_type   10910 non-null  object\n",
      " 13  sales_channel      10910 non-null  object\n",
      " 14  vehicle_class      10910 non-null  object\n",
      " 15  vehicle_size       10910 non-null  object\n",
      " 16  vehicle_type       10910 non-null  object\n",
      "dtypes: object(17)\n",
      "memory usage: 1.4+ MB\n"
     ]
    }
   ],
   "source": [
    "categoric_df.info()"
   ]
  },
  {
   "cell_type": "code",
   "execution_count": 37,
   "id": "f57c1a94",
   "metadata": {},
   "outputs": [],
   "source": [
    "#Don't know if this is the right approach\n",
    "# ordinals defined by me: \"coverage\", \"education\", \"vehicle_size\"\n"
   ]
  },
  {
   "cell_type": "code",
   "execution_count": 39,
   "id": "acf386ec",
   "metadata": {},
   "outputs": [
    {
     "data": {
      "text/plain": [
       "array(['Basic', 'Extended', 'Premium'], dtype=object)"
      ]
     },
     "execution_count": 39,
     "metadata": {},
     "output_type": "execute_result"
    }
   ],
   "source": [
    "categoric_df.coverage.unique()"
   ]
  },
  {
   "cell_type": "code",
   "execution_count": 41,
   "id": "9c5a1dad",
   "metadata": {},
   "outputs": [
    {
     "data": {
      "text/plain": [
       "array(['College', 'Bachelor', 'High School or Below', 'Doctor', 'Master'],\n",
       "      dtype=object)"
      ]
     },
     "execution_count": 41,
     "metadata": {},
     "output_type": "execute_result"
    }
   ],
   "source": [
    "categoric_df.education.unique()"
   ]
  },
  {
   "cell_type": "code",
   "execution_count": 52,
   "id": "edf7a1aa",
   "metadata": {},
   "outputs": [
    {
     "data": {
      "text/plain": [
       "array(['Medsize', 'Small', 'Large'], dtype=object)"
      ]
     },
     "execution_count": 52,
     "metadata": {},
     "output_type": "execute_result"
    }
   ],
   "source": [
    "categoric_df.vehicle_size.unique()"
   ]
  },
  {
   "cell_type": "code",
   "execution_count": 53,
   "id": "c7edd6b5",
   "metadata": {},
   "outputs": [],
   "source": [
    "cov_df=categoric_df[\"coverage\"].map({'Basic': 1, 'Extended': 2, 'Premium': 3})"
   ]
  },
  {
   "cell_type": "code",
   "execution_count": 54,
   "id": "eadab396",
   "metadata": {},
   "outputs": [],
   "source": [
    "edu_df= categoric_df[\"education\"].map({'High School or Below': 1 ,'College': 2, 'Bachelor': 3, 'Master': 4 , 'Doctor': 5 })"
   ]
  },
  {
   "cell_type": "code",
   "execution_count": 55,
   "id": "76c05d58",
   "metadata": {},
   "outputs": [],
   "source": [
    "vsize_df= categoric_df[\"vehicle_size\"].map({'Small': 1, 'Medsize': 2, 'Large': 3})"
   ]
  },
  {
   "cell_type": "code",
   "execution_count": 57,
   "id": "0b0e22a4",
   "metadata": {},
   "outputs": [],
   "source": [
    "categorical_nominals_df = pd.get_dummies(categoric_df[[\n",
    "        'customer', 'state',\n",
    "       'employmentstatus', 'gender', 'location_code',\n",
    "       'marital_status', 'policy_type', 'policy', 'renew_offer_type',\n",
    "       'sales_channel', 'vehicle_class', 'vehicle_type']], dtype= int)"
   ]
  },
  {
   "cell_type": "code",
   "execution_count": 61,
   "id": "702ca34f",
   "metadata": {},
   "outputs": [],
   "source": [
    "categorical_df_ttbomk= pd.concat([cov_df, edu_df, vsize_df, categorical_nominals_df])"
   ]
  },
  {
   "cell_type": "code",
   "execution_count": 62,
   "id": "2c34c3f6",
   "metadata": {},
   "outputs": [
    {
     "data": {
      "text/html": [
       "<div>\n",
       "<style scoped>\n",
       "    .dataframe tbody tr th:only-of-type {\n",
       "        vertical-align: middle;\n",
       "    }\n",
       "\n",
       "    .dataframe tbody tr th {\n",
       "        vertical-align: top;\n",
       "    }\n",
       "\n",
       "    .dataframe thead th {\n",
       "        text-align: right;\n",
       "    }\n",
       "</style>\n",
       "<table border=\"1\" class=\"dataframe\">\n",
       "  <thead>\n",
       "    <tr style=\"text-align: right;\">\n",
       "      <th></th>\n",
       "      <th>0</th>\n",
       "      <th>customer_AA10041</th>\n",
       "      <th>customer_AA11235</th>\n",
       "      <th>customer_AA16582</th>\n",
       "      <th>customer_AA30683</th>\n",
       "      <th>customer_AA34092</th>\n",
       "      <th>customer_AA35519</th>\n",
       "      <th>customer_AA56476</th>\n",
       "      <th>customer_AA69265</th>\n",
       "      <th>customer_AA71604</th>\n",
       "      <th>...</th>\n",
       "      <th>sales_channel_Branch</th>\n",
       "      <th>sales_channel_Call Center</th>\n",
       "      <th>sales_channel_Web</th>\n",
       "      <th>vehicle_class_Four-Door Car</th>\n",
       "      <th>vehicle_class_Luxury Car</th>\n",
       "      <th>vehicle_class_Luxury SUV</th>\n",
       "      <th>vehicle_class_SUV</th>\n",
       "      <th>vehicle_class_Sports Car</th>\n",
       "      <th>vehicle_class_Two-Door Car</th>\n",
       "      <th>vehicle_type_A</th>\n",
       "    </tr>\n",
       "  </thead>\n",
       "  <tbody>\n",
       "    <tr>\n",
       "      <th>0</th>\n",
       "      <td>1.0</td>\n",
       "      <td>NaN</td>\n",
       "      <td>NaN</td>\n",
       "      <td>NaN</td>\n",
       "      <td>NaN</td>\n",
       "      <td>NaN</td>\n",
       "      <td>NaN</td>\n",
       "      <td>NaN</td>\n",
       "      <td>NaN</td>\n",
       "      <td>NaN</td>\n",
       "      <td>...</td>\n",
       "      <td>NaN</td>\n",
       "      <td>NaN</td>\n",
       "      <td>NaN</td>\n",
       "      <td>NaN</td>\n",
       "      <td>NaN</td>\n",
       "      <td>NaN</td>\n",
       "      <td>NaN</td>\n",
       "      <td>NaN</td>\n",
       "      <td>NaN</td>\n",
       "      <td>NaN</td>\n",
       "    </tr>\n",
       "    <tr>\n",
       "      <th>1</th>\n",
       "      <td>1.0</td>\n",
       "      <td>NaN</td>\n",
       "      <td>NaN</td>\n",
       "      <td>NaN</td>\n",
       "      <td>NaN</td>\n",
       "      <td>NaN</td>\n",
       "      <td>NaN</td>\n",
       "      <td>NaN</td>\n",
       "      <td>NaN</td>\n",
       "      <td>NaN</td>\n",
       "      <td>...</td>\n",
       "      <td>NaN</td>\n",
       "      <td>NaN</td>\n",
       "      <td>NaN</td>\n",
       "      <td>NaN</td>\n",
       "      <td>NaN</td>\n",
       "      <td>NaN</td>\n",
       "      <td>NaN</td>\n",
       "      <td>NaN</td>\n",
       "      <td>NaN</td>\n",
       "      <td>NaN</td>\n",
       "    </tr>\n",
       "    <tr>\n",
       "      <th>2</th>\n",
       "      <td>1.0</td>\n",
       "      <td>NaN</td>\n",
       "      <td>NaN</td>\n",
       "      <td>NaN</td>\n",
       "      <td>NaN</td>\n",
       "      <td>NaN</td>\n",
       "      <td>NaN</td>\n",
       "      <td>NaN</td>\n",
       "      <td>NaN</td>\n",
       "      <td>NaN</td>\n",
       "      <td>...</td>\n",
       "      <td>NaN</td>\n",
       "      <td>NaN</td>\n",
       "      <td>NaN</td>\n",
       "      <td>NaN</td>\n",
       "      <td>NaN</td>\n",
       "      <td>NaN</td>\n",
       "      <td>NaN</td>\n",
       "      <td>NaN</td>\n",
       "      <td>NaN</td>\n",
       "      <td>NaN</td>\n",
       "    </tr>\n",
       "    <tr>\n",
       "      <th>3</th>\n",
       "      <td>2.0</td>\n",
       "      <td>NaN</td>\n",
       "      <td>NaN</td>\n",
       "      <td>NaN</td>\n",
       "      <td>NaN</td>\n",
       "      <td>NaN</td>\n",
       "      <td>NaN</td>\n",
       "      <td>NaN</td>\n",
       "      <td>NaN</td>\n",
       "      <td>NaN</td>\n",
       "      <td>...</td>\n",
       "      <td>NaN</td>\n",
       "      <td>NaN</td>\n",
       "      <td>NaN</td>\n",
       "      <td>NaN</td>\n",
       "      <td>NaN</td>\n",
       "      <td>NaN</td>\n",
       "      <td>NaN</td>\n",
       "      <td>NaN</td>\n",
       "      <td>NaN</td>\n",
       "      <td>NaN</td>\n",
       "    </tr>\n",
       "    <tr>\n",
       "      <th>4</th>\n",
       "      <td>3.0</td>\n",
       "      <td>NaN</td>\n",
       "      <td>NaN</td>\n",
       "      <td>NaN</td>\n",
       "      <td>NaN</td>\n",
       "      <td>NaN</td>\n",
       "      <td>NaN</td>\n",
       "      <td>NaN</td>\n",
       "      <td>NaN</td>\n",
       "      <td>NaN</td>\n",
       "      <td>...</td>\n",
       "      <td>NaN</td>\n",
       "      <td>NaN</td>\n",
       "      <td>NaN</td>\n",
       "      <td>NaN</td>\n",
       "      <td>NaN</td>\n",
       "      <td>NaN</td>\n",
       "      <td>NaN</td>\n",
       "      <td>NaN</td>\n",
       "      <td>NaN</td>\n",
       "      <td>NaN</td>\n",
       "    </tr>\n",
       "    <tr>\n",
       "      <th>...</th>\n",
       "      <td>...</td>\n",
       "      <td>...</td>\n",
       "      <td>...</td>\n",
       "      <td>...</td>\n",
       "      <td>...</td>\n",
       "      <td>...</td>\n",
       "      <td>...</td>\n",
       "      <td>...</td>\n",
       "      <td>...</td>\n",
       "      <td>...</td>\n",
       "      <td>...</td>\n",
       "      <td>...</td>\n",
       "      <td>...</td>\n",
       "      <td>...</td>\n",
       "      <td>...</td>\n",
       "      <td>...</td>\n",
       "      <td>...</td>\n",
       "      <td>...</td>\n",
       "      <td>...</td>\n",
       "      <td>...</td>\n",
       "      <td>...</td>\n",
       "    </tr>\n",
       "    <tr>\n",
       "      <th>10905</th>\n",
       "      <td>NaN</td>\n",
       "      <td>0.0</td>\n",
       "      <td>0.0</td>\n",
       "      <td>0.0</td>\n",
       "      <td>0.0</td>\n",
       "      <td>0.0</td>\n",
       "      <td>0.0</td>\n",
       "      <td>0.0</td>\n",
       "      <td>0.0</td>\n",
       "      <td>0.0</td>\n",
       "      <td>...</td>\n",
       "      <td>0.0</td>\n",
       "      <td>0.0</td>\n",
       "      <td>1.0</td>\n",
       "      <td>0.0</td>\n",
       "      <td>1.0</td>\n",
       "      <td>0.0</td>\n",
       "      <td>0.0</td>\n",
       "      <td>0.0</td>\n",
       "      <td>0.0</td>\n",
       "      <td>1.0</td>\n",
       "    </tr>\n",
       "    <tr>\n",
       "      <th>10906</th>\n",
       "      <td>NaN</td>\n",
       "      <td>0.0</td>\n",
       "      <td>0.0</td>\n",
       "      <td>0.0</td>\n",
       "      <td>0.0</td>\n",
       "      <td>0.0</td>\n",
       "      <td>0.0</td>\n",
       "      <td>0.0</td>\n",
       "      <td>0.0</td>\n",
       "      <td>0.0</td>\n",
       "      <td>...</td>\n",
       "      <td>1.0</td>\n",
       "      <td>0.0</td>\n",
       "      <td>0.0</td>\n",
       "      <td>1.0</td>\n",
       "      <td>0.0</td>\n",
       "      <td>0.0</td>\n",
       "      <td>0.0</td>\n",
       "      <td>0.0</td>\n",
       "      <td>0.0</td>\n",
       "      <td>1.0</td>\n",
       "    </tr>\n",
       "    <tr>\n",
       "      <th>10907</th>\n",
       "      <td>NaN</td>\n",
       "      <td>0.0</td>\n",
       "      <td>0.0</td>\n",
       "      <td>0.0</td>\n",
       "      <td>0.0</td>\n",
       "      <td>0.0</td>\n",
       "      <td>0.0</td>\n",
       "      <td>0.0</td>\n",
       "      <td>0.0</td>\n",
       "      <td>0.0</td>\n",
       "      <td>...</td>\n",
       "      <td>0.0</td>\n",
       "      <td>0.0</td>\n",
       "      <td>1.0</td>\n",
       "      <td>0.0</td>\n",
       "      <td>0.0</td>\n",
       "      <td>1.0</td>\n",
       "      <td>0.0</td>\n",
       "      <td>0.0</td>\n",
       "      <td>0.0</td>\n",
       "      <td>1.0</td>\n",
       "    </tr>\n",
       "    <tr>\n",
       "      <th>10908</th>\n",
       "      <td>NaN</td>\n",
       "      <td>0.0</td>\n",
       "      <td>0.0</td>\n",
       "      <td>0.0</td>\n",
       "      <td>0.0</td>\n",
       "      <td>0.0</td>\n",
       "      <td>0.0</td>\n",
       "      <td>0.0</td>\n",
       "      <td>0.0</td>\n",
       "      <td>0.0</td>\n",
       "      <td>...</td>\n",
       "      <td>1.0</td>\n",
       "      <td>0.0</td>\n",
       "      <td>0.0</td>\n",
       "      <td>0.0</td>\n",
       "      <td>0.0</td>\n",
       "      <td>0.0</td>\n",
       "      <td>1.0</td>\n",
       "      <td>0.0</td>\n",
       "      <td>0.0</td>\n",
       "      <td>1.0</td>\n",
       "    </tr>\n",
       "    <tr>\n",
       "      <th>10909</th>\n",
       "      <td>NaN</td>\n",
       "      <td>0.0</td>\n",
       "      <td>0.0</td>\n",
       "      <td>0.0</td>\n",
       "      <td>0.0</td>\n",
       "      <td>0.0</td>\n",
       "      <td>0.0</td>\n",
       "      <td>0.0</td>\n",
       "      <td>0.0</td>\n",
       "      <td>0.0</td>\n",
       "      <td>...</td>\n",
       "      <td>0.0</td>\n",
       "      <td>0.0</td>\n",
       "      <td>1.0</td>\n",
       "      <td>0.0</td>\n",
       "      <td>0.0</td>\n",
       "      <td>0.0</td>\n",
       "      <td>1.0</td>\n",
       "      <td>0.0</td>\n",
       "      <td>0.0</td>\n",
       "      <td>1.0</td>\n",
       "    </tr>\n",
       "  </tbody>\n",
       "</table>\n",
       "<p>43640 rows × 9180 columns</p>\n",
       "</div>"
      ],
      "text/plain": [
       "         0  customer_AA10041  customer_AA11235  customer_AA16582  \\\n",
       "0      1.0               NaN               NaN               NaN   \n",
       "1      1.0               NaN               NaN               NaN   \n",
       "2      1.0               NaN               NaN               NaN   \n",
       "3      2.0               NaN               NaN               NaN   \n",
       "4      3.0               NaN               NaN               NaN   \n",
       "...    ...               ...               ...               ...   \n",
       "10905  NaN               0.0               0.0               0.0   \n",
       "10906  NaN               0.0               0.0               0.0   \n",
       "10907  NaN               0.0               0.0               0.0   \n",
       "10908  NaN               0.0               0.0               0.0   \n",
       "10909  NaN               0.0               0.0               0.0   \n",
       "\n",
       "       customer_AA30683  customer_AA34092  customer_AA35519  customer_AA56476  \\\n",
       "0                   NaN               NaN               NaN               NaN   \n",
       "1                   NaN               NaN               NaN               NaN   \n",
       "2                   NaN               NaN               NaN               NaN   \n",
       "3                   NaN               NaN               NaN               NaN   \n",
       "4                   NaN               NaN               NaN               NaN   \n",
       "...                 ...               ...               ...               ...   \n",
       "10905               0.0               0.0               0.0               0.0   \n",
       "10906               0.0               0.0               0.0               0.0   \n",
       "10907               0.0               0.0               0.0               0.0   \n",
       "10908               0.0               0.0               0.0               0.0   \n",
       "10909               0.0               0.0               0.0               0.0   \n",
       "\n",
       "       customer_AA69265  customer_AA71604  ...  sales_channel_Branch  \\\n",
       "0                   NaN               NaN  ...                   NaN   \n",
       "1                   NaN               NaN  ...                   NaN   \n",
       "2                   NaN               NaN  ...                   NaN   \n",
       "3                   NaN               NaN  ...                   NaN   \n",
       "4                   NaN               NaN  ...                   NaN   \n",
       "...                 ...               ...  ...                   ...   \n",
       "10905               0.0               0.0  ...                   0.0   \n",
       "10906               0.0               0.0  ...                   1.0   \n",
       "10907               0.0               0.0  ...                   0.0   \n",
       "10908               0.0               0.0  ...                   1.0   \n",
       "10909               0.0               0.0  ...                   0.0   \n",
       "\n",
       "       sales_channel_Call Center  sales_channel_Web  \\\n",
       "0                            NaN                NaN   \n",
       "1                            NaN                NaN   \n",
       "2                            NaN                NaN   \n",
       "3                            NaN                NaN   \n",
       "4                            NaN                NaN   \n",
       "...                          ...                ...   \n",
       "10905                        0.0                1.0   \n",
       "10906                        0.0                0.0   \n",
       "10907                        0.0                1.0   \n",
       "10908                        0.0                0.0   \n",
       "10909                        0.0                1.0   \n",
       "\n",
       "       vehicle_class_Four-Door Car  vehicle_class_Luxury Car  \\\n",
       "0                              NaN                       NaN   \n",
       "1                              NaN                       NaN   \n",
       "2                              NaN                       NaN   \n",
       "3                              NaN                       NaN   \n",
       "4                              NaN                       NaN   \n",
       "...                            ...                       ...   \n",
       "10905                          0.0                       1.0   \n",
       "10906                          1.0                       0.0   \n",
       "10907                          0.0                       0.0   \n",
       "10908                          0.0                       0.0   \n",
       "10909                          0.0                       0.0   \n",
       "\n",
       "       vehicle_class_Luxury SUV  vehicle_class_SUV  vehicle_class_Sports Car  \\\n",
       "0                           NaN                NaN                       NaN   \n",
       "1                           NaN                NaN                       NaN   \n",
       "2                           NaN                NaN                       NaN   \n",
       "3                           NaN                NaN                       NaN   \n",
       "4                           NaN                NaN                       NaN   \n",
       "...                         ...                ...                       ...   \n",
       "10905                       0.0                0.0                       0.0   \n",
       "10906                       0.0                0.0                       0.0   \n",
       "10907                       1.0                0.0                       0.0   \n",
       "10908                       0.0                1.0                       0.0   \n",
       "10909                       0.0                1.0                       0.0   \n",
       "\n",
       "       vehicle_class_Two-Door Car  vehicle_type_A  \n",
       "0                             NaN             NaN  \n",
       "1                             NaN             NaN  \n",
       "2                             NaN             NaN  \n",
       "3                             NaN             NaN  \n",
       "4                             NaN             NaN  \n",
       "...                           ...             ...  \n",
       "10905                         0.0             1.0  \n",
       "10906                         0.0             1.0  \n",
       "10907                         0.0             1.0  \n",
       "10908                         0.0             1.0  \n",
       "10909                         0.0             1.0  \n",
       "\n",
       "[43640 rows x 9180 columns]"
      ]
     },
     "execution_count": 62,
     "metadata": {},
     "output_type": "execute_result"
    }
   ],
   "source": [
    "categorical_df_ttbomk"
   ]
  },
  {
   "cell_type": "markdown",
   "id": "3ae77008",
   "metadata": {},
   "source": [
    "## For Numerical DataFrame\n",
    "\n",
    "varA= income\n",
    "Use minmax transform to bring varA's values into the range [0,1].\n",
    "\n",
    "Check that varA has been rescaled using a displot or a histogram\n"
   ]
  },
  {
   "cell_type": "code",
   "execution_count": 74,
   "id": "ea681f30",
   "metadata": {},
   "outputs": [],
   "source": [
    "import pandas as pd\n",
    "import seaborn as sns"
   ]
  },
  {
   "cell_type": "code",
   "execution_count": 75,
   "id": "bd50b2b9",
   "metadata": {},
   "outputs": [
    {
     "data": {
      "text/plain": [
       "<AxesSubplot:>"
      ]
     },
     "execution_count": 75,
     "metadata": {},
     "output_type": "execute_result"
    },
    {
     "data": {
      "image/png": "[encoded data removed]",
      "text/plain": [
       "<Figure size 432x288 with 1 Axes>"
      ]
     },
     "metadata": {
      "needs_background": "light"
     },
     "output_type": "display_data"
    }
   ],
   "source": [
    "numeric_df[\"income\"].hist()"
   ]
  },
  {
   "cell_type": "markdown",
   "id": "dd05921f",
   "metadata": {},
   "source": [
    "## Applying min_max scaler"
   ]
  },
  {
   "cell_type": "code",
   "execution_count": 88,
   "id": "697dc810",
   "metadata": {},
   "outputs": [],
   "source": [
    "from sklearn.preprocessing import MinMaxScaler, StandardScaler, PowerTransformer"
   ]
  },
  {
   "cell_type": "code",
   "execution_count": 89,
   "id": "970766aa",
   "metadata": {},
   "outputs": [],
   "source": [
    "#cammel case means dealing with a class"
   ]
  },
  {
   "cell_type": "code",
   "execution_count": 90,
   "id": "a9e06d35",
   "metadata": {},
   "outputs": [],
   "source": [
    "scaler= MinMaxScaler()"
   ]
  },
  {
   "cell_type": "code",
   "execution_count": 91,
   "id": "0cece182",
   "metadata": {},
   "outputs": [],
   "source": [
    "#scaler.fit(numeric_df[[\"income\"]])\n",
    "[[\"income\"]]\n",
    " #For now together, nuances posible\n",
    "numeric_df[\"income\"] = scaler.fit_transform(numeric_df[[\"income\"]])"
   ]
  },
  {
   "cell_type": "code",
   "execution_count": 92,
   "id": "ba1006fb",
   "metadata": {},
   "outputs": [
    {
     "data": {
      "text/plain": [
       "<AxesSubplot:>"
      ]
     },
     "execution_count": 92,
     "metadata": {},
     "output_type": "execute_result"
    },
    {
     "data": {
      "image/png": "[encoded data removed]",
      "text/plain": [
       "<Figure size 432x288 with 1 Axes>"
      ]
     },
     "metadata": {
      "needs_background": "light"
     },
     "output_type": "display_data"
    }
   ],
   "source": [
    "numeric_df[\"income\"].hist()"
   ]
  },
  {
   "cell_type": "markdown",
   "id": "8e78d2f6",
   "metadata": {},
   "source": [
    "## For varB= customer_lifetime_value\n",
    "\n",
    "Use StandardScaler to standardize the variable or PowerTransform to reduce its skew.\n",
    "\n",
    "Check that the result has zero mean, unit variance, and reduced skew using mean(), std(), and a plot of the PDF."
   ]
  },
  {
   "cell_type": "code",
   "execution_count": 93,
   "id": "7b653dd4",
   "metadata": {},
   "outputs": [
    {
     "data": {
      "text/plain": [
       "<AxesSubplot:>"
      ]
     },
     "execution_count": 93,
     "metadata": {},
     "output_type": "execute_result"
    },
    {
     "data": {
      "image/png": "[encoded data removed]",
      "text/plain": [
       "<Figure size 432x288 with 1 Axes>"
      ]
     },
     "metadata": {
      "needs_background": "light"
     },
     "output_type": "display_data"
    }
   ],
   "source": [
    "numeric_df[\"customer_lifetime_value\"].hist()"
   ]
  },
  {
   "cell_type": "markdown",
   "id": "c9615e07",
   "metadata": {},
   "source": [
    "### Applying StandardScaler\n"
   ]
  },
  {
   "cell_type": "code",
   "execution_count": 97,
   "id": "a330cab9",
   "metadata": {},
   "outputs": [],
   "source": [
    "scaler = StandardScaler()"
   ]
  },
  {
   "cell_type": "code",
   "execution_count": 98,
   "id": "d69d6489",
   "metadata": {},
   "outputs": [],
   "source": [
    "numeric_df[\"customer_lifetime_value\"]= scaler.fit_transform(numeric_df[[\"customer_lifetime_value\"]])"
   ]
  },
  {
   "cell_type": "code",
   "execution_count": 99,
   "id": "562a8723",
   "metadata": {},
   "outputs": [
    {
     "data": {
      "text/plain": [
       "<AxesSubplot:>"
      ]
     },
     "execution_count": 99,
     "metadata": {},
     "output_type": "execute_result"
    },
    {
     "data": {
      "image/png": "[encoded data removed]",
      "text/plain": [
       "<Figure size 432x288 with 1 Axes>"
      ]
     },
     "metadata": {
      "needs_background": "light"
     },
     "output_type": "display_data"
    }
   ],
   "source": [
    "numeric_df[\"customer_lifetime_value\"].hist()"
   ]
  },
  {
   "cell_type": "markdown",
   "id": "dca8b6e8",
   "metadata": {},
   "source": [
    "### Applying PowerTransformer"
   ]
  },
  {
   "cell_type": "code",
   "execution_count": 101,
   "id": "dee1f161",
   "metadata": {},
   "outputs": [],
   "source": [
    "pt = PowerTransformer()"
   ]
  },
  {
   "cell_type": "code",
   "execution_count": 107,
   "id": "698dc993",
   "metadata": {},
   "outputs": [],
   "source": [
    "numeric_df[\"customer_lifetime_value\"] = pt.fit_transform (numeric_df[[\"customer_lifetime_value\"]])"
   ]
  },
  {
   "cell_type": "code",
   "execution_count": 108,
   "id": "c203dcda",
   "metadata": {},
   "outputs": [
    {
     "data": {
      "text/plain": [
       "<AxesSubplot:>"
      ]
     },
     "execution_count": 108,
     "metadata": {},
     "output_type": "execute_result"
    },
    {
     "data": {
      "image/png": "[encoded data removed]",
      "text/plain": [
       "<Figure size 432x288 with 1 Axes>"
      ]
     },
     "metadata": {
      "needs_background": "light"
     },
     "output_type": "display_data"
    }
   ],
   "source": [
    "numeric_df[\"customer_lifetime_value\"].hist()"
   ]
  },
  {
   "cell_type": "code",
   "execution_count": null,
   "id": "98c1f30a",
   "metadata": {},
   "outputs": [],
   "source": []
  }
 ],
 "metadata": {
  "colab": {
   "provenance": []
  },
  "kernelspec": {
   "display_name": "Python 3",
   "language": "python",
   "name": "python3"
  },
  "language_info": {
   "codemirror_mode": {
    "name": "ipython",
    "version": 3
   },
   "file_extension": ".py",
   "mimetype": "text/x-python",
   "name": "python",
   "nbconvert_exporter": "python",
   "pygments_lexer": "ipython3",
   "version": "3.8.8"
  }
 },
 "nbformat": 4,
 "nbformat_minor": 5
}
