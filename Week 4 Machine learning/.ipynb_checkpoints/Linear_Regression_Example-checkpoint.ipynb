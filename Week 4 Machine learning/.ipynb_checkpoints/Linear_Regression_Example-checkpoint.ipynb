{
 "cells": [
  {
   "cell_type": "code",
   "execution_count": 4,
   "id": "65a1af06",
   "metadata": {},
   "outputs": [],
   "source": [
    "import pandas as pd\n",
    "import seaborn as sns"
   ]
  },
  {
   "cell_type": "code",
   "execution_count": 5,
   "id": "544a4502",
   "metadata": {},
   "outputs": [],
   "source": [
    "p_df = sns.load_dataset('penguins')"
   ]
  },
  {
   "cell_type": "code",
   "execution_count": 6,
   "id": "d9b8ece0",
   "metadata": {},
   "outputs": [
    {
     "data": {
      "text/html": [
       "<div>\n",
       "<style scoped>\n",
       "    .dataframe tbody tr th:only-of-type {\n",
       "        vertical-align: middle;\n",
       "    }\n",
       "\n",
       "    .dataframe tbody tr th {\n",
       "        vertical-align: top;\n",
       "    }\n",
       "\n",
       "    .dataframe thead th {\n",
       "        text-align: right;\n",
       "    }\n",
       "</style>\n",
       "<table border=\"1\" class=\"dataframe\">\n",
       "  <thead>\n",
       "    <tr style=\"text-align: right;\">\n",
       "      <th></th>\n",
       "      <th>species</th>\n",
       "      <th>island</th>\n",
       "      <th>bill_length_mm</th>\n",
       "      <th>bill_depth_mm</th>\n",
       "      <th>flipper_length_mm</th>\n",
       "      <th>body_mass_g</th>\n",
       "      <th>sex</th>\n",
       "    </tr>\n",
       "  </thead>\n",
       "  <tbody>\n",
       "    <tr>\n",
       "      <th>0</th>\n",
       "      <td>Adelie</td>\n",
       "      <td>Torgersen</td>\n",
       "      <td>39.1</td>\n",
       "      <td>18.7</td>\n",
       "      <td>181.0</td>\n",
       "      <td>3750.0</td>\n",
       "      <td>Male</td>\n",
       "    </tr>\n",
       "    <tr>\n",
       "      <th>1</th>\n",
       "      <td>Adelie</td>\n",
       "      <td>Torgersen</td>\n",
       "      <td>39.5</td>\n",
       "      <td>17.4</td>\n",
       "      <td>186.0</td>\n",
       "      <td>3800.0</td>\n",
       "      <td>Female</td>\n",
       "    </tr>\n",
       "    <tr>\n",
       "      <th>2</th>\n",
       "      <td>Adelie</td>\n",
       "      <td>Torgersen</td>\n",
       "      <td>40.3</td>\n",
       "      <td>18.0</td>\n",
       "      <td>195.0</td>\n",
       "      <td>3250.0</td>\n",
       "      <td>Female</td>\n",
       "    </tr>\n",
       "    <tr>\n",
       "      <th>3</th>\n",
       "      <td>Adelie</td>\n",
       "      <td>Torgersen</td>\n",
       "      <td>NaN</td>\n",
       "      <td>NaN</td>\n",
       "      <td>NaN</td>\n",
       "      <td>NaN</td>\n",
       "      <td>NaN</td>\n",
       "    </tr>\n",
       "    <tr>\n",
       "      <th>4</th>\n",
       "      <td>Adelie</td>\n",
       "      <td>Torgersen</td>\n",
       "      <td>36.7</td>\n",
       "      <td>19.3</td>\n",
       "      <td>193.0</td>\n",
       "      <td>3450.0</td>\n",
       "      <td>Female</td>\n",
       "    </tr>\n",
       "  </tbody>\n",
       "</table>\n",
       "</div>"
      ],
      "text/plain": [
       "  species     island  bill_length_mm  bill_depth_mm  flipper_length_mm  \\\n",
       "0  Adelie  Torgersen            39.1           18.7              181.0   \n",
       "1  Adelie  Torgersen            39.5           17.4              186.0   \n",
       "2  Adelie  Torgersen            40.3           18.0              195.0   \n",
       "3  Adelie  Torgersen             NaN            NaN                NaN   \n",
       "4  Adelie  Torgersen            36.7           19.3              193.0   \n",
       "\n",
       "   body_mass_g     sex  \n",
       "0       3750.0    Male  \n",
       "1       3800.0  Female  \n",
       "2       3250.0  Female  \n",
       "3          NaN     NaN  \n",
       "4       3450.0  Female  "
      ]
     },
     "execution_count": 6,
     "metadata": {},
     "output_type": "execute_result"
    }
   ],
   "source": [
    "p_df.head()"
   ]
  },
  {
   "cell_type": "code",
   "execution_count": 7,
   "id": "52d46067",
   "metadata": {},
   "outputs": [
    {
     "data": {
      "text/plain": [
       "array(['Torgersen', 'Biscoe', 'Dream'], dtype=object)"
      ]
     },
     "execution_count": 7,
     "metadata": {},
     "output_type": "execute_result"
    }
   ],
   "source": [
    "p_df.island.unique()"
   ]
  },
  {
   "cell_type": "markdown",
   "id": "e7d771a0",
   "metadata": {},
   "source": [
    "## dropping nas"
   ]
  },
  {
   "cell_type": "code",
   "execution_count": 8,
   "id": "456f24e9",
   "metadata": {},
   "outputs": [],
   "source": [
    "p_df = p_df.dropna()"
   ]
  },
  {
   "cell_type": "markdown",
   "id": "269f8c92",
   "metadata": {},
   "source": [
    "## dropping duplicates"
   ]
  },
  {
   "cell_type": "code",
   "execution_count": 9,
   "id": "b0f91006",
   "metadata": {},
   "outputs": [],
   "source": [
    "p_df = p_df.drop_duplicates()"
   ]
  },
  {
   "cell_type": "markdown",
   "id": "7bee5614",
   "metadata": {},
   "source": [
    "## X-y split"
   ]
  },
  {
   "cell_type": "code",
   "execution_count": 11,
   "id": "33a89727",
   "metadata": {},
   "outputs": [],
   "source": [
    "X= p_df[['flipper_length_mm', 'bill_depth_mm']]\n",
    "y = p_df[['body_mass_g']]"
   ]
  },
  {
   "cell_type": "markdown",
   "id": "de0e27ec",
   "metadata": {},
   "source": [
    "## Train-test split"
   ]
  },
  {
   "cell_type": "code",
   "execution_count": 13,
   "id": "e3aeb268",
   "metadata": {},
   "outputs": [],
   "source": [
    "from sklearn.model_selection import train_test_split"
   ]
  },
  {
   "cell_type": "code",
   "execution_count": 14,
   "id": "a6bf2235",
   "metadata": {},
   "outputs": [],
   "source": [
    "X_train, X_test, y_train, y_test = train_test_split( X,y, random_state=42)#"
   ]
  },
  {
   "cell_type": "code",
   "execution_count": 45,
   "id": "9252867d",
   "metadata": {},
   "outputs": [
    {
     "data": {
      "text/html": [
       "<div>\n",
       "<style scoped>\n",
       "    .dataframe tbody tr th:only-of-type {\n",
       "        vertical-align: middle;\n",
       "    }\n",
       "\n",
       "    .dataframe tbody tr th {\n",
       "        vertical-align: top;\n",
       "    }\n",
       "\n",
       "    .dataframe thead th {\n",
       "        text-align: right;\n",
       "    }\n",
       "</style>\n",
       "<table border=\"1\" class=\"dataframe\">\n",
       "  <thead>\n",
       "    <tr style=\"text-align: right;\">\n",
       "      <th></th>\n",
       "      <th>body_mass_g</th>\n",
       "    </tr>\n",
       "  </thead>\n",
       "  <tbody>\n",
       "    <tr>\n",
       "      <th>0</th>\n",
       "      <td>3250.0</td>\n",
       "    </tr>\n",
       "    <tr>\n",
       "      <th>1</th>\n",
       "      <td>4875.0</td>\n",
       "    </tr>\n",
       "    <tr>\n",
       "      <th>2</th>\n",
       "      <td>4000.0</td>\n",
       "    </tr>\n",
       "    <tr>\n",
       "      <th>3</th>\n",
       "      <td>3675.0</td>\n",
       "    </tr>\n",
       "    <tr>\n",
       "      <th>4</th>\n",
       "      <td>4050.0</td>\n",
       "    </tr>\n",
       "    <tr>\n",
       "      <th>...</th>\n",
       "      <td>...</td>\n",
       "    </tr>\n",
       "    <tr>\n",
       "      <th>79</th>\n",
       "      <td>5650.0</td>\n",
       "    </tr>\n",
       "    <tr>\n",
       "      <th>80</th>\n",
       "      <td>3450.0</td>\n",
       "    </tr>\n",
       "    <tr>\n",
       "      <th>81</th>\n",
       "      <td>4250.0</td>\n",
       "    </tr>\n",
       "    <tr>\n",
       "      <th>82</th>\n",
       "      <td>3200.0</td>\n",
       "    </tr>\n",
       "    <tr>\n",
       "      <th>83</th>\n",
       "      <td>3700.0</td>\n",
       "    </tr>\n",
       "  </tbody>\n",
       "</table>\n",
       "<p>84 rows × 1 columns</p>\n",
       "</div>"
      ],
      "text/plain": [
       "    body_mass_g\n",
       "0        3250.0\n",
       "1        4875.0\n",
       "2        4000.0\n",
       "3        3675.0\n",
       "4        4050.0\n",
       "..          ...\n",
       "79       5650.0\n",
       "80       3450.0\n",
       "81       4250.0\n",
       "82       3200.0\n",
       "83       3700.0\n",
       "\n",
       "[84 rows x 1 columns]"
      ]
     },
     "execution_count": 45,
     "metadata": {},
     "output_type": "execute_result"
    }
   ],
   "source": [
    "y_test"
   ]
  },
  {
   "cell_type": "markdown",
   "id": "047dae94",
   "metadata": {},
   "source": [
    "## Model training"
   ]
  },
  {
   "cell_type": "code",
   "execution_count": 46,
   "id": "b24c3c1e",
   "metadata": {},
   "outputs": [],
   "source": [
    "from sklearn.linear_model import LinearRegression"
   ]
  },
  {
   "cell_type": "code",
   "execution_count": 47,
   "id": "0b4acbdc",
   "metadata": {},
   "outputs": [],
   "source": [
    "lm = LinearRegression()\n",
    "model = lm.fit(X_train, y_train)"
   ]
  },
  {
   "cell_type": "code",
   "execution_count": 71,
   "id": "21f12af0",
   "metadata": {},
   "outputs": [
    {
     "data": {
      "text/plain": [
       "array([[52.20343571, 13.10815533]])"
      ]
     },
     "execution_count": 71,
     "metadata": {},
     "output_type": "execute_result"
    }
   ],
   "source": [
    "model.coef_"
   ]
  },
  {
   "cell_type": "code",
   "execution_count": 49,
   "id": "6a3e06b7",
   "metadata": {},
   "outputs": [
    {
     "data": {
      "text/plain": [
       "array([-6509.21617362])"
      ]
     },
     "execution_count": 49,
     "metadata": {},
     "output_type": "execute_result"
    }
   ],
   "source": [
    "model.intercept_"
   ]
  },
  {
   "cell_type": "markdown",
   "id": "48165b08",
   "metadata": {},
   "source": [
    "## Predict mass of random penguin"
   ]
  },
  {
   "cell_type": "code",
   "execution_count": 50,
   "id": "cd177b55",
   "metadata": {},
   "outputs": [],
   "source": [
    "random_penguin = X_test.sample()"
   ]
  },
  {
   "cell_type": "code",
   "execution_count": 62,
   "id": "290a73b3",
   "metadata": {},
   "outputs": [
    {
     "data": {
      "text/html": [
       "<div>\n",
       "<style scoped>\n",
       "    .dataframe tbody tr th:only-of-type {\n",
       "        vertical-align: middle;\n",
       "    }\n",
       "\n",
       "    .dataframe tbody tr th {\n",
       "        vertical-align: top;\n",
       "    }\n",
       "\n",
       "    .dataframe thead th {\n",
       "        text-align: right;\n",
       "    }\n",
       "</style>\n",
       "<table border=\"1\" class=\"dataframe\">\n",
       "  <thead>\n",
       "    <tr style=\"text-align: right;\">\n",
       "      <th></th>\n",
       "      <th>flipper_length_mm</th>\n",
       "      <th>bill_depth_mm</th>\n",
       "    </tr>\n",
       "  </thead>\n",
       "  <tbody>\n",
       "    <tr>\n",
       "      <th>328</th>\n",
       "      <td>208.0</td>\n",
       "      <td>14.0</td>\n",
       "    </tr>\n",
       "  </tbody>\n",
       "</table>\n",
       "</div>"
      ],
      "text/plain": [
       "     flipper_length_mm  bill_depth_mm\n",
       "328              208.0           14.0"
      ]
     },
     "execution_count": 62,
     "metadata": {},
     "output_type": "execute_result"
    }
   ],
   "source": [
    "random_penguin"
   ]
  },
  {
   "cell_type": "code",
   "execution_count": 63,
   "id": "95f6af7c",
   "metadata": {},
   "outputs": [
    {
     "data": {
      "text/plain": [
       "array([[4532.61262802]])"
      ]
     },
     "execution_count": 63,
     "metadata": {},
     "output_type": "execute_result"
    }
   ],
   "source": [
    "model.predict(random_penguin)"
   ]
  },
  {
   "cell_type": "markdown",
   "id": "cca8474d",
   "metadata": {},
   "source": [
    "## Create predictions for the test set"
   ]
  },
  {
   "cell_type": "code",
   "execution_count": 64,
   "id": "9ffa2469",
   "metadata": {},
   "outputs": [],
   "source": [
    "y_pred = model.predict(X_test)"
   ]
  },
  {
   "cell_type": "code",
   "execution_count": 65,
   "id": "32dd31ef",
   "metadata": {},
   "outputs": [],
   "source": [
    "y_pred= pd.DataFrame(y_pred)"
   ]
  },
  {
   "cell_type": "code",
   "execution_count": 66,
   "id": "76d1f79d",
   "metadata": {},
   "outputs": [],
   "source": [
    "y_test = y_test.reset_index(drop=True)"
   ]
  },
  {
   "cell_type": "code",
   "execution_count": 67,
   "id": "2fd4b626",
   "metadata": {},
   "outputs": [],
   "source": [
    "residuals_df= pd.concat([y_test, y_pred], axis=1)"
   ]
  },
  {
   "cell_type": "code",
   "execution_count": 68,
   "id": "77672512",
   "metadata": {},
   "outputs": [],
   "source": [
    "residuals_df= residuals_df.rename(columns= {\"body_mass_g\": \"y_test\", 0: \"y_pred\"})"
   ]
  },
  {
   "cell_type": "code",
   "execution_count": 69,
   "id": "9510bf1f",
   "metadata": {},
   "outputs": [],
   "source": [
    "residuals_df[\"residual\"] = residuals_df[\"y_test\"]- residuals_df[\"y_pred\"]"
   ]
  },
  {
   "cell_type": "code",
   "execution_count": 70,
   "id": "7b246f20",
   "metadata": {},
   "outputs": [
    {
     "data": {
      "text/html": [
       "<div>\n",
       "<style scoped>\n",
       "    .dataframe tbody tr th:only-of-type {\n",
       "        vertical-align: middle;\n",
       "    }\n",
       "\n",
       "    .dataframe tbody tr th {\n",
       "        vertical-align: top;\n",
       "    }\n",
       "\n",
       "    .dataframe thead th {\n",
       "        text-align: right;\n",
       "    }\n",
       "</style>\n",
       "<table border=\"1\" class=\"dataframe\">\n",
       "  <thead>\n",
       "    <tr style=\"text-align: right;\">\n",
       "      <th></th>\n",
       "      <th>y_test</th>\n",
       "      <th>y_pred</th>\n",
       "      <th>residual</th>\n",
       "    </tr>\n",
       "  </thead>\n",
       "  <tbody>\n",
       "    <tr>\n",
       "      <th>0</th>\n",
       "      <td>3250.0</td>\n",
       "      <td>3001.901576</td>\n",
       "      <td>248.098424</td>\n",
       "    </tr>\n",
       "    <tr>\n",
       "      <th>1</th>\n",
       "      <td>4875.0</td>\n",
       "      <td>5271.325621</td>\n",
       "      <td>-396.325621</td>\n",
       "    </tr>\n",
       "    <tr>\n",
       "      <th>2</th>\n",
       "      <td>4000.0</td>\n",
       "      <td>3920.819556</td>\n",
       "      <td>79.180444</td>\n",
       "    </tr>\n",
       "    <tr>\n",
       "      <th>3</th>\n",
       "      <td>3675.0</td>\n",
       "      <td>4053.835184</td>\n",
       "      <td>-378.835184</td>\n",
       "    </tr>\n",
       "    <tr>\n",
       "      <th>4</th>\n",
       "      <td>4050.0</td>\n",
       "      <td>3752.411909</td>\n",
       "      <td>297.588091</td>\n",
       "    </tr>\n",
       "  </tbody>\n",
       "</table>\n",
       "</div>"
      ],
      "text/plain": [
       "   y_test       y_pred    residual\n",
       "0  3250.0  3001.901576  248.098424\n",
       "1  4875.0  5271.325621 -396.325621\n",
       "2  4000.0  3920.819556   79.180444\n",
       "3  3675.0  4053.835184 -378.835184\n",
       "4  4050.0  3752.411909  297.588091"
      ]
     },
     "execution_count": 70,
     "metadata": {},
     "output_type": "execute_result"
    }
   ],
   "source": [
    "residuals_df.head()"
   ]
  },
  {
   "cell_type": "markdown",
   "id": "2934c383",
   "metadata": {},
   "source": [
    "## Calculating metrics"
   ]
  },
  {
   "cell_type": "code",
   "execution_count": 72,
   "id": "ea7fc6b8",
   "metadata": {},
   "outputs": [],
   "source": [
    "mean_error = residuals_df[\"residual\"].mean()"
   ]
  },
  {
   "cell_type": "code",
   "execution_count": 73,
   "id": "e2c1e747",
   "metadata": {},
   "outputs": [
    {
     "data": {
      "text/plain": [
       "0.4256712769165244"
      ]
     },
     "execution_count": 73,
     "metadata": {},
     "output_type": "execute_result"
    }
   ],
   "source": [
    "mean_error"
   ]
  },
  {
   "cell_type": "code",
   "execution_count": 80,
   "id": "91443583",
   "metadata": {},
   "outputs": [],
   "source": [
    "from sklearn.metrics import mean_squared_error as mse, mean_absolute_error as mae"
   ]
  },
  {
   "cell_type": "code",
   "execution_count": 79,
   "id": "9dc25321",
   "metadata": {},
   "outputs": [
    {
     "data": {
      "text/plain": [
       "135012.91730727023"
      ]
     },
     "execution_count": 79,
     "metadata": {},
     "output_type": "execute_result"
    }
   ],
   "source": [
    "mse(y_test, y_pred)"
   ]
  },
  {
   "cell_type": "code",
   "execution_count": 76,
   "id": "6def61a3",
   "metadata": {},
   "outputs": [
    {
     "data": {
      "text/plain": [
       "295.2392937185123"
      ]
     },
     "execution_count": 76,
     "metadata": {},
     "output_type": "execute_result"
    }
   ],
   "source": [
    "mae(y_test, y_pred)"
   ]
  },
  {
   "cell_type": "code",
   "execution_count": 81,
   "id": "f809cf35",
   "metadata": {},
   "outputs": [],
   "source": [
    "rmse= mse( y_test, y_pred, squared = False)# either"
   ]
  },
  {
   "cell_type": "code",
   "execution_count": 82,
   "id": "d8e9c3d8",
   "metadata": {},
   "outputs": [
    {
     "data": {
      "text/plain": [
       "367.44103922571065"
      ]
     },
     "execution_count": 82,
     "metadata": {},
     "output_type": "execute_result"
    }
   ],
   "source": [
    "rmse"
   ]
  },
  {
   "cell_type": "code",
   "execution_count": 77,
   "id": "057e8fe9",
   "metadata": {},
   "outputs": [
    {
     "data": {
      "text/plain": [
       "367.44103922571065"
      ]
     },
     "execution_count": 77,
     "metadata": {},
     "output_type": "execute_result"
    }
   ],
   "source": [
    "import numpy as np\n",
    "np.sqrt(mse(y_test, y_pred)) #or this"
   ]
  },
  {
   "cell_type": "code",
   "execution_count": null,
   "id": "d6faab41",
   "metadata": {},
   "outputs": [],
   "source": []
  }
 ],
 "metadata": {
  "kernelspec": {
   "display_name": "Python 3",
   "language": "python",
   "name": "python3"
  },
  "language_info": {
   "codemirror_mode": {
    "name": "ipython",
    "version": 3
   },
   "file_extension": ".py",
   "mimetype": "text/x-python",
   "name": "python",
   "nbconvert_exporter": "python",
   "pygments_lexer": "ipython3",
   "version": "3.8.8"
  }
 },
 "nbformat": 4,
 "nbformat_minor": 5
}
