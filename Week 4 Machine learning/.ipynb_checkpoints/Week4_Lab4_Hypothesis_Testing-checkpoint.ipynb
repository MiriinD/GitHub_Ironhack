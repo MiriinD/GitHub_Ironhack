{
 "cells": [
  {
   "cell_type": "markdown",
   "id": "9f51ec98",
   "metadata": {},
   "source": [
    "## Instructions\n",
    "\n",
    "It is assumed that the mean systolic blood pressure is μ = 120 mm Hg. In the Honolulu Heart Study, a sample of n = 100 people had an average systolic blood pressure of 130.1 mm Hg with a standard deviation of 21.21 mm Hg. Is the group significantly different (with respect to systolic blood pressure!) from the regular population?\n",
    "\n",
    "Set up the hypothesis test.\n",
    "Write down all the steps followed for setting up the test.\n",
    "Calculate the test statistic by hand and also code it in Python. It should be 4.76190. What decision can you make based on this calculated value?\n"
   ]
  },
  {
   "cell_type": "code",
   "execution_count": 34,
   "id": "90e1f067",
   "metadata": {},
   "outputs": [],
   "source": [
    "import numpy as np\n",
    "import pandas as pd\n",
    "import scipy.stats as stats\n",
    "import matplotlib.pyplot as plt\n",
    "import seaborn as sns\n",
    "\n",
    "%matplotlib inline"
   ]
  },
  {
   "cell_type": "markdown",
   "id": "c950a448",
   "metadata": {},
   "source": [
    "## Problem statement:"
   ]
  },
  {
   "cell_type": "markdown",
   "id": "989395a0",
   "metadata": {},
   "source": [
    "Assumed The mean systolic blood pressure is μ = 120 mm Hg.\n",
    "However the Honolulu Heart Study, with a sample of n = 100 people \n",
    "had an average systolic blood pressure of 130.1 mm Hg \n",
    "with a standard deviation of 21.21 mm Hg.\n",
    "\n",
    "Is the group significantly different with respect to the assumed systolic blood pressure :(\n",
    "\n",
    "- H0: mu = 120 mm Hg\n",
    "- Ha: mu!= 120 mm Hg"
   ]
  },
  {
   "cell_type": "code",
   "execution_count": 3,
   "id": "76c664d8",
   "metadata": {},
   "outputs": [
    {
     "data": {
      "text/plain": [
       "2.121"
      ]
     },
     "execution_count": 3,
     "metadata": {},
     "output_type": "execute_result"
    }
   ],
   "source": [
    "a_mean_blood_p= 120\n",
    "s_size= 100\n",
    "#population_stand_dev= not known\n",
    "sample_mean_blood_p= 130.1\n",
    "sample_stand_dev= 21.21\n",
    "sem = sample_stand_dev/np.sqrt(s_size)\n",
    "sem"
   ]
  },
  {
   "cell_type": "code",
   "execution_count": 4,
   "id": "abb4cad7",
   "metadata": {},
   "outputs": [
    {
     "name": "stdout",
     "output_type": "stream",
     "text": [
      "The z score of our sample is: 4.76\n"
     ]
    }
   ],
   "source": [
    "z = (sample_mean_blood_p-a_mean_blood_p)/sem\n",
    "print(\"The z score of our sample is: {:.2f}\".format(z)) #Almost 5 st dev away from the mean"
   ]
  },
  {
   "cell_type": "code",
   "execution_count": 5,
   "id": "4ff0c388",
   "metadata": {},
   "outputs": [
    {
     "name": "stdout",
     "output_type": "stream",
     "text": [
      "The critical value corresponding to a 0.95 area of a t distribution is: 1.98\n"
     ]
    }
   ],
   "source": [
    "zc = stats.t.ppf(1-(0.05/2), df = 99)\n",
    "print(\"The critical value corresponding to a 0.95 area of a t distribution is: {:.2f}\".format(zc))"
   ]
  },
  {
   "cell_type": "code",
   "execution_count": 7,
   "id": "a78da4d9",
   "metadata": {},
   "outputs": [
    {
     "name": "stdout",
     "output_type": "stream",
     "text": [
      "0.00033066342302957467\n"
     ]
    }
   ],
   "source": [
    "p_value = stats.t.sf(4.76, df = 99)\n",
    "print(p_value* 100) #less than 0.0003% probablility of observing a mean systolic blood pressure of 120, so we can reject the H0 and accept the alternative hypothesis\n",
    "#Conclusion: Honolulu patients don't tend to have on average 120 mmHg systolic pressure"
   ]
  },
  {
   "cell_type": "code",
   "execution_count": null,
   "id": "e4c1898a",
   "metadata": {},
   "outputs": [],
   "source": [
    "\"\"\"We can not oly reject the H0 but create the confidence interval,95% chance that the value is between 126:134\n",
    "\n",
    "The use of confidence interval goes on 2 standard errors to the left and right-1.96 standard de\"\"\""
   ]
  },
  {
   "cell_type": "markdown",
   "id": "3bcbfd89",
   "metadata": {},
   "source": [
    "## Optional\n",
    "In a packing plant, a machine packs cartons with jars. It is supposed that a new machine will pack faster on the average than the machine currently used. To test that hypothesis, the times it takes each machine to pack ten cartons are recorded. The results, in seconds, are shown in the tables in the file Data/machine.txt. Assume that there is sufficient evidence to conduct the t test, does the data provide sufficient evidence to show if one machine is better than the other.\n",
    "Hint: use two sample t-test\n",
    "\n",
    "t= (sample_mean(x1) - sample_mean(x2)) / sqrt(square(s1)/n1 + square(s2)/n2 )"
   ]
  },
  {
   "cell_type": "code",
   "execution_count": 13,
   "id": "71c206aa",
   "metadata": {},
   "outputs": [
    {
     "data": {
      "text/plain": [
       "<bound method NDFrame.describe of   New Machine\\t  Old Machine\n",
       "0         42.1\\t        42.7\n",
       "1         41\\t          43.6\n",
       "2         41.3\\t        43.8\n",
       "3         41.8\\t        43.3\n",
       "4         42.4\\t        42.5\n",
       "5         42.8\\t        43.5\n",
       "6         43.2\\t        43.1\n",
       "7         42.3\\t        41.7\n",
       "8           41.8\\t        44\n",
       "9         42.7\\t        44.1>"
      ]
     },
     "execution_count": 13,
     "metadata": {},
     "output_type": "execute_result"
    }
   ],
   "source": [
    "import pandas as pd\n",
    "url= \"https://raw.githubusercontent.com/repicao/IH_AB_DA_FT_JAN_2024/main/Class_Materials/Statistics/Lab/Data/Data_Machine.txt\"\n",
    "df = pd.read_csv(url)\n",
    "df.describe"
   ]
  },
  {
   "cell_type": "code",
   "execution_count": 14,
   "id": "c21bea8b",
   "metadata": {},
   "outputs": [],
   "source": [
    "df[['new_machine', 'old_machine']] = df['New Machine\\t  Old Machine'].str.split('\\t', expand=True)"
   ]
  },
  {
   "cell_type": "code",
   "execution_count": 16,
   "id": "3dba85e8",
   "metadata": {},
   "outputs": [
    {
     "name": "stdout",
     "output_type": "stream",
     "text": [
      "<class 'pandas.core.frame.DataFrame'>\n",
      "RangeIndex: 10 entries, 0 to 9\n",
      "Data columns (total 3 columns):\n",
      " #   Column                     Non-Null Count  Dtype \n",
      "---  ------                     --------------  ----- \n",
      " 0   New Machine\t  Old Machine  10 non-null     object\n",
      " 1   new_machine                10 non-null     object\n",
      " 2   old_machine                10 non-null     object\n",
      "dtypes: object(3)\n",
      "memory usage: 368.0+ bytes\n"
     ]
    }
   ],
   "source": [
    "df.info()"
   ]
  },
  {
   "cell_type": "code",
   "execution_count": 33,
   "id": "3195aaf7",
   "metadata": {},
   "outputs": [
    {
     "name": "stdout",
     "output_type": "stream",
     "text": [
      "<class 'pandas.core.frame.DataFrame'>\n",
      "RangeIndex: 10 entries, 0 to 9\n",
      "Data columns (total 3 columns):\n",
      " #   Column                     Non-Null Count  Dtype  \n",
      "---  ------                     --------------  -----  \n",
      " 0   New Machine\t  Old Machine  10 non-null     object \n",
      " 1   new_machine                1 non-null      float64\n",
      " 2   old_machine                0 non-null      float64\n",
      "dtypes: float64(2), object(1)\n",
      "memory usage: 368.0+ bytes\n"
     ]
    }
   ],
   "source": [
    "# Assuming 'new_machine' and 'old_machine' contain string representations of numbers\n",
    "df['new_machine'] = df['new_machine'].astype(float)\n",
    "df['old_machine'] = df['old_machine'].astype(float)\n",
    "df.info()\n"
   ]
  },
  {
   "cell_type": "code",
   "execution_count": null,
   "id": "c3b0fb33",
   "metadata": {},
   "outputs": [],
   "source": [
    "df['new_machine'].mean()\n",
    "s_size= 9\n",
    "#population_stand_dev= not known\n",
    "sample_mean_blood_p= 130.1\n",
    "sample_stand_dev= 21.21\n",
    "sem = sample_stand_dev/np.sqrt(s_size)\n",
    "sem"
   ]
  },
  {
   "cell_type": "code",
   "execution_count": 35,
   "id": "7e14303e",
   "metadata": {},
   "outputs": [
    {
     "data": {
      "text/plain": [
       "41.0"
      ]
     },
     "execution_count": 35,
     "metadata": {},
     "output_type": "execute_result"
    }
   ],
   "source": [
    "nm_mean= df['new_machine'].mean()\n",
    "om_mean= df['old_machine'].mean()"
   ]
  },
  {
   "cell_type": "code",
   "execution_count": null,
   "id": "a0347487",
   "metadata": {},
   "outputs": [],
   "source": []
  }
 ],
 "metadata": {
  "kernelspec": {
   "display_name": "Python 3 (ipykernel)",
   "language": "python",
   "name": "python3"
  },
  "language_info": {
   "codemirror_mode": {
    "name": "ipython",
    "version": 3
   },
   "file_extension": ".py",
   "mimetype": "text/x-python",
   "name": "python",
   "nbconvert_exporter": "python",
   "pygments_lexer": "ipython3",
   "version": "3.11.7"
  }
 },
 "nbformat": 4,
 "nbformat_minor": 5
}
