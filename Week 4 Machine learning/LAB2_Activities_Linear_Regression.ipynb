{
 "cells": [
  {
   "cell_type": "markdown",
   "id": "d9e6f0a6",
   "metadata": {},
   "source": [
    "## Linear Regression\n",
    "X-y split (y is the target variable, in this case, \"total claim amount\")\n",
    "\n",
    "\n",
    "Train-test split.\n",
    "\n",
    "\n",
    "Standardize the data (after the data split!).\n",
    "Apply linear regression.\n",
    "Model Interpretation.\n",
    "\n",
    "(Wednesday)\n",
    "\n",
    "Model Validation\n",
    "\n",
    "\n",
    "Model Evaluation:\n",
    "MSE.\n",
    "RMSE.\n",
    "MAE.\n",
    "R2.\n",
    "Adjusted R2.\n",
    "Feature Importance.\n"
   ]
  },
  {
   "cell_type": "code",
   "execution_count": null,
   "id": "d050b03d",
   "metadata": {},
   "outputs": [],
   "source": []
  }
 ],
 "metadata": {
  "kernelspec": {
   "display_name": "Python 3",
   "language": "python",
   "name": "python3"
  },
  "language_info": {
   "codemirror_mode": {
    "name": "ipython",
    "version": 3
   },
   "file_extension": ".py",
   "mimetype": "text/x-python",
   "name": "python",
   "nbconvert_exporter": "python",
   "pygments_lexer": "ipython3",
   "version": "3.8.8"
  }
 },
 "nbformat": 4,
 "nbformat_minor": 5
}
