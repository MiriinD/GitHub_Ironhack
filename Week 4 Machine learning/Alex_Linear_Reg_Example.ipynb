{
 "cells": [
  {
   "cell_type": "code",
   "execution_count": 1,
   "id": "b6dcbefb",
   "metadata": {},
   "outputs": [],
   "source": [
    "import pandas as pd\n",
    "import seaborn as sns"
   ]
  },
  {
   "cell_type": "code",
   "execution_count": 2,
   "id": "cfabb75a",
   "metadata": {},
   "outputs": [],
   "source": [
    "p_df = sns.load_dataset(\"penguins\")"
   ]
  },
  {
   "cell_type": "code",
   "execution_count": 3,
   "id": "569e8a0a",
   "metadata": {},
   "outputs": [
    {
     "data": {
      "text/html": [
       "<div>\n",
       "<style scoped>\n",
       "    .dataframe tbody tr th:only-of-type {\n",
       "        vertical-align: middle;\n",
       "    }\n",
       "\n",
       "    .dataframe tbody tr th {\n",
       "        vertical-align: top;\n",
       "    }\n",
       "\n",
       "    .dataframe thead th {\n",
       "        text-align: right;\n",
       "    }\n",
       "</style>\n",
       "<table border=\"1\" class=\"dataframe\">\n",
       "  <thead>\n",
       "    <tr style=\"text-align: right;\">\n",
       "      <th></th>\n",
       "      <th>species</th>\n",
       "      <th>island</th>\n",
       "      <th>bill_length_mm</th>\n",
       "      <th>bill_depth_mm</th>\n",
       "      <th>flipper_length_mm</th>\n",
       "      <th>body_mass_g</th>\n",
       "      <th>sex</th>\n",
       "    </tr>\n",
       "  </thead>\n",
       "  <tbody>\n",
       "    <tr>\n",
       "      <th>0</th>\n",
       "      <td>Adelie</td>\n",
       "      <td>Torgersen</td>\n",
       "      <td>39.1</td>\n",
       "      <td>18.7</td>\n",
       "      <td>181.0</td>\n",
       "      <td>3750.0</td>\n",
       "      <td>Male</td>\n",
       "    </tr>\n",
       "    <tr>\n",
       "      <th>1</th>\n",
       "      <td>Adelie</td>\n",
       "      <td>Torgersen</td>\n",
       "      <td>39.5</td>\n",
       "      <td>17.4</td>\n",
       "      <td>186.0</td>\n",
       "      <td>3800.0</td>\n",
       "      <td>Female</td>\n",
       "    </tr>\n",
       "    <tr>\n",
       "      <th>2</th>\n",
       "      <td>Adelie</td>\n",
       "      <td>Torgersen</td>\n",
       "      <td>40.3</td>\n",
       "      <td>18.0</td>\n",
       "      <td>195.0</td>\n",
       "      <td>3250.0</td>\n",
       "      <td>Female</td>\n",
       "    </tr>\n",
       "    <tr>\n",
       "      <th>3</th>\n",
       "      <td>Adelie</td>\n",
       "      <td>Torgersen</td>\n",
       "      <td>NaN</td>\n",
       "      <td>NaN</td>\n",
       "      <td>NaN</td>\n",
       "      <td>NaN</td>\n",
       "      <td>NaN</td>\n",
       "    </tr>\n",
       "    <tr>\n",
       "      <th>4</th>\n",
       "      <td>Adelie</td>\n",
       "      <td>Torgersen</td>\n",
       "      <td>36.7</td>\n",
       "      <td>19.3</td>\n",
       "      <td>193.0</td>\n",
       "      <td>3450.0</td>\n",
       "      <td>Female</td>\n",
       "    </tr>\n",
       "  </tbody>\n",
       "</table>\n",
       "</div>"
      ],
      "text/plain": [
       "  species     island  bill_length_mm  bill_depth_mm  flipper_length_mm  \\\n",
       "0  Adelie  Torgersen            39.1           18.7              181.0   \n",
       "1  Adelie  Torgersen            39.5           17.4              186.0   \n",
       "2  Adelie  Torgersen            40.3           18.0              195.0   \n",
       "3  Adelie  Torgersen             NaN            NaN                NaN   \n",
       "4  Adelie  Torgersen            36.7           19.3              193.0   \n",
       "\n",
       "   body_mass_g     sex  \n",
       "0       3750.0    Male  \n",
       "1       3800.0  Female  \n",
       "2       3250.0  Female  \n",
       "3          NaN     NaN  \n",
       "4       3450.0  Female  "
      ]
     },
     "execution_count": 3,
     "metadata": {},
     "output_type": "execute_result"
    }
   ],
   "source": [
    "p_df.head()"
   ]
  },
  {
   "cell_type": "code",
   "execution_count": 4,
   "id": "172d6884",
   "metadata": {},
   "outputs": [
    {
     "data": {
      "text/plain": [
       "array(['Torgersen', 'Biscoe', 'Dream'], dtype=object)"
      ]
     },
     "execution_count": 4,
     "metadata": {},
     "output_type": "execute_result"
    }
   ],
   "source": [
    "p_df.island.unique()"
   ]
  },
  {
   "cell_type": "markdown",
   "id": "5d3a8760",
   "metadata": {},
   "source": [
    "#### drooping nas"
   ]
  },
  {
   "cell_type": "code",
   "execution_count": 5,
   "id": "b997f1b7",
   "metadata": {},
   "outputs": [],
   "source": [
    "p_df = p_df.dropna()"
   ]
  },
  {
   "cell_type": "markdown",
   "id": "d4ac68d5",
   "metadata": {},
   "source": [
    "#### dropping duplicates "
   ]
  },
  {
   "cell_type": "code",
   "execution_count": 6,
   "id": "a7ae7aa1",
   "metadata": {},
   "outputs": [],
   "source": [
    "p_df = p_df.drop_duplicates()"
   ]
  },
  {
   "cell_type": "markdown",
   "id": "cf772448",
   "metadata": {},
   "source": [
    "### X-y split"
   ]
  },
  {
   "cell_type": "code",
   "execution_count": 7,
   "id": "f0539f47",
   "metadata": {},
   "outputs": [],
   "source": [
    "X = p_df[[\"flipper_length_mm\",\"bill_depth_mm\"]]\n",
    "y = p_df[[\"body_mass_g\"]]"
   ]
  },
  {
   "cell_type": "markdown",
   "id": "489f6662",
   "metadata": {},
   "source": [
    "### Train-test split"
   ]
  },
  {
   "cell_type": "code",
   "execution_count": 8,
   "id": "611369ba",
   "metadata": {},
   "outputs": [],
   "source": [
    "from sklearn.model_selection import train_test_split"
   ]
  },
  {
   "cell_type": "code",
   "execution_count": 49,
   "id": "47b7a6bc",
   "metadata": {},
   "outputs": [],
   "source": [
    "X_train, X_test, y_train, y_test = train_test_split(X,y, random_state = 105)"
   ]
  },
  {
   "cell_type": "markdown",
   "id": "6684d826",
   "metadata": {},
   "source": [
    "## Scaling"
   ]
  },
  {
   "cell_type": "code",
   "execution_count": 88,
   "id": "34d8b667",
   "metadata": {},
   "outputs": [],
   "source": [
    "from sklearn.preprocessing import StandardScaler"
   ]
  },
  {
   "cell_type": "code",
   "execution_count": null,
   "id": "92c21f7b",
   "metadata": {},
   "outputs": [],
   "source": [
    "scaler= StandardScaler\n",
    "scaler_fitted =scaler.fit()\n",
    "X_train_scaled=scaler_fitted.transform()"
   ]
  },
  {
   "cell_type": "code",
   "execution_count": null,
   "id": "b34de758",
   "metadata": {},
   "outputs": [],
   "source": []
  },
  {
   "cell_type": "markdown",
   "id": "e839414b",
   "metadata": {},
   "source": [
    "### Model training"
   ]
  },
  {
   "cell_type": "code",
   "execution_count": 50,
   "id": "04c18ca9",
   "metadata": {},
   "outputs": [],
   "source": [
    "from sklearn.linear_model import LinearRegression"
   ]
  },
  {
   "cell_type": "code",
   "execution_count": 51,
   "id": "af4751fd",
   "metadata": {},
   "outputs": [],
   "source": [
    "lm = LinearRegression()\n",
    "model = lm.fit(X_train,y_train)"
   ]
  },
  {
   "cell_type": "code",
   "execution_count": 52,
   "id": "9bc993fd",
   "metadata": {},
   "outputs": [
    {
     "data": {
      "text/plain": [
       "array([[51.53303872,  9.75909987]])"
      ]
     },
     "execution_count": 52,
     "metadata": {},
     "output_type": "execute_result"
    }
   ],
   "source": [
    "model.coef_"
   ]
  },
  {
   "cell_type": "code",
   "execution_count": 53,
   "id": "eed0eaa9",
   "metadata": {},
   "outputs": [
    {
     "data": {
      "text/plain": [
       "array([-6328.27433718])"
      ]
     },
     "execution_count": 53,
     "metadata": {},
     "output_type": "execute_result"
    }
   ],
   "source": [
    "model.intercept_"
   ]
  },
  {
   "cell_type": "markdown",
   "id": "90f61c95",
   "metadata": {},
   "source": [
    "### Predict mass of random penguin"
   ]
  },
  {
   "cell_type": "code",
   "execution_count": 54,
   "id": "6fae4263",
   "metadata": {},
   "outputs": [],
   "source": [
    "random_penguin = X_test.sample()"
   ]
  },
  {
   "cell_type": "code",
   "execution_count": 55,
   "id": "cc77ae04",
   "metadata": {},
   "outputs": [
    {
     "data": {
      "text/html": [
       "<div>\n",
       "<style scoped>\n",
       "    .dataframe tbody tr th:only-of-type {\n",
       "        vertical-align: middle;\n",
       "    }\n",
       "\n",
       "    .dataframe tbody tr th {\n",
       "        vertical-align: top;\n",
       "    }\n",
       "\n",
       "    .dataframe thead th {\n",
       "        text-align: right;\n",
       "    }\n",
       "</style>\n",
       "<table border=\"1\" class=\"dataframe\">\n",
       "  <thead>\n",
       "    <tr style=\"text-align: right;\">\n",
       "      <th></th>\n",
       "      <th>flipper_length_mm</th>\n",
       "      <th>bill_depth_mm</th>\n",
       "    </tr>\n",
       "  </thead>\n",
       "  <tbody>\n",
       "    <tr>\n",
       "      <th>12</th>\n",
       "      <td>182.0</td>\n",
       "      <td>17.6</td>\n",
       "    </tr>\n",
       "  </tbody>\n",
       "</table>\n",
       "</div>"
      ],
      "text/plain": [
       "    flipper_length_mm  bill_depth_mm\n",
       "12              182.0           17.6"
      ]
     },
     "execution_count": 55,
     "metadata": {},
     "output_type": "execute_result"
    }
   ],
   "source": [
    "random_penguin"
   ]
  },
  {
   "cell_type": "code",
   "execution_count": 56,
   "id": "2e2a2262",
   "metadata": {},
   "outputs": [
    {
     "data": {
      "text/plain": [
       "array([[3222.49886768]])"
      ]
     },
     "execution_count": 56,
     "metadata": {},
     "output_type": "execute_result"
    }
   ],
   "source": [
    "model.predict(random_penguin)"
   ]
  },
  {
   "cell_type": "markdown",
   "id": "7d333333",
   "metadata": {},
   "source": [
    "### Create predictions for test set"
   ]
  },
  {
   "cell_type": "code",
   "execution_count": 57,
   "id": "761c5a6b",
   "metadata": {},
   "outputs": [],
   "source": [
    "y_pred = model.predict(X_test)"
   ]
  },
  {
   "cell_type": "code",
   "execution_count": 58,
   "id": "f6d99370",
   "metadata": {},
   "outputs": [],
   "source": [
    "y_pred = pd.DataFrame(y_pred)"
   ]
  },
  {
   "cell_type": "code",
   "execution_count": 59,
   "id": "a610e858",
   "metadata": {},
   "outputs": [],
   "source": [
    "y_test = y_test.reset_index(drop=True)"
   ]
  },
  {
   "cell_type": "code",
   "execution_count": 60,
   "id": "20b041d5",
   "metadata": {},
   "outputs": [],
   "source": [
    "resiudals_df = pd.concat([y_test,y_pred],axis=1)"
   ]
  },
  {
   "cell_type": "code",
   "execution_count": 61,
   "id": "180ea605",
   "metadata": {},
   "outputs": [],
   "source": [
    "residuals_df = residuals_df.rename(columns={\"body_mass_g\":\"y_test\", 0:\"y_pred\"})"
   ]
  },
  {
   "cell_type": "code",
   "execution_count": 62,
   "id": "3b0fc5df",
   "metadata": {},
   "outputs": [],
   "source": [
    "residuals_df[\"residual\"] = residuals_df[\"y_test\"]-residuals_df[\"y_pred\"]"
   ]
  },
  {
   "cell_type": "code",
   "execution_count": 63,
   "id": "120515dd",
   "metadata": {},
   "outputs": [
    {
     "data": {
      "text/html": [
       "<div>\n",
       "<style scoped>\n",
       "    .dataframe tbody tr th:only-of-type {\n",
       "        vertical-align: middle;\n",
       "    }\n",
       "\n",
       "    .dataframe tbody tr th {\n",
       "        vertical-align: top;\n",
       "    }\n",
       "\n",
       "    .dataframe thead th {\n",
       "        text-align: right;\n",
       "    }\n",
       "</style>\n",
       "<table border=\"1\" class=\"dataframe\">\n",
       "  <thead>\n",
       "    <tr style=\"text-align: right;\">\n",
       "      <th></th>\n",
       "      <th>y_test</th>\n",
       "      <th>y_pred</th>\n",
       "      <th>residual</th>\n",
       "    </tr>\n",
       "  </thead>\n",
       "  <tbody>\n",
       "    <tr>\n",
       "      <th>0</th>\n",
       "      <td>3250.0</td>\n",
       "      <td>3001.901576</td>\n",
       "      <td>248.098424</td>\n",
       "    </tr>\n",
       "    <tr>\n",
       "      <th>1</th>\n",
       "      <td>4875.0</td>\n",
       "      <td>5271.325621</td>\n",
       "      <td>-396.325621</td>\n",
       "    </tr>\n",
       "    <tr>\n",
       "      <th>2</th>\n",
       "      <td>4000.0</td>\n",
       "      <td>3920.819556</td>\n",
       "      <td>79.180444</td>\n",
       "    </tr>\n",
       "    <tr>\n",
       "      <th>3</th>\n",
       "      <td>3675.0</td>\n",
       "      <td>4053.835184</td>\n",
       "      <td>-378.835184</td>\n",
       "    </tr>\n",
       "    <tr>\n",
       "      <th>4</th>\n",
       "      <td>4050.0</td>\n",
       "      <td>3752.411909</td>\n",
       "      <td>297.588091</td>\n",
       "    </tr>\n",
       "  </tbody>\n",
       "</table>\n",
       "</div>"
      ],
      "text/plain": [
       "   y_test       y_pred    residual\n",
       "0  3250.0  3001.901576  248.098424\n",
       "1  4875.0  5271.325621 -396.325621\n",
       "2  4000.0  3920.819556   79.180444\n",
       "3  3675.0  4053.835184 -378.835184\n",
       "4  4050.0  3752.411909  297.588091"
      ]
     },
     "execution_count": 63,
     "metadata": {},
     "output_type": "execute_result"
    }
   ],
   "source": [
    "residuals_df.head()"
   ]
  },
  {
   "cell_type": "markdown",
   "id": "76f58d69",
   "metadata": {},
   "source": [
    "### Calculating metrics"
   ]
  },
  {
   "cell_type": "code",
   "execution_count": 64,
   "id": "2ed24fab",
   "metadata": {},
   "outputs": [],
   "source": [
    "mean_error = residuals_df[\"residual\"].mean()"
   ]
  },
  {
   "cell_type": "code",
   "execution_count": 65,
   "id": "a6b5d862",
   "metadata": {},
   "outputs": [
    {
     "data": {
      "text/plain": [
       "0.4256712769165244"
      ]
     },
     "execution_count": 65,
     "metadata": {},
     "output_type": "execute_result"
    }
   ],
   "source": [
    "mean_error"
   ]
  },
  {
   "cell_type": "code",
   "execution_count": 66,
   "id": "46364c4b",
   "metadata": {},
   "outputs": [],
   "source": [
    "from sklearn.metrics import mean_squared_error as mse , mean_absolute_error as mae"
   ]
  },
  {
   "cell_type": "code",
   "execution_count": 67,
   "id": "1def6df4",
   "metadata": {},
   "outputs": [
    {
     "data": {
      "text/plain": [
       "168814.01358079925"
      ]
     },
     "execution_count": 67,
     "metadata": {},
     "output_type": "execute_result"
    }
   ],
   "source": [
    "mse(y_test,y_pred)"
   ]
  },
  {
   "cell_type": "code",
   "execution_count": 68,
   "id": "57164c01",
   "metadata": {},
   "outputs": [
    {
     "data": {
      "text/plain": [
       "330.3598204973078"
      ]
     },
     "execution_count": 68,
     "metadata": {},
     "output_type": "execute_result"
    }
   ],
   "source": [
    "mae(y_test,y_pred)"
   ]
  },
  {
   "cell_type": "code",
   "execution_count": 69,
   "id": "0c00a401",
   "metadata": {},
   "outputs": [],
   "source": [
    "rmse = mse(y_test,y_pred, squared = False)\n"
   ]
  },
  {
   "cell_type": "markdown",
   "id": "0ee6b426",
   "metadata": {},
   "source": [
    "## Computing R2_score for train_set"
   ]
  },
  {
   "cell_type": "code",
   "execution_count": 70,
   "id": "4afae195",
   "metadata": {},
   "outputs": [],
   "source": [
    "from sklearn.metrics import r2_score"
   ]
  },
  {
   "cell_type": "code",
   "execution_count": 71,
   "id": "cac1590f",
   "metadata": {},
   "outputs": [
    {
     "data": {
      "text/plain": [
       "0.73"
      ]
     },
     "execution_count": 71,
     "metadata": {},
     "output_type": "execute_result"
    }
   ],
   "source": [
    "round(r2_score(y_test, y_pred),2)"
   ]
  },
  {
   "cell_type": "markdown",
   "id": "a9479754",
   "metadata": {},
   "source": [
    "## Computing R2_score for train_set"
   ]
  },
  {
   "cell_type": "code",
   "execution_count": 72,
   "id": "1afc1d13",
   "metadata": {},
   "outputs": [],
   "source": [
    "y_pred_train = pd.DataFrame(model.predict(X_train))\n",
    "#y_pred_train"
   ]
  },
  {
   "cell_type": "code",
   "execution_count": 73,
   "id": "8576e12a",
   "metadata": {},
   "outputs": [
    {
     "data": {
      "text/plain": [
       "0.77"
      ]
     },
     "execution_count": 73,
     "metadata": {},
     "output_type": "execute_result"
    }
   ],
   "source": [
    "round(r2_score(y_train, y_pred_train),2)"
   ]
  },
  {
   "cell_type": "code",
   "execution_count": 81,
   "id": "5f6fd51a",
   "metadata": {},
   "outputs": [],
   "source": [
    "feature_names = list(X_train.columns)"
   ]
  },
  {
   "cell_type": "code",
   "execution_count": 82,
   "id": "11d68970",
   "metadata": {},
   "outputs": [],
   "source": [
    "#feature importance(meaning the importance of the coeficients of variables) dataframe:\n",
    "\n",
    "coefficients = model.coef_"
   ]
  },
  {
   "cell_type": "code",
   "execution_count": 83,
   "id": "cd3d7560",
   "metadata": {},
   "outputs": [],
   "source": [
    "coefficients = [i for i in coefficients[0]]"
   ]
  },
  {
   "cell_type": "code",
   "execution_count": 85,
   "id": "09f51b90",
   "metadata": {},
   "outputs": [
    {
     "data": {
      "text/html": [
       "<div>\n",
       "<style scoped>\n",
       "    .dataframe tbody tr th:only-of-type {\n",
       "        vertical-align: middle;\n",
       "    }\n",
       "\n",
       "    .dataframe tbody tr th {\n",
       "        vertical-align: top;\n",
       "    }\n",
       "\n",
       "    .dataframe thead th {\n",
       "        text-align: right;\n",
       "    }\n",
       "</style>\n",
       "<table border=\"1\" class=\"dataframe\">\n",
       "  <thead>\n",
       "    <tr style=\"text-align: right;\">\n",
       "      <th></th>\n",
       "      <th>name</th>\n",
       "      <th>coeff</th>\n",
       "    </tr>\n",
       "  </thead>\n",
       "  <tbody>\n",
       "    <tr>\n",
       "      <th>0</th>\n",
       "      <td>flipper_length_mm</td>\n",
       "      <td>51.533039</td>\n",
       "    </tr>\n",
       "    <tr>\n",
       "      <th>1</th>\n",
       "      <td>bill_depth_mm</td>\n",
       "      <td>9.759100</td>\n",
       "    </tr>\n",
       "  </tbody>\n",
       "</table>\n",
       "</div>"
      ],
      "text/plain": [
       "                name      coeff\n",
       "0  flipper_length_mm  51.533039\n",
       "1      bill_depth_mm   9.759100"
      ]
     },
     "execution_count": 85,
     "metadata": {},
     "output_type": "execute_result"
    }
   ],
   "source": [
    "#fi_dict = dict(zip(feature_names, coefficients))\n",
    "fi = {\"name\": feature_names, \"coeff\": coefficients}\n",
    "fi_df = pd.DataFrame(fi)\n",
    "\n",
    "fi_df"
   ]
  },
  {
   "cell_type": "code",
   "execution_count": 86,
   "id": "7368bd1d",
   "metadata": {},
   "outputs": [
    {
     "data": {
      "text/plain": [
       "<AxesSubplot:xlabel='name', ylabel='coeff'>"
      ]
     },
     "execution_count": 86,
     "metadata": {},
     "output_type": "execute_result"
    },
    {
     "data": {
      "image/png": "[encoded data removed]",
      "text/plain": [
       "<Figure size 432x288 with 1 Axes>"
      ]
     },
     "metadata": {
      "needs_background": "light"
     },
     "output_type": "display_data"
    }
   ],
   "source": [
    "sns.barplot(x = fi_df[\"name\"], y =fi_df[\"coeff\"])"
   ]
  },
  {
   "cell_type": "code",
   "execution_count": null,
   "id": "ff4afc1f",
   "metadata": {},
   "outputs": [],
   "source": []
  }
 ],
 "metadata": {
  "kernelspec": {
   "display_name": "Python 3",
   "language": "python",
   "name": "python3"
  },
  "language_info": {
   "codemirror_mode": {
    "name": "ipython",
    "version": 3
   },
   "file_extension": ".py",
   "mimetype": "text/x-python",
   "name": "python",
   "nbconvert_exporter": "python",
   "pygments_lexer": "ipython3",
   "version": "3.8.8"
  }
 },
 "nbformat": 4,
 "nbformat_minor": 5
}
