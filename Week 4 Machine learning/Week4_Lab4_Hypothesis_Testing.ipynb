{
 "cells": [
  {
   "cell_type": "markdown",
   "id": "9f51ec98",
   "metadata": {},
   "source": [
    "## Instructions\n",
    "\n",
    "It is assumed that the mean systolic blood pressure is μ = 120 mm Hg. In the Honolulu Heart Study, a sample of n = 100 people had an average systolic blood pressure of 130.1 mm Hg with a standard deviation of 21.21 mm Hg. Is the group significantly different (with respect to systolic blood pressure!) from the regular population?\n",
    "\n",
    "Set up the hypothesis test.\n",
    "Write down all the steps followed for setting up the test.\n",
    "Calculate the test statistic by hand and also code it in Python. It should be 4.76190. What decision can you make based on this calculated value?\n"
   ]
  },
  {
   "cell_type": "code",
   "execution_count": 1,
   "id": "90e1f067",
   "metadata": {},
   "outputs": [],
   "source": [
    "import numpy as np\n",
    "import pandas as pd\n",
    "import scipy.stats as stats\n",
    "import matplotlib.pyplot as plt\n",
    "import seaborn as sns\n",
    "\n",
    "%matplotlib inline"
   ]
  },
  {
   "cell_type": "markdown",
   "id": "c950a448",
   "metadata": {},
   "source": [
    "## Problem statement:"
   ]
  },
  {
   "cell_type": "markdown",
   "id": "989395a0",
   "metadata": {},
   "source": [
    "Assumed The mean systolic blood pressure is μ = 120 mm Hg.\n",
    "However the Honolulu Heart Study, with a sample of n = 100 people \n",
    "had an average systolic blood pressure of 130.1 mm Hg \n",
    "with a standard deviation of 21.21 mm Hg.\n",
    "\n",
    "Is the group significantly different with respect to the assumed systolic blood pressure :(\n",
    "\n",
    "- H0: mu = 120 mm Hg\n",
    "- H1: mu!= 120 mm Hg"
   ]
  },
  {
   "cell_type": "code",
   "execution_count": 7,
   "id": "76c664d8",
   "metadata": {},
   "outputs": [
    {
     "data": {
      "text/plain": [
       "2.121"
      ]
     },
     "execution_count": 7,
     "metadata": {},
     "output_type": "execute_result"
    }
   ],
   "source": [
    "a_mean_blood_p= 120\n",
    "s_size= 100\n",
    "#population_stand_dev= not known\n",
    "sample_mean_blood_p= 130.1\n",
    "sample_stand_dev= 21.21\n",
    "sem = sample_stand_dev/np.sqrt(s_size)\n",
    "sem"
   ]
  },
  {
   "cell_type": "code",
   "execution_count": 8,
   "id": "abb4cad7",
   "metadata": {},
   "outputs": [
    {
     "name": "stdout",
     "output_type": "stream",
     "text": [
      "The z score of our sample is: 4.76\n"
     ]
    }
   ],
   "source": [
    "z = (sample_mean_blood_p-a_mean_blood_p)/sem\n",
    "print(\"The z score of our sample is: {:.2f}\".format(z))"
   ]
  },
  {
   "cell_type": "code",
   "execution_count": 9,
   "id": "4ff0c388",
   "metadata": {},
   "outputs": [
    {
     "name": "stdout",
     "output_type": "stream",
     "text": [
      "The critical value corresponding to a 0.95 area of a t distribution is: 1.98\n"
     ]
    }
   ],
   "source": [
    "zc = stats.t.ppf(1-(0.05/2), df = 99)\n",
    "print(\"The critical value corresponding to a 0.95 area of a t distribution is: {:.2f}\".format(zc))"
   ]
  },
  {
   "cell_type": "code",
   "execution_count": 11,
   "id": "a78da4d9",
   "metadata": {},
   "outputs": [
    {
     "name": "stdout",
     "output_type": "stream",
     "text": [
      "2.52258034165477\n"
     ]
    }
   ],
   "source": [
    "p_value = stats.t.sf(1.98, df = 100)\n",
    "print(p_value*100) #less than 2% likely probablility of observing a mean systolic blood pressure, meaning very low so we can rejecto our H0 and accept the alternative hypothesis"
   ]
  },
  {
   "cell_type": "code",
   "execution_count": null,
   "id": "1aba74a9",
   "metadata": {},
   "outputs": [],
   "source": []
  }
 ],
 "metadata": {
  "kernelspec": {
   "display_name": "Python 3",
   "language": "python",
   "name": "python3"
  },
  "language_info": {
   "codemirror_mode": {
    "name": "ipython",
    "version": 3
   },
   "file_extension": ".py",
   "mimetype": "text/x-python",
   "name": "python",
   "nbconvert_exporter": "python",
   "pygments_lexer": "ipython3",
   "version": "3.8.8"
  }
 },
 "nbformat": 4,
 "nbformat_minor": 5
}
